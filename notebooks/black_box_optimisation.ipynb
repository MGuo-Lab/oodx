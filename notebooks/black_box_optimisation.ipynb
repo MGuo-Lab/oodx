{
 "cells": [
  {
   "cell_type": "markdown",
   "metadata": {},
   "source": [
    "# Black Box Optimisation\n",
    "## Introduction\n",
    "This notebook showcases the `sumomo` package enabling surrogate modelling and optimisation of black box models. To begin, ensure that this notebook directory is in the system path and then proceed to import the *Application Programming Interface* `api` from `sumomo` which enables the interface between the package frameworks and black box models. Also import the various utility and plotting functions from `utils` such as the `peaks` function used as an example black box function used in this notebook."
   ]
  },
  {
   "cell_type": "code",
   "execution_count": 1,
   "metadata": {},
   "outputs": [
    {
     "data": {
      "image/png": "[encoded data removed]",
      "text/plain": [
       "<Figure size 288x216 with 1 Axes>"
      ]
     },
     "metadata": {
      "needs_background": "light"
     },
     "output_type": "display_data"
    }
   ],
   "source": [
    "import os\n",
    "import sys\n",
    "nb_dir = os.path.split(os.getcwd())[0]\n",
    "if nb_dir not in sys.path:\n",
    "    sys.path.append(nb_dir)\n",
    "\n",
    "import numpy as np\n",
    "import pyomo.environ as pyo\n",
    "\n",
    "from sumomo import api\n",
    "from utils import peaks, plot_peaks, plot_sampling, plot_model\n",
    "\n",
    "\n",
    "plot_peaks()"
   ]
  },
  {
   "cell_type": "markdown",
   "metadata": {},
   "source": [
    "## Initialise\n",
    "\n",
    "Use `api.initialise` to produce an initial set of statis samples and initialised output variable and target arrays. The `initialise` method requires input attributes `n_samples` and `input_space` where the former is the total number of input samples to generate and the latter is the search space defined by lower and upper bounds on each dimension. If the number of outputs to be sampled is greater than 1 (default), `n_outputs` can be specified. Finally, the sampling strategy to be used can be defined with the `method` attribute. The default sampling strategy is Latin Hypercube Sampling `lhs` with a *maximin* criterion to maximise the minimal pairwise distance between samples. Implementations of LHS and Sobol sampling from `skopt` are available in addition to grid sampling and random sampling methods.\n",
    "\n",
    "Here, 100 input samples are generated for 2 input variables each bounded between (-3.0, 3.0) using LHS. A 1 dimensional output vector is initialised as well as the target vector. Output vectors are intialised with zero values as the default to represent an unsampled output whilst also existing at the mean after standardisation of the data. The target data is intialised as ones as the default representing converged simulations, enabling the framework to be used without feasibility constraints in the default case."
   ]
  },
  {
   "cell_type": "code",
   "execution_count": 2,
   "metadata": {
    "scrolled": true
   },
   "outputs": [
    {
     "data": {
      "image/png": "[encoded data removed]",
      "text/plain": [
       "<Figure size 288x216 with 1 Axes>"
      ]
     },
     "metadata": {
      "needs_background": "light"
     },
     "output_type": "display_data"
    },
    {
     "data": {
      "image/png": "[encoded data removed]",
      "text/plain": [
       "<Figure size 288x216 with 1 Axes>"
      ]
     },
     "metadata": {
      "needs_background": "light"
     },
     "output_type": "display_data"
    },
    {
     "data": {
      "image/png": "[encoded data removed]",
      "text/plain": [
       "<Figure size 288x216 with 1 Axes>"
      ]
     },
     "metadata": {
      "needs_background": "light"
     },
     "output_type": "display_data"
    },
    {
     "data": {
      "image/png": "[encoded data removed]",
      "text/plain": [
       "<Figure size 288x216 with 1 Axes>"
      ]
     },
     "metadata": {
      "needs_background": "light"
     },
     "output_type": "display_data"
    }
   ],
   "source": [
    "n = 64\n",
    "for strategy in ['random', 'lhs', 'sobol', 'grid']:\n",
    "    api.initialise(n, [(-1.0, 1.0), (-1.0, 1.0)], 1, strategy)\n",
    "    plot_sampling(api)"
   ]
  },
  {
   "cell_type": "code",
   "execution_count": 3,
   "metadata": {},
   "outputs": [
    {
     "name": "stdout",
     "output_type": "stream",
     "text": [
      "[[-1.40818468  1.45047383]\n",
      " [ 2.67670421 -0.15265835]\n",
      " [-0.81619602  1.59598194]\n",
      " [ 2.85008697  1.94349462]\n",
      " [-1.54397102 -1.04439015]\n",
      " [ 1.74982228  2.92326362]\n",
      " [ 1.1428939  -0.80505203]\n",
      " [ 2.47899851  1.3234534 ]\n",
      " [-2.40847226  1.22067345]\n",
      " [-2.9715802  -2.04695861]\n",
      " [ 1.83038738 -1.3107103 ]\n",
      " [ 1.25351606 -0.28982868]\n",
      " [ 1.67433897  0.9873603 ]\n",
      " [-2.58359496  0.88342224]\n",
      " [ 0.92323193  0.13039364]\n",
      " [-0.76616689  2.14622488]\n",
      " [ 0.48131233 -1.23708655]\n",
      " [ 1.41593351 -2.9599269 ]\n",
      " [ 2.97249006  2.38776202]\n",
      " [ 1.90328135 -1.15476522]\n",
      " [-1.73040846  0.69765073]\n",
      " [-0.41323034  0.91834243]\n",
      " [ 2.34758536  0.82508118]\n",
      " [-0.88926169  2.65400036]\n",
      " [-1.46490799 -0.04598801]\n",
      " [-0.96643298 -0.09459465]\n",
      " [ 0.0107774  -1.63740185]\n",
      " [ 1.54581393 -1.58682876]\n",
      " [-0.09269989 -2.28331235]\n",
      " [ 1.44520012  0.02911394]\n",
      " [-2.37052144 -2.8371052 ]\n",
      " [ 2.75517639 -2.60065727]\n",
      " [ 1.69577088 -1.75791316]\n",
      " [-1.9904169   1.27409424]\n",
      " [-1.13523377 -0.40541367]\n",
      " [-1.83064883  0.10697858]\n",
      " [ 2.13954037 -2.7121721 ]\n",
      " [ 1.96696255 -0.71253377]\n",
      " [-2.19567712 -1.09454174]\n",
      " [ 0.58120668 -0.18624498]\n",
      " [-1.35383427 -1.39341515]\n",
      " [-1.56300966 -0.59192941]\n",
      " [ 0.41492326 -1.53693257]\n",
      " [-1.90775814  1.8625259 ]\n",
      " [ 0.23345032 -2.57636321]\n",
      " [ 0.30378411 -2.9011059 ]\n",
      " [-0.255068    1.64147035]\n",
      " [ 2.21582987  0.65124388]\n",
      " [ 2.44388568  0.52555199]\n",
      " [-0.23163774  2.18037123]\n",
      " [ 2.90397957  1.14628715]\n",
      " [ 1.09702728 -2.78634309]\n",
      " [ 2.52282917 -0.44527882]\n",
      " [-0.14807834  2.61941253]\n",
      " [ 0.65591557 -1.01531674]\n",
      " [-0.59523088  0.72783957]\n",
      " [-2.48307929  1.05630937]\n",
      " [ 0.88129009 -0.84923886]\n",
      " [ 1.03212811  2.07501785]\n",
      " [-0.94558564 -0.31122396]\n",
      " [-0.62426844 -2.50418635]\n",
      " [-1.24020459  0.31743087]\n",
      " [ 0.74600086 -0.53515675]\n",
      " [-0.52766124  1.78985038]\n",
      " [ 2.28933574  1.99356805]\n",
      " [-2.32898061 -2.4077594 ]\n",
      " [-2.72189945  2.52415694]\n",
      " [ 1.3005001  -1.35769904]\n",
      " [-1.14575788 -1.83072324]\n",
      " [-1.07052346  0.29197527]\n",
      " [ 0.15173264  2.45154581]\n",
      " [-1.26175422  2.73576734]\n",
      " [-2.88249779 -1.4784956 ]\n",
      " [ 1.37283856  1.72507413]\n",
      " [ 1.99597364  1.53559364]\n",
      " [ 2.06688129 -1.72384793]\n",
      " [-0.4778326  -1.95397662]\n",
      " [-1.94006591  2.518126  ]\n",
      " [-2.83960696  2.85003003]\n",
      " [ 1.00859256  0.56326881]\n",
      " [ 2.60315209 -1.91173374]\n",
      " [ 0.69684798  2.24668328]\n",
      " [ 2.81691592 -2.19565411]\n",
      " [-1.75005745 -2.24618604]\n",
      " [-2.0791692   0.46696602]\n",
      " [ 0.25689795  2.78595741]\n",
      " [ 0.78907062  0.23045536]\n",
      " [-0.66210874 -0.7555566 ]\n",
      " [-2.26486767  0.38621768]\n",
      " [-2.79269057  1.85463353]\n",
      " [-1.62207713 -2.10805132]\n",
      " [ 0.10715372 -0.63890867]\n",
      " [ 1.6103113  -0.95362827]\n",
      " [ 2.27011643 -1.99678762]\n",
      " [-2.69399588  1.1152687 ]\n",
      " [-2.54506773 -2.67322367]\n",
      " [ 0.43547738  1.39108515]\n",
      " [-0.05738389  2.30194018]\n",
      " [-0.3071094  -2.39068114]\n",
      " [-2.10036984  2.97898799]]\n",
      "[[0.]\n",
      " [0.]\n",
      " [0.]\n",
      " [0.]\n",
      " [0.]\n",
      " [0.]\n",
      " [0.]\n",
      " [0.]\n",
      " [0.]\n",
      " [0.]\n",
      " [0.]\n",
      " [0.]\n",
      " [0.]\n",
      " [0.]\n",
      " [0.]\n",
      " [0.]\n",
      " [0.]\n",
      " [0.]\n",
      " [0.]\n",
      " [0.]\n",
      " [0.]\n",
      " [0.]\n",
      " [0.]\n",
      " [0.]\n",
      " [0.]\n",
      " [0.]\n",
      " [0.]\n",
      " [0.]\n",
      " [0.]\n",
      " [0.]\n",
      " [0.]\n",
      " [0.]\n",
      " [0.]\n",
      " [0.]\n",
      " [0.]\n",
      " [0.]\n",
      " [0.]\n",
      " [0.]\n",
      " [0.]\n",
      " [0.]\n",
      " [0.]\n",
      " [0.]\n",
      " [0.]\n",
      " [0.]\n",
      " [0.]\n",
      " [0.]\n",
      " [0.]\n",
      " [0.]\n",
      " [0.]\n",
      " [0.]\n",
      " [0.]\n",
      " [0.]\n",
      " [0.]\n",
      " [0.]\n",
      " [0.]\n",
      " [0.]\n",
      " [0.]\n",
      " [0.]\n",
      " [0.]\n",
      " [0.]\n",
      " [0.]\n",
      " [0.]\n",
      " [0.]\n",
      " [0.]\n",
      " [0.]\n",
      " [0.]\n",
      " [0.]\n",
      " [0.]\n",
      " [0.]\n",
      " [0.]\n",
      " [0.]\n",
      " [0.]\n",
      " [0.]\n",
      " [0.]\n",
      " [0.]\n",
      " [0.]\n",
      " [0.]\n",
      " [0.]\n",
      " [0.]\n",
      " [0.]\n",
      " [0.]\n",
      " [0.]\n",
      " [0.]\n",
      " [0.]\n",
      " [0.]\n",
      " [0.]\n",
      " [0.]\n",
      " [0.]\n",
      " [0.]\n",
      " [0.]\n",
      " [0.]\n",
      " [0.]\n",
      " [0.]\n",
      " [0.]\n",
      " [0.]\n",
      " [0.]\n",
      " [0.]\n",
      " [0.]\n",
      " [0.]\n",
      " [0.]]\n",
      "[[1.]\n",
      " [1.]\n",
      " [1.]\n",
      " [1.]\n",
      " [1.]\n",
      " [1.]\n",
      " [1.]\n",
      " [1.]\n",
      " [1.]\n",
      " [1.]\n",
      " [1.]\n",
      " [1.]\n",
      " [1.]\n",
      " [1.]\n",
      " [1.]\n",
      " [1.]\n",
      " [1.]\n",
      " [1.]\n",
      " [1.]\n",
      " [1.]\n",
      " [1.]\n",
      " [1.]\n",
      " [1.]\n",
      " [1.]\n",
      " [1.]\n",
      " [1.]\n",
      " [1.]\n",
      " [1.]\n",
      " [1.]\n",
      " [1.]\n",
      " [1.]\n",
      " [1.]\n",
      " [1.]\n",
      " [1.]\n",
      " [1.]\n",
      " [1.]\n",
      " [1.]\n",
      " [1.]\n",
      " [1.]\n",
      " [1.]\n",
      " [1.]\n",
      " [1.]\n",
      " [1.]\n",
      " [1.]\n",
      " [1.]\n",
      " [1.]\n",
      " [1.]\n",
      " [1.]\n",
      " [1.]\n",
      " [1.]\n",
      " [1.]\n",
      " [1.]\n",
      " [1.]\n",
      " [1.]\n",
      " [1.]\n",
      " [1.]\n",
      " [1.]\n",
      " [1.]\n",
      " [1.]\n",
      " [1.]\n",
      " [1.]\n",
      " [1.]\n",
      " [1.]\n",
      " [1.]\n",
      " [1.]\n",
      " [1.]\n",
      " [1.]\n",
      " [1.]\n",
      " [1.]\n",
      " [1.]\n",
      " [1.]\n",
      " [1.]\n",
      " [1.]\n",
      " [1.]\n",
      " [1.]\n",
      " [1.]\n",
      " [1.]\n",
      " [1.]\n",
      " [1.]\n",
      " [1.]\n",
      " [1.]\n",
      " [1.]\n",
      " [1.]\n",
      " [1.]\n",
      " [1.]\n",
      " [1.]\n",
      " [1.]\n",
      " [1.]\n",
      " [1.]\n",
      " [1.]\n",
      " [1.]\n",
      " [1.]\n",
      " [1.]\n",
      " [1.]\n",
      " [1.]\n",
      " [1.]\n",
      " [1.]\n",
      " [1.]\n",
      " [1.]\n",
      " [1.]]\n"
     ]
    }
   ],
   "source": [
    "api.initialise(n_samples=100, input_space=[(-3.0, 3.0), (-3.0, 3.0)], n_outputs=1, method='lhs')\n",
    "\n",
    "print(api.x)\n",
    "print(api.y)\n",
    "print(api.t)"
   ]
  },
  {
   "cell_type": "markdown",
   "metadata": {},
   "source": [
    "## Sampling\n",
    "\n",
    "The API provides the initialised output and target arrays, but it is necessary to script the population of these empty arrays with the sampled black box data manually. This is due to different black box models and simulations having different Python interfacing capabilities. Typically, one input sample is sent to the black box to be evaluated, so this is simulated here using a `for` loop to iterate over the input samples one-by-one. For each input sample `x[i]`, a corresponding output `y[i]` is evaluated along with a binary target `t[i]` representing a converged sample (1) or non-converged sample (0). The peaks function is used as the black box to generate input-output data. Feasible designs (i.e. converged or `t=1`) are constrained to within a circle with radius 2 (or infeasible designs are defined as those outside this circles boundary since `t` is 1 by default) for demonstrative purposes. When sampling from black box simulations in practice, there is typically a black box variable which defines the convergence enabling the user to explicitly sample target data."
   ]
  },
  {
   "cell_type": "code",
   "execution_count": 4,
   "metadata": {},
   "outputs": [
    {
     "name": "stdout",
     "output_type": "stream",
     "text": [
      "[[ 6.27957350e-01]\n",
      " [ 1.44036191e-01]\n",
      " [ 3.99265901e+00]\n",
      " [ 3.41614476e-03]\n",
      " [ 2.73916321e-01]\n",
      " [ 1.98793698e-02]\n",
      " [ 1.32615858e+00]\n",
      " [ 6.99709663e-02]\n",
      " [-8.30626501e-02]\n",
      " [ 8.44915101e-04]\n",
      " [ 1.85295019e-01]\n",
      " [ 3.30215750e+00]\n",
      " [ 1.21256430e+00]\n",
      " [-1.04671843e-01]\n",
      " [ 2.51901192e+00]\n",
      " [ 2.50969278e+00]\n",
      " [-4.35121139e+00]\n",
      " [-4.59089612e-02]\n",
      " [ 5.01964729e-04]\n",
      " [ 3.77909830e-01]\n",
      " [-1.49467230e+00]\n",
      " [ 2.43877261e+00]\n",
      " [ 2.63699235e-01]\n",
      " [ 5.18862937e-01]\n",
      " [-2.73695702e+00]\n",
      " [-1.08449229e+00]\n",
      " [-6.11459044e+00]\n",
      " [-4.35409819e-01]\n",
      " [-2.66451702e+00]\n",
      " [ 3.40247917e+00]\n",
      " [ 1.93565628e-03]\n",
      " [-2.15202318e-04]\n",
      " [-2.68097741e-01]\n",
      " [-1.76774736e-01]\n",
      " [-5.46418018e-01]\n",
      " [-1.91635612e+00]\n",
      " [-6.88670859e-03]\n",
      " [ 9.37763695e-01]\n",
      " [-6.43508622e-02]\n",
      " [ 7.17438831e-01]\n",
      " [ 5.22434286e-01]\n",
      " [-9.11717925e-01]\n",
      " [-6.16732764e+00]\n",
      " [ 1.25310719e-01]\n",
      " [-1.26963946e+00]\n",
      " [-3.78871561e-01]\n",
      " [ 7.55933107e+00]\n",
      " [ 5.11299692e-01]\n",
      " [ 2.74998723e-01]\n",
      " [ 4.02579282e+00]\n",
      " [ 1.51590949e-02]\n",
      " [-2.12428571e-01]\n",
      " [ 2.28112774e-01]\n",
      " [ 1.26386261e+00]\n",
      " [-1.92941783e+00]\n",
      " [ 5.68403736e-01]\n",
      " [-1.03883980e-01]\n",
      " [ 1.62983526e-01]\n",
      " [ 1.83007574e+00]\n",
      " [ 1.40846749e-01]\n",
      " [-7.04951987e-01]\n",
      " [-2.93094177e+00]\n",
      " [ 1.03341575e+00]\n",
      " [ 5.62638729e+00]\n",
      " [ 4.28167273e-02]\n",
      " [ 7.56966936e-03]\n",
      " [ 8.29020915e-04]\n",
      " [-7.36298131e-01]\n",
      " [-2.05924911e-01]\n",
      " [-2.48450294e+00]\n",
      " [ 2.12268198e+00]\n",
      " [ 1.73024262e-01]\n",
      " [-6.48227212e-04]\n",
      " [ 1.36250142e+00]\n",
      " [ 2.83425279e-01]\n",
      " [-2.04310354e-02]\n",
      " [-2.88982845e+00]\n",
      " [ 3.83256446e-02]\n",
      " [ 1.51476266e-04]\n",
      " [ 2.31517308e+00]\n",
      " [ 1.34654994e-03]\n",
      " [ 2.27072049e+00]\n",
      " [ 5.13071190e-06]\n",
      " [ 3.60389400e-02]\n",
      " [-9.51460061e-01]\n",
      " [ 6.68807038e-01]\n",
      " [ 1.70289908e+00]\n",
      " [ 3.39536501e+00]\n",
      " [-5.99093106e-01]\n",
      " [-3.29954420e-04]\n",
      " [ 4.68166362e-02]\n",
      " [ 1.17766771e+00]\n",
      " [ 1.00646467e+00]\n",
      " [-1.16239368e-02]\n",
      " [-4.02461610e-02]\n",
      " [ 1.65511573e-03]\n",
      " [ 6.21405024e+00]\n",
      " [ 3.21911401e+00]\n",
      " [-1.66692308e+00]\n",
      " [ 3.82012303e-03]]\n",
      "[[0.]\n",
      " [0.]\n",
      " [1.]\n",
      " [0.]\n",
      " [1.]\n",
      " [0.]\n",
      " [1.]\n",
      " [0.]\n",
      " [0.]\n",
      " [0.]\n",
      " [0.]\n",
      " [1.]\n",
      " [1.]\n",
      " [0.]\n",
      " [1.]\n",
      " [0.]\n",
      " [1.]\n",
      " [0.]\n",
      " [0.]\n",
      " [0.]\n",
      " [1.]\n",
      " [1.]\n",
      " [0.]\n",
      " [0.]\n",
      " [1.]\n",
      " [1.]\n",
      " [1.]\n",
      " [0.]\n",
      " [0.]\n",
      " [1.]\n",
      " [0.]\n",
      " [0.]\n",
      " [0.]\n",
      " [0.]\n",
      " [1.]\n",
      " [1.]\n",
      " [0.]\n",
      " [0.]\n",
      " [0.]\n",
      " [1.]\n",
      " [1.]\n",
      " [1.]\n",
      " [1.]\n",
      " [0.]\n",
      " [0.]\n",
      " [0.]\n",
      " [1.]\n",
      " [0.]\n",
      " [0.]\n",
      " [0.]\n",
      " [0.]\n",
      " [0.]\n",
      " [0.]\n",
      " [0.]\n",
      " [1.]\n",
      " [1.]\n",
      " [0.]\n",
      " [1.]\n",
      " [0.]\n",
      " [1.]\n",
      " [0.]\n",
      " [1.]\n",
      " [1.]\n",
      " [1.]\n",
      " [0.]\n",
      " [0.]\n",
      " [0.]\n",
      " [1.]\n",
      " [0.]\n",
      " [1.]\n",
      " [0.]\n",
      " [0.]\n",
      " [0.]\n",
      " [0.]\n",
      " [0.]\n",
      " [0.]\n",
      " [0.]\n",
      " [0.]\n",
      " [0.]\n",
      " [1.]\n",
      " [0.]\n",
      " [0.]\n",
      " [0.]\n",
      " [0.]\n",
      " [0.]\n",
      " [0.]\n",
      " [1.]\n",
      " [1.]\n",
      " [0.]\n",
      " [0.]\n",
      " [0.]\n",
      " [1.]\n",
      " [1.]\n",
      " [0.]\n",
      " [0.]\n",
      " [0.]\n",
      " [1.]\n",
      " [0.]\n",
      " [0.]\n",
      " [0.]]\n"
     ]
    }
   ],
   "source": [
    "for i in range(api.x.shape[0]):\n",
    "    api.y[i] = peaks(api.x[i])\n",
    "    if ( api.x[i, 0] ** 2 + api.x[i, 1] ** 2 > 4 ):\n",
    "        api.t[i] = 0\n",
    "\n",
    "print(api.y)\n",
    "print(api.t)"
   ]
  },
  {
   "cell_type": "markdown",
   "metadata": {},
   "source": [
    "## Data processing\n",
    "\n",
    "Before using data `x, y, t` to train surrogate models, any train-test-splits and appropriate scaling must be used (in this order - split then scale).\n",
    "\n",
    "### Train-test-split\n",
    "\n",
    "The `split` method can be used to partition the `x, y, t` data into training and testing sets, `x_train, y_train, t_train` and `x_test, y_test, t_test`. This enables users to train the surrogate models using most of the sampled data whilst witholding some data from the model to be used to test the trained model performance without necessitating further sampling from the expensive black box. The `split` method takes the parameter `test-size` enabling the user to decide what fraction of the data to withold for testing purposes (default is 0.3)."
   ]
  },
  {
   "cell_type": "code",
   "execution_count": 5,
   "metadata": {},
   "outputs": [
    {
     "name": "stdout",
     "output_type": "stream",
     "text": [
      "(70, 2)\n"
     ]
    }
   ],
   "source": [
    "api.split(test_size=0.3)\n",
    "\n",
    "print(api.x_train.shape)"
   ]
  },
  {
   "cell_type": "markdown",
   "metadata": {},
   "source": [
    "### Standardisation\n",
    "\n",
    "It is important that prior to training surrogate models, the input-output data is scaled appropriately. Specifically, scaling over the samples, for each dimension, ensures that variables with large magnitudes do not have a greater influence on measures of surrogate model fit which would result in overfitting to specific dimensions at the cost of overall model accuracy.\n",
    "\n",
    "The scaling method uses standarisation to subtract the mean and divide the result by the standard deviation so that each dimension follows a normal distribution with mean 0 and a standard deviation of 1. When the data is not split beforehand, `x` is simply standardised over the entire dataset to generate `x_` and the `api` object also saves the `x_mean` and `x_std` values for future scaling and descaling purposes. Here, `x_mean` and `x_std` are used to scale the `space` paramter to provide bounds of the scaled search space as `space_`. In this case, `y` is standardised using the `y_mean` and `y_std` of only the converged output data to produce `y_`.\n",
    "\n",
    "It is important to split and then scale the data so that training data is scaled using only the training data and not the full data set. For the input data, this case produces `x_train_`, whilst `x_train_mean` and `x_train_std` values are used to standarise `x_test_` into the same scaled space as the training data which was used to train the surrogate model. In this case, `space_` is also generated using `x_train_mean` and `x_train_std`. Similarly, `y_train_` and `y_test_` are both standarised using `y_train_mean` and `y_train_std` of converged training outputs only."
   ]
  },
  {
   "cell_type": "code",
   "execution_count": 6,
   "metadata": {},
   "outputs": [
    {
     "name": "stdout",
     "output_type": "stream",
     "text": [
      "[0.4574376] [2.67441928]\n"
     ]
    }
   ],
   "source": [
    "api.scale()\n",
    "\n",
    "print(api.y_train_mean, api.y_train_std)"
   ]
  },
  {
   "cell_type": "markdown",
   "metadata": {},
   "source": [
    "## Regressor model training\n",
    "\n",
    "The `init_regressor` method can be used to fit a regression surrogate model to the scaled input-output data. This methods recieves a parameter `type` as a string to define whether to use a Gaussian Process Regressor `gp` or a Neural Network `nn`. In addition, the user can pass keyword arguments to define the setup of the particular model. For example, for a NN, the user must specify parameters `hidden_layers` as a list of number of nodes in each hidden layer (e.g. `hidden_layers=[10, 10]`) and `activation` as a string to define the activation function applied to each hidden layer. Activation functions available are `tanh`, `sigmoid`, `softplus`, and `relu`. For a GP model users can specify a level of `noise`.\n",
    "\n",
    "To train the surrogate model the user uses the relevant methods provided by the model object interfaced through `api.regressor`. It should be noted that the regressor models are typically fitted to standardised input-output data or standardised training data using `api.regressor.fit(api.x_, api.y_)` or `api.regressor.fit(api.x_train_, api.y_train_)` respectively."
   ]
  },
  {
   "cell_type": "code",
   "execution_count": 7,
   "metadata": {},
   "outputs": [
    {
     "name": "stdout",
     "output_type": "stream",
     "text": [
      "NN(\n",
      "  (network): Sequential(\n",
      "    (0): Linear(in_features=2, out_features=15, bias=True)\n",
      "    (1): Tanh()\n",
      "    (2): Linear(in_features=15, out_features=5, bias=True)\n",
      "    (3): Tanh()\n",
      "    (4): Linear(in_features=5, out_features=1, bias=True)\n",
      "  )\n",
      "  (loss_func): MSELoss()\n",
      ")\n"
     ]
    }
   ],
   "source": [
    "api.init_regressor('nn', hidden_layers=[15, 5], activation='tanh')\n",
    "api.regressor.fit(api.x_train_, api.y_train_)\n",
    "\n",
    "print(api.regressor)"
   ]
  },
  {
   "cell_type": "markdown",
   "metadata": {},
   "source": [
    "## Classifier model training\n",
    "\n",
    "The `init_classifier` method can be used to fit a classification surrogate model to the scaled input data and binary target data. This methods also recieves a parameter `type` as a string to define whether to use a Gaussian Process Classifier `gp` or a Neural Network `nn`. The user passes keyword arguments to define the setup of the model in the same way as for regression models. NNs recieve the same parameters `hidden_layers` and `activation` whereas GPs do not have any customisable parameters. Activation functions available for classification are `sigmoid`or `hardsigmoid` where these function are applied to hidden layers and the output layer in the classification case.\n",
    "\n",
    "To train the surrogate model the user uses the relevant methods provided by the model object interfaced through `api.classifier`. The classifier is typically trained using scaled input data and target data or the training equivalents using `api.classifier.fit(api.x_, api.t)` or `api.classifier.fit(api.x_train_, api.t_train)`, respectively."
   ]
  },
  {
   "cell_type": "code",
   "execution_count": 8,
   "metadata": {},
   "outputs": [
    {
     "name": "stdout",
     "output_type": "stream",
     "text": [
      "NNClassifier(\n",
      "  (network): Sequential(\n",
      "    (0): Linear(in_features=2, out_features=10, bias=True)\n",
      "    (1): Sigmoid()\n",
      "    (2): Linear(in_features=10, out_features=1, bias=True)\n",
      "    (3): Sigmoid()\n",
      "  )\n",
      "  (loss_func): MSELoss()\n",
      ")\n"
     ]
    }
   ],
   "source": [
    "api.init_classifier('nn', hidden_layers=[10], activation='sigmoid')\n",
    "api.classifier.fit(api.x_train_, api.t_train)\n",
    "\n",
    "print(api.classifier)"
   ]
  },
  {
   "cell_type": "markdown",
   "metadata": {},
   "source": [
    "## Pyomo formulations\n",
    "\n",
    "### Foundations\n",
    "\n",
    "The `api` provided by `sumomo` enables the optimisation formualations of trained surrogate models to be plugged into larger optimisation formulations where required. To show this, begin initialising an optimisation problem saved as `opt`. This optimisation problem has variables `inputs` with the same dimensions as our surrogate model inputs, a scalar `output` variable, and a scalar variable `feasibility`. Here, also define a constraint for this larger optimisation formulation that the feasibility probability must be greater than 0.5. Finally, define the objective function as maximise `output`."
   ]
  },
  {
   "cell_type": "code",
   "execution_count": 9,
   "metadata": {},
   "outputs": [
    {
     "name": "stdout",
     "output_type": "stream",
     "text": [
      "1 Set Declarations\n",
      "    inputs_index : Size=1, Index=None, Ordered=False\n",
      "        Key  : Dimen : Domain : Size : Members\n",
      "        None :     1 :    Any :    2 : {0, 1}\n",
      "\n",
      "3 Var Declarations\n",
      "    feasibility : Size=1, Index=None\n",
      "        Key  : Lower : Value : Upper : Fixed : Stale : Domain\n",
      "        None :  None :  None :  None : False :  True :  Reals\n",
      "    inputs : Size=2, Index=inputs_index\n",
      "        Key : Lower : Value : Upper : Fixed : Stale : Domain\n",
      "          0 :  None :  None :  None : False :  True :  Reals\n",
      "          1 :  None :  None :  None : False :  True :  Reals\n",
      "    output : Size=1, Index=None\n",
      "        Key  : Lower : Value : Upper : Fixed : Stale : Domain\n",
      "        None :  None :  None :  None : False :  True :  Reals\n",
      "\n",
      "1 Objective Declarations\n",
      "    obj : Size=1, Index=None, Active=True\n",
      "        Key  : Active : Sense    : Expression\n",
      "        None :   True : maximize :     output\n",
      "\n",
      "1 Constraint Declarations\n",
      "    feasibility_con : Size=1, Index=None, Active=True\n",
      "        Key  : Lower : Body        : Upper : Active\n",
      "        None :   0.5 : feasibility :  +Inf :   True\n",
      "\n",
      "6 Declarations: inputs_index inputs output feasibility feasibility_con obj\n"
     ]
    }
   ],
   "source": [
    "opt = pyo.ConcreteModel()\n",
    "\n",
    "opt.n_inputs = set(range(api.x.shape[1]))\n",
    "\n",
    "opt.inputs = pyo.Var(opt.n_inputs)\n",
    "opt.output = pyo.Var()\n",
    "opt.feasibility = pyo.Var()\n",
    "\n",
    "opt.feasibility_con = pyo.Constraint(expr=opt.feasibility >= 0.5 )\n",
    "\n",
    "opt.obj = pyo.Objective(expr=opt.output, sense=pyo.maximize)\n",
    "\n",
    "opt.pprint()"
   ]
  },
  {
   "cell_type": "markdown",
   "metadata": {},
   "source": [
    "### Formulating surrogate model constraints\n",
    "\n",
    "The constraints defining the relationship between `output` and `inputs` will be enforced by the regression surrogate model, whilst the constraints defining the relationship between `feasibility` and `inputs` will be enforced by the classifier surrogate model. To achieve this, simply use the `formulate` method provided by the `api` and pass in the trained surrogate model instance for which to formulate constraints. Assign the output of this method call to an attribute of the larger optimisation problem where the surrogate model formulation will be contained as a Pyomo *Block*. Finally, connect the optimisation problem variables `inputs` and `output` to the surrogate model input and output variables."
   ]
  },
  {
   "cell_type": "code",
   "execution_count": 10,
   "metadata": {},
   "outputs": [],
   "source": [
    "opt.mdl = api.formulate(api.regressor)\n",
    "opt.feas = api.formulate(api.classifier)\n",
    "\n",
    "# connect pyomo model input and output to the surrogate models\n",
    "@opt.Constraint(opt.n_inputs)\n",
    "def connect_regressor_inputs(m, i):\n",
    "    return m.inputs[i] == m.mdl.inputs[i]\n",
    "\n",
    "@opt.Constraint(opt.n_inputs)\n",
    "def connect_classifier_inputs(m, i):\n",
    "    return m.inputs[i] == m.feas.inputs[i]\n",
    "\n",
    "@opt.Constraint()\n",
    "def connect_regressor_output(m):\n",
    "    return m.output == m.mdl.outputs[0]\n",
    "\n",
    "@opt.Constraint()\n",
    "def connect_classifier_output(m):\n",
    "    return m.feasibility == m.feas.outputs[0]"
   ]
  },
  {
   "cell_type": "markdown",
   "metadata": {},
   "source": [
    "### Solving the optimisation problem\n",
    "\n",
    "The user must then define the solver and desired solver settings before writing the solve statement."
   ]
  },
  {
   "cell_type": "code",
   "execution_count": 11,
   "metadata": {},
   "outputs": [
    {
     "name": "stdout",
     "output_type": "stream",
     "text": [
      "===========================================================================\n",
      " BARON version 22.4.20. Built: OSX-64 Wed Apr 20 10:52:09 EDT 2022\n",
      "\n",
      " BARON is a product of The Optimization Firm.\n",
      " For information on BARON, see https://minlp.com/about-baron\n",
      " Licensee: Benoit Chachuat at Imperial College London, b.chachuat@imperial.ac.uk.\n",
      "\n",
      " If you use this software, please cite publications from\n",
      " https://minlp.com/baron-publications, such as: \n",
      "\n",
      " Khajavirad, A. and N. V. Sahinidis,\n",
      " A hybrid LP/NLP paradigm for global optimization relaxations,\n",
      " Mathematical Programming Computation, 10, 383-421, 2018.\n",
      "===========================================================================\n",
      " This BARON run may utilize the following subsolver(s)\n",
      " For LP/MIP/QP: CLP/CBC, ILOG CPLEX                             \n",
      " For NLP: IPOPT, FILTERSQP\n",
      "===========================================================================\n",
      " Doing local search\n",
      " Preprocessing found feasible solution with value  2.83409065845     \n",
      " Solving bounding LP\n",
      " Starting multi-start local search\n",
      " Preprocessing found feasible solution with value  2.83409065845     \n",
      " Done with local search\n",
      "===========================================================================\n",
      "  Iteration    Open nodes         Time (s)    Lower bound      Upper bound\n",
      "          1             1             0.19     2.83409          4.65200    \n",
      "*       256            83             2.87     2.83410          4.65056    \n",
      "*      1006           204             6.43     2.83412          4.21393    \n",
      "      21649          1799            36.13     2.83412          2.84710    \n",
      "      40997          4329            65.96     2.83412          2.84028    \n",
      "      62164          5765            95.79     2.83412          2.83512    \n",
      "*     76435          1420           117.20     2.83413          2.83475    \n",
      "     100213          2651           147.03     2.83414          2.83425    \n",
      "     130909          3984           176.86     2.83414          2.83419    \n",
      "     178844          4364           206.65     2.83414          2.83419    \n",
      "     222297          6234           236.42     2.83414          2.83417    \n",
      "     254228          7669           265.90     2.83414          2.83417    \n",
      "     286126         10443           295.47     2.83414          2.83417    \n",
      "     290890         10825           300.00     2.83414          2.83417    \n",
      "\n",
      "                    *** Max. allowable time exceeded ***      \n",
      "\n",
      " Wall clock time:                   302.74\n",
      " Total CPU time used:               300.00\n",
      "\n",
      " Total no. of BaR iterations:  290890\n",
      " Best solution found at node:   85857\n",
      " Max. no. of nodes in memory:   10825\n",
      " \n",
      " All done\n",
      "===========================================================================\n"
     ]
    }
   ],
   "source": [
    "# solver setup\n",
    "solver = pyo.SolverFactory('baron')\n",
    "solver.options['CplexLibName'] = \"/Applications/CPLEX_Studio201/cplex/bin/x86-64_osx/libcplex2010.dylib\"\n",
    "solver.options['MaxTime'] = 300\n",
    "\n",
    "# solve\n",
    "results = solver.solve(opt, tee=True)"
   ]
  },
  {
   "cell_type": "markdown",
   "metadata": {},
   "source": [
    "## Results\n",
    "\n",
    "Denormalise the optimisation solution using the statistical moment data saved in `api`. Also compare the predictions of the regressor and classifier models at the solution with the optimisation variable values to observe any difference between the model formulations and the optimisaiton formulations."
   ]
  },
  {
   "cell_type": "code",
   "execution_count": 12,
   "metadata": {},
   "outputs": [
    {
     "name": "stdout",
     "output_type": "stream",
     "text": [
      "[0.08282289018870113, 1.6844234214476108]\n",
      "2.834138652503496 2.834091\n",
      "0.9681241278518655 0.9681207\n"
     ]
    }
   ],
   "source": [
    "# denormalise solution\n",
    "solution = [opt.inputs[i].value * api.x_train_std[i] + api.x_train_mean[i] for i in range(api.x.shape[1])]\n",
    "print(solution)\n",
    "\n",
    "# compare optimisation outputs with model prediction\n",
    "x_ = [(solution[i] - api.x_train_mean[i]) / api.x_train_std[i] for i in range(api.x.shape[1])]\n",
    "print(opt.output.value, api.regressor.predict(np.array([x_]))[0][0])\n",
    "print(opt.feasibility.value, api.classifier.predict(np.array([x_]))[0][0])"
   ]
  },
  {
   "cell_type": "markdown",
   "metadata": {},
   "source": [
    "Plot the surrogate model predictions overlayed with the sampled data, the optimisataion solution and the feasibility constraint."
   ]
  },
  {
   "cell_type": "code",
   "execution_count": 13,
   "metadata": {},
   "outputs": [
    {
     "data": {
      "image/png": "[encoded data removed]",
      "text/plain": [
       "<Figure size 288x216 with 1 Axes>"
      ]
     },
     "metadata": {
      "needs_background": "light"
     },
     "output_type": "display_data"
    }
   ],
   "source": [
    "plot_model(api, show_samples=True, show_sol=solution, show_class=True)"
   ]
  },
  {
   "cell_type": "code",
   "execution_count": null,
   "metadata": {},
   "outputs": [],
   "source": []
  }
 ],
 "metadata": {
  "kernelspec": {
   "display_name": "Python 3 (ipykernel)",
   "language": "python",
   "name": "python3"
  },
  "language_info": {
   "codemirror_mode": {
    "name": "ipython",
    "version": 3
   },
   "file_extension": ".py",
   "mimetype": "text/x-python",
   "name": "python",
   "nbconvert_exporter": "python",
   "pygments_lexer": "ipython3",
   "version": "3.9.7"
  },
  "vscode": {
   "interpreter": {
    "hash": "509b8fb1f9bb9a36cf455cc3b6d7786e56047ba93e78ea1e04340272261a598e"
   }
  }
 },
 "nbformat": 4,
 "nbformat_minor": 2
}
