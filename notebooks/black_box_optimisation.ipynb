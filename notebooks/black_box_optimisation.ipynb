{
 "cells": [
  {
   "cell_type": "markdown",
   "metadata": {},
   "source": [
    "# Black Box Optimisation\n",
    "## Introduction\n",
    "This notebook showcases the `sumomo` package enabling surrogate modelling and optimisation of black box models. To begin, ensure that this notebook directory is in the system path and then proceed to import the *Application Programming Interface* `api` from `sumomo` which enables the interface between the package frameworks and black box models. Also import the various utility and plotting functions from `utils` such as the `peaks` function used as an example black box function used in this notebook."
   ]
  },
  {
   "cell_type": "code",
   "execution_count": 1,
   "metadata": {},
   "outputs": [
    {
     "data": {
      "image/png": "[encoded data removed]",
      "text/plain": [
       "<Figure size 288x216 with 1 Axes>"
      ]
     },
     "metadata": {
      "needs_background": "light"
     },
     "output_type": "display_data"
    }
   ],
   "source": [
    "import os\n",
    "import sys\n",
    "nb_dir = os.path.split(os.getcwd())[0]\n",
    "if nb_dir not in sys.path:\n",
    "    sys.path.append(nb_dir)\n",
    "\n",
    "import numpy as np\n",
    "import pyomo.environ as pyo\n",
    "\n",
    "from sumomo import API\n",
    "from utils import peaks, plot_peaks, plot_sampling, plot_model\n",
    "\n",
    "\n",
    "plot_peaks()"
   ]
  },
  {
   "cell_type": "markdown",
   "metadata": {},
   "source": [
    "## Initialise\n",
    "\n",
    "Use `api.initialise` to produce an initial set of statis samples and initialised output variable and target arrays. The `initialise` method requires input attributes `n_samples` and `input_space` where the former is the total number of input samples to generate and the latter is the search space defined by lower and upper bounds on each dimension. If the number of outputs to be sampled is greater than 1 (default), `n_outputs` can be specified. Finally, the sampling strategy to be used can be defined with the `method` attribute. The default sampling strategy is Latin Hypercube Sampling `lhs` with a *maximin* criterion to maximise the minimal pairwise distance between samples. Implementations of LHS and Sobol sampling from `skopt` are available in addition to grid sampling and random sampling methods.\n",
    "\n",
    "Here, 100 input samples are generated for 2 input variables each bounded between (-3.0, 3.0) using LHS. A 1 dimensional output vector is initialised as well as the target vector. Output vectors are intialised with zero values as the default to represent an unsampled output whilst also existing at the mean after standardisation of the data. The target data is intialised as ones as the default representing converged simulations, enabling the framework to be used without feasibility constraints in the default case."
   ]
  },
  {
   "cell_type": "code",
   "execution_count": 2,
   "metadata": {
    "scrolled": true
   },
   "outputs": [
    {
     "data": {
      "image/png": "[encoded data removed]",
      "text/plain": [
       "<Figure size 288x216 with 1 Axes>"
      ]
     },
     "metadata": {
      "needs_background": "light"
     },
     "output_type": "display_data"
    },
    {
     "data": {
      "image/png": "[encoded data removed]",
      "text/plain": [
       "<Figure size 288x216 with 1 Axes>"
      ]
     },
     "metadata": {
      "needs_background": "light"
     },
     "output_type": "display_data"
    },
    {
     "data": {
      "image/png": "[encoded data removed]",
      "text/plain": [
       "<Figure size 288x216 with 1 Axes>"
      ]
     },
     "metadata": {
      "needs_background": "light"
     },
     "output_type": "display_data"
    },
    {
     "data": {
      "image/png": "[encoded data removed]",
      "text/plain": [
       "<Figure size 288x216 with 1 Axes>"
      ]
     },
     "metadata": {
      "needs_background": "light"
     },
     "output_type": "display_data"
    }
   ],
   "source": [
    "n = 64\n",
    "for strategy in ['random', 'lhs', 'sobol', 'grid']:\n",
    "    api = API(n, [(-1.0, 1.0), (-1.0, 1.0)], 1, strategy)\n",
    "    plot_sampling(api)"
   ]
  },
  {
   "cell_type": "code",
   "execution_count": 3,
   "metadata": {},
   "outputs": [
    {
     "name": "stdout",
     "output_type": "stream",
     "text": [
      "[[ 1.96047917 -0.77835667]\n",
      " [ 0.18916368  0.48722919]\n",
      " [-0.98731193 -2.51190005]\n",
      " [-1.80817091  0.37953551]\n",
      " [ 1.24645632 -2.02762523]\n",
      " [-1.79303947  1.51934336]\n",
      " [-1.52910372  1.83589016]\n",
      " [-2.74657026  0.99210193]\n",
      " [-0.14928012 -0.10694957]\n",
      " [-1.2175447   1.18583474]\n",
      " [ 2.14320622  1.7206379 ]\n",
      " [-1.57501129  0.6600891 ]\n",
      " [ 1.62305598  0.85808323]\n",
      " [ 1.48040166  1.88949157]\n",
      " [ 0.16510549  1.31900716]\n",
      " [ 0.38638361 -2.868935  ]\n",
      " [-0.28800591  1.21004478]\n",
      " [-2.4627212  -1.97216435]\n",
      " [-2.36659999  0.28065363]\n",
      " [ 1.51951789  1.40863045]\n",
      " [-2.57638449 -2.40477501]\n",
      " [-0.19612603 -2.26526269]\n",
      " [-0.49537787 -2.81675005]\n",
      " [ 2.96324995  1.98008474]\n",
      " [-0.69562822 -1.56063768]\n",
      " [-1.9636474   0.78142487]\n",
      " [ 0.61683917 -0.32461502]\n",
      " [ 2.90621673  2.69598384]\n",
      " [-1.48529006 -1.15509033]\n",
      " [-1.26516248  0.20442661]\n",
      " [-1.05468005  0.60837028]\n",
      " [ 1.27936567  2.8750998 ]\n",
      " [ 2.03964847  1.33563329]\n",
      " [ 0.96100459  0.12631748]\n",
      " [ 2.54604595 -2.07108999]\n",
      " [-1.15250322  2.06120788]\n",
      " [-0.7640141  -0.38775767]\n",
      " [-0.32282922  2.19860307]\n",
      " [-2.77416416  0.45999149]\n",
      " [-1.63179931  0.05156919]\n",
      " [-2.07717263 -1.23167269]\n",
      " [-0.07741042  1.07181975]\n",
      " [ 1.84743725 -1.43537854]\n",
      " [-2.26387015 -0.79276559]\n",
      " [ 2.66198906 -0.97153655]\n",
      " [-0.03466211 -2.62465844]\n",
      " [ 2.43313308  2.50212553]\n",
      " [ 2.63607544  1.95606596]\n",
      " [-2.86788908 -2.17078642]\n",
      " [ 0.93498644 -2.9421064 ]\n",
      " [-2.88951827 -0.28438223]\n",
      " [ 0.07826506  2.30435562]\n",
      " [ 1.15478293  2.15367118]\n",
      " [-2.65802692 -1.11822728]\n",
      " [ 1.02428393 -1.88759446]\n",
      " [ 2.18451842  0.93018084]\n",
      " [-1.13197902 -1.7938099 ]\n",
      " [-0.9058487   1.78774542]\n",
      " [-2.01307514 -1.73898854]\n",
      " [ 2.33561103 -0.46475644]\n",
      " [ 2.79256173 -0.22534569]\n",
      " [-2.17122437  2.92293597]\n",
      " [ 2.83236724 -2.70892079]\n",
      " [-2.43750429 -0.69122236]\n",
      " [ 1.3406951   0.76843859]\n",
      " [-2.12753065  1.48602874]\n",
      " [-2.28443447 -2.54147302]\n",
      " [-0.59892447 -0.65722785]\n",
      " [ 2.24211397  2.71135243]\n",
      " [ 0.67501905 -0.58802767]\n",
      " [ 1.13833216 -2.15285561]\n",
      " [-0.81879077  2.61667202]\n",
      " [-0.62995701  1.11990737]\n",
      " [ 1.88868421  2.39409555]\n",
      " [ 0.33708701 -2.39548803]\n",
      " [-1.90490797 -1.31145482]\n",
      " [ 2.07080503  2.27085508]\n",
      " [-0.41208699 -2.64602415]\n",
      " [-0.85539493 -1.53726144]\n",
      " [-0.46407533 -0.84693178]\n",
      " [ 0.00326885 -0.95663149]\n",
      " [ 1.41033511  1.62369583]\n",
      " [-1.4159083   0.32025341]\n",
      " [ 0.87247112 -0.17395855]\n",
      " [ 2.50095176  0.55334188]\n",
      " [ 2.73822688 -1.84997244]\n",
      " [ 1.78631432 -0.02469841]\n",
      " [ 2.39651746  1.59223575]\n",
      " [-2.9564795  -0.52918019]\n",
      " [ 0.77062344  0.09555912]\n",
      " [ 1.61388107 -2.91292905]\n",
      " [ 0.5722122  -1.64178998]\n",
      " [ 0.24202959  2.42071547]\n",
      " [ 1.69432654 -1.48947939]\n",
      " [-1.69254477 -2.3213791 ]\n",
      " [-2.61165033 -1.32009489]\n",
      " [ 0.43002811 -1.03934984]\n",
      " [ 0.49357341  2.78673709]\n",
      " [ 0.83316502  2.95669688]\n",
      " [-1.35469864  2.52210911]]\n",
      "[[0.]\n",
      " [0.]\n",
      " [0.]\n",
      " [0.]\n",
      " [0.]\n",
      " [0.]\n",
      " [0.]\n",
      " [0.]\n",
      " [0.]\n",
      " [0.]\n",
      " [0.]\n",
      " [0.]\n",
      " [0.]\n",
      " [0.]\n",
      " [0.]\n",
      " [0.]\n",
      " [0.]\n",
      " [0.]\n",
      " [0.]\n",
      " [0.]\n",
      " [0.]\n",
      " [0.]\n",
      " [0.]\n",
      " [0.]\n",
      " [0.]\n",
      " [0.]\n",
      " [0.]\n",
      " [0.]\n",
      " [0.]\n",
      " [0.]\n",
      " [0.]\n",
      " [0.]\n",
      " [0.]\n",
      " [0.]\n",
      " [0.]\n",
      " [0.]\n",
      " [0.]\n",
      " [0.]\n",
      " [0.]\n",
      " [0.]\n",
      " [0.]\n",
      " [0.]\n",
      " [0.]\n",
      " [0.]\n",
      " [0.]\n",
      " [0.]\n",
      " [0.]\n",
      " [0.]\n",
      " [0.]\n",
      " [0.]\n",
      " [0.]\n",
      " [0.]\n",
      " [0.]\n",
      " [0.]\n",
      " [0.]\n",
      " [0.]\n",
      " [0.]\n",
      " [0.]\n",
      " [0.]\n",
      " [0.]\n",
      " [0.]\n",
      " [0.]\n",
      " [0.]\n",
      " [0.]\n",
      " [0.]\n",
      " [0.]\n",
      " [0.]\n",
      " [0.]\n",
      " [0.]\n",
      " [0.]\n",
      " [0.]\n",
      " [0.]\n",
      " [0.]\n",
      " [0.]\n",
      " [0.]\n",
      " [0.]\n",
      " [0.]\n",
      " [0.]\n",
      " [0.]\n",
      " [0.]\n",
      " [0.]\n",
      " [0.]\n",
      " [0.]\n",
      " [0.]\n",
      " [0.]\n",
      " [0.]\n",
      " [0.]\n",
      " [0.]\n",
      " [0.]\n",
      " [0.]\n",
      " [0.]\n",
      " [0.]\n",
      " [0.]\n",
      " [0.]\n",
      " [0.]\n",
      " [0.]\n",
      " [0.]\n",
      " [0.]\n",
      " [0.]\n",
      " [0.]]\n",
      "[[1.]\n",
      " [1.]\n",
      " [1.]\n",
      " [1.]\n",
      " [1.]\n",
      " [1.]\n",
      " [1.]\n",
      " [1.]\n",
      " [1.]\n",
      " [1.]\n",
      " [1.]\n",
      " [1.]\n",
      " [1.]\n",
      " [1.]\n",
      " [1.]\n",
      " [1.]\n",
      " [1.]\n",
      " [1.]\n",
      " [1.]\n",
      " [1.]\n",
      " [1.]\n",
      " [1.]\n",
      " [1.]\n",
      " [1.]\n",
      " [1.]\n",
      " [1.]\n",
      " [1.]\n",
      " [1.]\n",
      " [1.]\n",
      " [1.]\n",
      " [1.]\n",
      " [1.]\n",
      " [1.]\n",
      " [1.]\n",
      " [1.]\n",
      " [1.]\n",
      " [1.]\n",
      " [1.]\n",
      " [1.]\n",
      " [1.]\n",
      " [1.]\n",
      " [1.]\n",
      " [1.]\n",
      " [1.]\n",
      " [1.]\n",
      " [1.]\n",
      " [1.]\n",
      " [1.]\n",
      " [1.]\n",
      " [1.]\n",
      " [1.]\n",
      " [1.]\n",
      " [1.]\n",
      " [1.]\n",
      " [1.]\n",
      " [1.]\n",
      " [1.]\n",
      " [1.]\n",
      " [1.]\n",
      " [1.]\n",
      " [1.]\n",
      " [1.]\n",
      " [1.]\n",
      " [1.]\n",
      " [1.]\n",
      " [1.]\n",
      " [1.]\n",
      " [1.]\n",
      " [1.]\n",
      " [1.]\n",
      " [1.]\n",
      " [1.]\n",
      " [1.]\n",
      " [1.]\n",
      " [1.]\n",
      " [1.]\n",
      " [1.]\n",
      " [1.]\n",
      " [1.]\n",
      " [1.]\n",
      " [1.]\n",
      " [1.]\n",
      " [1.]\n",
      " [1.]\n",
      " [1.]\n",
      " [1.]\n",
      " [1.]\n",
      " [1.]\n",
      " [1.]\n",
      " [1.]\n",
      " [1.]\n",
      " [1.]\n",
      " [1.]\n",
      " [1.]\n",
      " [1.]\n",
      " [1.]\n",
      " [1.]\n",
      " [1.]\n",
      " [1.]\n",
      " [1.]]\n"
     ]
    }
   ],
   "source": [
    "api = API(n_samples=100, space=[(-3.0, 3.0), (-3.0, 3.0)], n_outputs=1, method='lhs')\n",
    "\n",
    "print(api.x)\n",
    "print(api.y)\n",
    "print(api.t)"
   ]
  },
  {
   "cell_type": "markdown",
   "metadata": {},
   "source": [
    "## Sampling\n",
    "\n",
    "The API provides the initialised output and target arrays, but it is necessary to script the population of these empty arrays with the sampled black box data manually. This is due to different black box models and simulations having different Python interfacing capabilities. Typically, one input sample is sent to the black box to be evaluated, so this is simulated here using a `for` loop to iterate over the input samples one-by-one. For each input sample `x[i]`, a corresponding output `y[i]` is evaluated along with a binary target `t[i]` representing a converged sample (1) or non-converged sample (0). The peaks function is used as the black box to generate input-output data. Feasible designs (i.e. converged or `t=1`) are constrained to within a circle with radius 2 (or infeasible designs are defined as those outside this circles boundary since `t` is 1 by default) for demonstrative purposes. When sampling from black box simulations in practice, there is typically a black box variable which defines the convergence enabling the user to explicitly sample target data."
   ]
  },
  {
   "cell_type": "code",
   "execution_count": 4,
   "metadata": {},
   "outputs": [
    {
     "name": "stdout",
     "output_type": "stream",
     "text": [
      "[[ 8.57786228e-01]\n",
      " [ 1.17017239e-01]\n",
      " [-2.37465376e-01]\n",
      " [-1.84084691e+00]\n",
      " [-1.11583056e+00]\n",
      " [ 9.13761041e-02]\n",
      " [ 5.75310351e-01]\n",
      " [-4.34828667e-02]\n",
      " [ 1.84208553e+00]\n",
      " [ 3.86305089e-01]\n",
      " [ 1.28401503e-01]\n",
      " [-1.92563387e+00]\n",
      " [ 1.52027078e+00]\n",
      " [ 8.50307007e-01]\n",
      " [ 6.76617799e+00]\n",
      " [-4.16311324e-01]\n",
      " [ 5.58184225e+00]\n",
      " [ 1.06298101e-02]\n",
      " [-4.59665143e-01]\n",
      " [ 1.19562999e+00]\n",
      " [ 2.98706816e-03]\n",
      " [-2.55721515e+00]\n",
      " [-3.03775159e-01]\n",
      " [ 1.70206847e-03]\n",
      " [-1.24622203e+00]\n",
      " [-8.39358922e-01]\n",
      " [ 8.31525329e-01]\n",
      " [ 2.49140337e-04]\n",
      " [ 4.62246311e-01]\n",
      " [-2.99829421e+00]\n",
      " [-1.91193846e+00]\n",
      " [ 9.91972600e-02]\n",
      " [ 3.23360565e-01]\n",
      " [ 2.71111544e+00]\n",
      " [-1.15570713e-03]\n",
      " [ 1.35449859e+00]\n",
      " [ 1.85916720e+00]\n",
      " [ 3.68332092e+00]\n",
      " [-8.57205113e-02]\n",
      " [-2.53916552e+00]\n",
      " [ 3.23618747e-03]\n",
      " [ 4.50702357e+00]\n",
      " [ 5.21071013e-02]\n",
      " [-2.17502001e-01]\n",
      " [ 6.37809846e-02]\n",
      " [-1.03887402e+00]\n",
      " [ 5.74306770e-03]\n",
      " [ 9.71098930e-03]\n",
      " [ 1.24769661e-03]\n",
      " [-1.59518788e-01]\n",
      " [-5.36005229e-02]\n",
      " [ 3.19002788e+00]\n",
      " [ 1.21466217e+00]\n",
      " [-2.12130889e-02]\n",
      " [-2.29310050e+00]\n",
      " [ 3.81454670e-01]\n",
      " [-1.98113133e-01]\n",
      " [ 3.17683697e+00]\n",
      " [ 6.85170992e-02]\n",
      " [ 4.39155480e-01]\n",
      " [ 8.49376992e-02]\n",
      " [ 3.53904615e-03]\n",
      " [-8.57466626e-05]\n",
      " [-1.72157986e-01]\n",
      " [ 2.21422522e+00]\n",
      " [-3.28947776e-02]\n",
      " [ 6.21608321e-03]\n",
      " [ 3.59238306e+00]\n",
      " [ 6.62158697e-03]\n",
      " [ 6.14109905e-01]\n",
      " [-1.19145292e+00]\n",
      " [ 6.64358122e-01]\n",
      " [ 3.11872680e+00]\n",
      " [ 7.78127156e-02]\n",
      " [-2.10031983e+00]\n",
      " [ 8.86838777e-02]\n",
      " [ 5.44520821e-02]\n",
      " [-6.60680132e-01]\n",
      " [-4.01276307e-01]\n",
      " [ 3.19968865e+00]\n",
      " [-2.84931157e-01]\n",
      " [ 1.35317207e+00]\n",
      " [-2.94262762e+00]\n",
      " [ 2.22001962e+00]\n",
      " [ 2.16095425e-01]\n",
      " [ 2.13461313e-03]\n",
      " [ 2.22566818e+00]\n",
      " [ 5.97391466e-02]\n",
      " [-3.00341283e-02]\n",
      " [ 1.67268830e+00]\n",
      " [-2.92754822e-02]\n",
      " [-5.50872118e+00]\n",
      " [ 2.23437670e+00]\n",
      " [-1.08461439e-01]\n",
      " [ 2.80993425e-02]\n",
      " [-6.48955595e-03]\n",
      " [-2.64669413e+00]\n",
      " [ 5.58514526e-01]\n",
      " [ 1.80601661e-01]\n",
      " [ 2.74739173e-01]]\n",
      "[[0.]\n",
      " [1.]\n",
      " [0.]\n",
      " [1.]\n",
      " [0.]\n",
      " [0.]\n",
      " [0.]\n",
      " [0.]\n",
      " [1.]\n",
      " [1.]\n",
      " [0.]\n",
      " [1.]\n",
      " [1.]\n",
      " [0.]\n",
      " [1.]\n",
      " [0.]\n",
      " [1.]\n",
      " [0.]\n",
      " [0.]\n",
      " [0.]\n",
      " [0.]\n",
      " [0.]\n",
      " [0.]\n",
      " [0.]\n",
      " [1.]\n",
      " [0.]\n",
      " [1.]\n",
      " [0.]\n",
      " [1.]\n",
      " [1.]\n",
      " [1.]\n",
      " [0.]\n",
      " [0.]\n",
      " [1.]\n",
      " [0.]\n",
      " [0.]\n",
      " [1.]\n",
      " [0.]\n",
      " [0.]\n",
      " [1.]\n",
      " [0.]\n",
      " [1.]\n",
      " [0.]\n",
      " [0.]\n",
      " [0.]\n",
      " [0.]\n",
      " [0.]\n",
      " [0.]\n",
      " [0.]\n",
      " [0.]\n",
      " [0.]\n",
      " [0.]\n",
      " [0.]\n",
      " [0.]\n",
      " [0.]\n",
      " [0.]\n",
      " [0.]\n",
      " [0.]\n",
      " [0.]\n",
      " [0.]\n",
      " [0.]\n",
      " [0.]\n",
      " [0.]\n",
      " [0.]\n",
      " [1.]\n",
      " [0.]\n",
      " [0.]\n",
      " [1.]\n",
      " [0.]\n",
      " [1.]\n",
      " [0.]\n",
      " [0.]\n",
      " [1.]\n",
      " [0.]\n",
      " [0.]\n",
      " [0.]\n",
      " [0.]\n",
      " [0.]\n",
      " [1.]\n",
      " [1.]\n",
      " [1.]\n",
      " [0.]\n",
      " [1.]\n",
      " [1.]\n",
      " [0.]\n",
      " [0.]\n",
      " [1.]\n",
      " [0.]\n",
      " [0.]\n",
      " [1.]\n",
      " [0.]\n",
      " [1.]\n",
      " [0.]\n",
      " [0.]\n",
      " [0.]\n",
      " [0.]\n",
      " [1.]\n",
      " [0.]\n",
      " [0.]\n",
      " [0.]]\n"
     ]
    }
   ],
   "source": [
    "for i in range(api.x.shape[0]):\n",
    "    api.y[i] = peaks(api.x[i])\n",
    "    if ( api.x[i, 0] ** 2 + api.x[i, 1] ** 2 > 4 ):\n",
    "        api.t[i] = 0\n",
    "\n",
    "print(api.y)\n",
    "print(api.t)"
   ]
  },
  {
   "cell_type": "markdown",
   "metadata": {},
   "source": [
    "## Data processing\n",
    "\n",
    "Before using data `x, y, t` to train surrogate models, any train-test-splits and appropriate scaling must be used (in this order - split then scale).\n",
    "\n",
    "### Train-test-split\n",
    "\n",
    "The `split` method can be used to partition the `x, y, t` data into training and testing sets, `x_train, y_train, t_train` and `x_test, y_test, t_test`. This enables users to train the surrogate models using most of the sampled data whilst witholding some data from the model to be used to test the trained model performance without necessitating further sampling from the expensive black box. The `split` method takes the parameter `test-size` enabling the user to decide what fraction of the data to withold for testing purposes (default is 0.3)."
   ]
  },
  {
   "cell_type": "code",
   "execution_count": 5,
   "metadata": {},
   "outputs": [
    {
     "name": "stdout",
     "output_type": "stream",
     "text": [
      "(70, 2)\n"
     ]
    }
   ],
   "source": [
    "api.split(test_size=0.3)\n",
    "\n",
    "print(api.x_train.shape)"
   ]
  },
  {
   "cell_type": "markdown",
   "metadata": {},
   "source": [
    "### Standardisation\n",
    "\n",
    "It is important that prior to training surrogate models, the input-output data is scaled appropriately. Specifically, scaling over the samples, for each dimension, ensures that variables with large magnitudes do not have a greater influence on measures of surrogate model fit which would result in overfitting to specific dimensions at the cost of overall model accuracy.\n",
    "\n",
    "The scaling method uses standarisation to subtract the mean and divide the result by the standard deviation so that each dimension follows a normal distribution with mean 0 and a standard deviation of 1. When the data is not split beforehand, `x` is simply standardised over the entire dataset to generate `x_` and the `api` object also saves the `x_mean` and `x_std` values for future scaling and descaling purposes. Here, `x_mean` and `x_std` are used to scale the `space` paramter to provide bounds of the scaled search space as `space_`. In this case, `y` is standardised using the `y_mean` and `y_std` of only the converged output data to produce `y_`.\n",
    "\n",
    "It is important to split and then scale the data so that training data is scaled using only the training data and not the full data set. For the input data, this case produces `x_train_`, whilst `x_train_mean` and `x_train_std` values are used to standarise `x_test_` into the same scaled space as the training data which was used to train the surrogate model. In this case, `space_` is also generated using `x_train_mean` and `x_train_std`. Similarly, `y_train_` and `y_test_` are both standarised using `y_train_mean` and `y_train_std` of converged training outputs only."
   ]
  },
  {
   "cell_type": "code",
   "execution_count": 6,
   "metadata": {},
   "outputs": [
    {
     "name": "stdout",
     "output_type": "stream",
     "text": [
      "[1.03812818] [2.84548451]\n"
     ]
    }
   ],
   "source": [
    "api.scale()\n",
    "\n",
    "print(api.y_train_mean, api.y_train_std)"
   ]
  },
  {
   "cell_type": "markdown",
   "metadata": {},
   "source": [
    "## Regressor model training\n",
    "\n",
    "The `init_regressor` method can be used to fit a regression surrogate model to the scaled input-output data. This methods recieves a parameter `type` as a string to define whether to use a Gaussian Process Regressor `gp` or a Neural Network `nn`. In addition, the user can pass keyword arguments to define the setup of the particular model. For example, for a NN, the user must specify parameters `hidden_layers` as a list of number of nodes in each hidden layer (e.g. `hidden_layers=[10, 10]`) and `activation` as a string to define the activation function applied to each hidden layer. Activation functions available are `tanh`, `sigmoid`, `softplus`, and `relu`. For a GP model users can specify a level of `noise`.\n",
    "\n",
    "To train the surrogate model the user uses the relevant methods provided by the model object interfaced through `api.regressor`. It should be noted that the regressor models are typically fitted to standardised input-output data or standardised training data using `api.regressor.fit(api.x_, api.y_)` or `api.regressor.fit(api.x_train_, api.y_train_)` respectively."
   ]
  },
  {
   "cell_type": "code",
   "execution_count": 7,
   "metadata": {},
   "outputs": [
    {
     "name": "stdout",
     "output_type": "stream",
     "text": [
      "NN(\n",
      "  (0): Linear(in_features=2, out_features=15, bias=True)\n",
      "  (1): Tanh()\n",
      "  (2): Linear(in_features=15, out_features=5, bias=True)\n",
      "  (3): Tanh()\n",
      "  (4): Linear(in_features=5, out_features=1, bias=True)\n",
      ")\n"
     ]
    }
   ],
   "source": [
    "api.init_regressor('nn', hidden_layers=[15, 5], activation='tanh')\n",
    "api.regressor.fit(api.x_train_, api.y_train_)\n",
    "\n",
    "print(api.regressor)"
   ]
  },
  {
   "cell_type": "markdown",
   "metadata": {},
   "source": [
    "## Classifier model training\n",
    "\n",
    "The `init_classifier` method can be used to fit a classification surrogate model to the scaled input data and binary target data. This methods also recieves a parameter `type` as a string to define whether to use a Gaussian Process Classifier `gp` or a Neural Network `nn`. The user passes keyword arguments to define the setup of the model in the same way as for regression models. NNs recieve the same parameters `hidden_layers` and `activation` whereas GPs do not have any customisable parameters. Activation functions available for classification are `sigmoid`or `hardsigmoid` where these function are applied to hidden layers and the output layer in the classification case.\n",
    "\n",
    "To train the surrogate model the user uses the relevant methods provided by the model object interfaced through `api.classifier`. The classifier is typically trained using scaled input data and target data or the training equivalents using `api.classifier.fit(api.x_, api.t)` or `api.classifier.fit(api.x_train_, api.t_train)`, respectively."
   ]
  },
  {
   "cell_type": "code",
   "execution_count": 8,
   "metadata": {},
   "outputs": [
    {
     "name": "stdout",
     "output_type": "stream",
     "text": [
      "NNClassifier(\n",
      "  (0): Linear(in_features=2, out_features=10, bias=True)\n",
      "  (1): Sigmoid()\n",
      "  (2): Linear(in_features=10, out_features=1, bias=True)\n",
      "  (3): Sigmoid()\n",
      ")\n"
     ]
    }
   ],
   "source": [
    "api.init_classifier('nn', hidden_layers=[10], activation='sigmoid')\n",
    "api.classifier.fit(api.x_train_, api.t_train)\n",
    "\n",
    "print(api.classifier)"
   ]
  },
  {
   "cell_type": "markdown",
   "metadata": {},
   "source": [
    "## Pyomo formulations\n",
    "\n",
    "### Foundations\n",
    "\n",
    "The `api` provided by `sumomo` enables the optimisation formualations of trained surrogate models to be plugged into larger optimisation formulations where required. To show this, begin initialising an optimisation problem saved as `opt`. This optimisation problem has variables `inputs` with the same dimensions as our surrogate model inputs, a scalar `output` variable, and a scalar variable `feasibility`. Here, also define a constraint for this larger optimisation formulation that the feasibility probability must be greater than 0.5. Finally, define the objective function as maximise `output`."
   ]
  },
  {
   "cell_type": "code",
   "execution_count": 9,
   "metadata": {},
   "outputs": [
    {
     "name": "stdout",
     "output_type": "stream",
     "text": [
      "1 Set Declarations\n",
      "    inputs_index : Size=1, Index=None, Ordered=False\n",
      "        Key  : Dimen : Domain : Size : Members\n",
      "        None :     1 :    Any :    2 : {0, 1}\n",
      "\n",
      "3 Var Declarations\n",
      "    feasibility : Size=1, Index=None\n",
      "        Key  : Lower : Value : Upper : Fixed : Stale : Domain\n",
      "        None :  None :  None :  None : False :  True :  Reals\n",
      "    inputs : Size=2, Index=inputs_index\n",
      "        Key : Lower : Value : Upper : Fixed : Stale : Domain\n",
      "          0 :  None :  None :  None : False :  True :  Reals\n",
      "          1 :  None :  None :  None : False :  True :  Reals\n",
      "    output : Size=1, Index=None\n",
      "        Key  : Lower : Value : Upper : Fixed : Stale : Domain\n",
      "        None :  None :  None :  None : False :  True :  Reals\n",
      "\n",
      "1 Objective Declarations\n",
      "    obj : Size=1, Index=None, Active=True\n",
      "        Key  : Active : Sense    : Expression\n",
      "        None :   True : maximize :     output\n",
      "\n",
      "1 Constraint Declarations\n",
      "    feasibility_con : Size=1, Index=None, Active=True\n",
      "        Key  : Lower : Body        : Upper : Active\n",
      "        None :   0.5 : feasibility :  +Inf :   True\n",
      "\n",
      "6 Declarations: inputs_index inputs output feasibility feasibility_con obj\n"
     ]
    }
   ],
   "source": [
    "opt = pyo.ConcreteModel()\n",
    "\n",
    "opt.n_inputs = set(range(api.x.shape[1]))\n",
    "\n",
    "opt.inputs = pyo.Var(opt.n_inputs)\n",
    "opt.output = pyo.Var()\n",
    "opt.feasibility = pyo.Var()\n",
    "\n",
    "opt.feasibility_con = pyo.Constraint(expr=opt.feasibility >= 0.5 )\n",
    "\n",
    "opt.obj = pyo.Objective(expr=opt.output, sense=pyo.maximize)\n",
    "\n",
    "opt.pprint()"
   ]
  },
  {
   "cell_type": "markdown",
   "metadata": {},
   "source": [
    "### Formulating surrogate model constraints\n",
    "\n",
    "The constraints defining the relationship between `output` and `inputs` will be enforced by the regression surrogate model, whilst the constraints defining the relationship between `feasibility` and `inputs` will be enforced by the classifier surrogate model. To achieve this, simply use the `formulate` method provided by the `api` and pass in the trained surrogate model instance for which to formulate constraints. Assign the output of this method call to an attribute of the larger optimisation problem where the surrogate model formulation will be contained as a Pyomo *Block*. Finally, connect the optimisation problem variables `inputs` and `output` to the surrogate model input and output variables."
   ]
  },
  {
   "cell_type": "code",
   "execution_count": 10,
   "metadata": {},
   "outputs": [],
   "source": [
    "opt.mdl = api.formulate(api.regressor)\n",
    "opt.feas = api.formulate(api.classifier)\n",
    "\n",
    "# connect pyomo model input and output to the surrogate models\n",
    "@opt.Constraint(opt.n_inputs)\n",
    "def connect_regressor_inputs(m, i):\n",
    "    return m.inputs[i] == m.mdl.inputs[i]\n",
    "\n",
    "@opt.Constraint(opt.n_inputs)\n",
    "def connect_classifier_inputs(m, i):\n",
    "    return m.inputs[i] == m.feas.inputs[i]\n",
    "\n",
    "@opt.Constraint()\n",
    "def connect_regressor_output(m):\n",
    "    return m.output == m.mdl.outputs[0]\n",
    "\n",
    "@opt.Constraint()\n",
    "def connect_classifier_output(m):\n",
    "    return m.feasibility == m.feas.outputs[0]"
   ]
  },
  {
   "cell_type": "markdown",
   "metadata": {},
   "source": [
    "### Solving the optimisation problem\n",
    "\n",
    "The user must then define the solver and desired solver settings before writing the solve statement."
   ]
  },
  {
   "cell_type": "code",
   "execution_count": 11,
   "metadata": {},
   "outputs": [
    {
     "name": "stdout",
     "output_type": "stream",
     "text": [
      "===========================================================================\n",
      " BARON version 22.4.20. Built: OSX-64 Wed Apr 20 10:52:09 EDT 2022\n",
      "\n",
      " BARON is a product of The Optimization Firm.\n",
      " For information on BARON, see https://minlp.com/about-baron\n",
      " Licensee: Benoit Chachuat at Imperial College London, b.chachuat@imperial.ac.uk.\n",
      "\n",
      " If you use this software, please cite publications from\n",
      " https://minlp.com/baron-publications, such as: \n",
      "\n",
      " Khajavirad, A. and N. V. Sahinidis,\n",
      " A hybrid LP/NLP paradigm for global optimization relaxations,\n",
      " Mathematical Programming Computation, 10, 383-421, 2018.\n",
      "===========================================================================\n",
      " This BARON run may utilize the following subsolver(s)\n",
      " For LP/MIP/QP: CLP/CBC, ILOG CPLEX                             \n",
      " For NLP: IPOPT, FILTERSQP\n",
      "===========================================================================\n",
      " Doing local search\n",
      " Preprocessing found feasible solution with value  1.28837360568     \n",
      " Solving bounding LP\n",
      " Starting multi-start local search\n",
      " Preprocessing found feasible solution with value  2.12366142515     \n",
      " Done with local search\n",
      "===========================================================================\n",
      "  Iteration    Open nodes         Time (s)    Lower bound      Upper bound\n",
      "          1             1             0.23     2.12366          5.03755    \n",
      "*        38            16             0.67     2.12368          5.03754    \n",
      "*      2194           215            10.37     2.12369          2.20012    \n",
      "      21373          2393            40.19     2.12369          2.12517    \n",
      "      41280          5171            69.84     2.12369          2.12434    \n",
      "      59911          8042            99.18     2.12369          2.12393    \n",
      "      78420          9853           128.64     2.12369          2.12383    \n",
      "      98364         12314           158.12     2.12369          2.12375    \n",
      "     120184         15688           187.18     2.12369          2.12373    \n",
      "     144351         17119           216.41     2.12369          2.12373    \n",
      "     170536         18408           246.25     2.12369          2.12373    \n",
      "     196609         20033           275.79     2.12369          2.12373    \n",
      "     218635         20957           300.00     2.12369          2.12373    \n",
      "\n",
      "                    *** Max. allowable time exceeded ***      \n",
      "\n",
      " Wall clock time:                   304.96\n",
      " Total CPU time used:               300.00\n",
      "\n",
      " Total no. of BaR iterations:  218635\n",
      " Best solution found at node:   64675\n",
      " Max. no. of nodes in memory:   20957\n",
      " \n",
      " All done\n",
      "===========================================================================\n"
     ]
    }
   ],
   "source": [
    "# solver setup\n",
    "solver = pyo.SolverFactory('baron')\n",
    "solver.options['MaxTime'] = 300\n",
    "\n",
    "# macOS requires CplexLibName option to be specified, please change accordingly\n",
    "solver.options['CplexLibName'] = \"/Applications/CPLEX_Studio201/cplex/bin/x86-64_osx/libcplex2010.dylib\"\n",
    "\n",
    "# solve\n",
    "results = solver.solve(opt, tee=True)"
   ]
  },
  {
   "cell_type": "markdown",
   "metadata": {},
   "source": [
    "## Results\n",
    "\n",
    "Denormalise the optimisation solution using the statistical moment data saved in `api`. Also compare the predictions of the regressor and classifier models at the solution with the optimisation variable values to observe any difference between the model formulations and the optimisaiton formulations."
   ]
  },
  {
   "cell_type": "code",
   "execution_count": 12,
   "metadata": {},
   "outputs": [
    {
     "name": "stdout",
     "output_type": "stream",
     "text": [
      "[-0.008514311576722, 1.4505133936969816]\n",
      "2.1236886549994267 2.1236618\n",
      "0.8028735281706092 0.80287695\n"
     ]
    }
   ],
   "source": [
    "# denormalise solution\n",
    "solution = [opt.inputs[i].value * api.x_train_std[i] + api.x_train_mean[i] for i in range(api.x.shape[1])]\n",
    "print(solution)\n",
    "\n",
    "# compare optimisation outputs with model prediction\n",
    "x_ = [(solution[i] - api.x_train_mean[i]) / api.x_train_std[i] for i in range(api.x.shape[1])]\n",
    "print(opt.output.value, api.regressor.predict(np.array([x_]))[0][0])\n",
    "print(opt.feasibility.value, api.classifier.predict(np.array([x_]))[0][0])"
   ]
  },
  {
   "cell_type": "markdown",
   "metadata": {},
   "source": [
    "Plot the surrogate model predictions overlayed with the sampled data, the optimisataion solution and the feasibility constraint."
   ]
  },
  {
   "cell_type": "code",
   "execution_count": 13,
   "metadata": {},
   "outputs": [
    {
     "data": {
      "image/png": "[encoded data removed]",
      "text/plain": [
       "<Figure size 288x216 with 1 Axes>"
      ]
     },
     "metadata": {
      "needs_background": "light"
     },
     "output_type": "display_data"
    }
   ],
   "source": [
    "plot_model(api, show_samples=True, show_sol=solution, show_class=True)"
   ]
  },
  {
   "cell_type": "code",
   "execution_count": null,
   "metadata": {},
   "outputs": [],
   "source": []
  }
 ],
 "metadata": {
  "kernelspec": {
   "display_name": "Python 3 (ipykernel)",
   "language": "python",
   "name": "python3"
  },
  "language_info": {
   "codemirror_mode": {
    "name": "ipython",
    "version": 3
   },
   "file_extension": ".py",
   "mimetype": "text/x-python",
   "name": "python",
   "nbconvert_exporter": "python",
   "pygments_lexer": "ipython3",
   "version": "3.9.12"
  },
  "vscode": {
   "interpreter": {
    "hash": "509b8fb1f9bb9a36cf455cc3b6d7786e56047ba93e78ea1e04340272261a598e"
   }
  }
 },
 "nbformat": 4,
 "nbformat_minor": 2
}
