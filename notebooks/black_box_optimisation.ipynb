{
 "cells": [
  {
   "cell_type": "markdown",
   "metadata": {},
   "source": [
    "# Black Box Optimisation\n",
    "## Introduction\n",
    "This notebook showcases the `sumomo` package enabling surrogate modelling and optimisation of black box models. To begin, ensure that this notebook directory is in the system path and then proceed to import the *Application Programming Interface* `api` from `sumomo` which enables the interface between the package frameworks and black box models. Also import the various utility and plotting functions from `utils` such as the `peaks` function used as an example black box function used in this notebook."
   ]
  },
  {
   "cell_type": "code",
   "execution_count": 1,
   "metadata": {},
   "outputs": [
    {
     "data": {
      "image/png": "[encoded data removed]",
      "text/plain": [
       "<Figure size 288x216 with 1 Axes>"
      ]
     },
     "metadata": {
      "needs_background": "light"
     },
     "output_type": "display_data"
    }
   ],
   "source": [
    "import os\n",
    "import sys\n",
    "nb_dir = os.path.split(os.getcwd())[0]\n",
    "if nb_dir not in sys.path:\n",
    "    sys.path.append(nb_dir)\n",
    "\n",
    "import numpy as np\n",
    "import pyomo.environ as pyo\n",
    "\n",
    "from sumomo import api\n",
    "from utils import peaks, plot_peaks, plot_sampling, plot_model\n",
    "\n",
    "\n",
    "plot_peaks()"
   ]
  },
  {
   "cell_type": "markdown",
   "metadata": {},
   "source": [
    "## Initialise\n",
    "\n",
    "Use `api.initialise` to produce an initial set of statis samples and initialised output variable and target arrays. The `initialise` method requires input attributes `n_samples` and `input_space` where the former is the total number of input samples to generate and the latter is the search space defined by lower and upper bounds on each dimension. If the number of outputs to be sampled is greater than 1 (default), `n_outputs` can be specified. Finally, the sampling strategy to be used can be defined with the `method` attribute. The default sampling strategy is Latin Hypercube Sampling `lhs` with a *maximin* criterion to maximise the minimal pairwise distance between samples. Implementations of LHS and Sobol sampling from `skopt` are available in addition to grid sampling and random sampling methods.\n",
    "\n",
    "Here, 100 input samples are generated for 2 input variables each bounded between (-3.0, 3.0) using LHS. A 1 dimensional output vector is initialised as well as the target vector. Output vectors are intialised with zero values as the default to represent an unsampled output whilst also existing at the mean after standardisation of the data. The target data is intialised as ones as the default representing converged simulations, enabling the framework to be used without feasibility constraints in the default case."
   ]
  },
  {
   "cell_type": "code",
   "execution_count": 2,
   "metadata": {
    "scrolled": true
   },
   "outputs": [
    {
     "data": {
      "image/png": "[encoded data removed]",
      "text/plain": [
       "<Figure size 288x216 with 1 Axes>"
      ]
     },
     "metadata": {
      "needs_background": "light"
     },
     "output_type": "display_data"
    },
    {
     "data": {
      "image/png": "[encoded data removed]",
      "text/plain": [
       "<Figure size 288x216 with 1 Axes>"
      ]
     },
     "metadata": {
      "needs_background": "light"
     },
     "output_type": "display_data"
    },
    {
     "data": {
      "image/png": "[encoded data removed]",
      "text/plain": [
       "<Figure size 288x216 with 1 Axes>"
      ]
     },
     "metadata": {
      "needs_background": "light"
     },
     "output_type": "display_data"
    },
    {
     "data": {
      "image/png": "[encoded data removed]",
      "text/plain": [
       "<Figure size 288x216 with 1 Axes>"
      ]
     },
     "metadata": {
      "needs_background": "light"
     },
     "output_type": "display_data"
    }
   ],
   "source": [
    "n = 64\n",
    "for strategy in ['random', 'lhs', 'sobol', 'grid']:\n",
    "    api.initialise(n, [(-1.0, 1.0), (-1.0, 1.0)], 1, strategy)\n",
    "    plot_sampling(api)"
   ]
  },
  {
   "cell_type": "code",
   "execution_count": 3,
   "metadata": {},
   "outputs": [
    {
     "name": "stdout",
     "output_type": "stream",
     "text": [
      "[[-2.12485781  0.42537944]\n",
      " [ 0.11727855 -2.63047406]\n",
      " [ 2.6778861   2.7228005 ]\n",
      " [ 2.89068114  2.79444912]\n",
      " [ 2.30326084  0.11445882]\n",
      " [-2.27565691  1.45253728]\n",
      " [ 2.57094333  1.40229383]\n",
      " [-2.41268748 -0.8434037 ]\n",
      " [-0.4622317  -1.90634559]\n",
      " [ 1.87629942  0.28543623]\n",
      " [-0.56516675  1.19561803]\n",
      " [ 0.3436321   0.51557839]\n",
      " [-0.91824332  2.3638464 ]\n",
      " [-1.59469899 -0.12374201]\n",
      " [-0.49527567 -1.02160512]\n",
      " [ 0.23733742  2.33604275]\n",
      " [-1.73809996 -1.24191412]\n",
      " [-1.85832947 -2.03953386]\n",
      " [-0.67719851  1.72062305]\n",
      " [-0.01045076 -0.79197786]\n",
      " [ 1.15000175 -2.9652979 ]\n",
      " [-1.66193983  1.50454519]\n",
      " [-2.97784633  1.29761098]\n",
      " [ 2.9410866  -0.11296364]\n",
      " [-1.37385491 -0.62840355]\n",
      " [-2.2893036  -1.84825331]\n",
      " [ 1.24380447  0.65959713]\n",
      " [-2.05429183 -2.79368625]\n",
      " [ 2.43165847 -2.34757912]\n",
      " [ 1.30804894  0.88298391]\n",
      " [-2.90810705  0.83523664]\n",
      " [-2.70072756  1.81784619]\n",
      " [ 1.11774775 -0.04198958]\n",
      " [-2.00518658  2.13286583]\n",
      " [-0.25366492 -0.22322315]\n",
      " [ 1.48601573  2.45982612]\n",
      " [ 0.69187224 -1.62213054]\n",
      " [-0.83786316 -2.68515886]\n",
      " [ 1.95545543  1.87797716]\n",
      " [ 1.6765645  -0.97546983]\n",
      " [-1.21640142  2.91648751]\n",
      " [ 0.5746018   0.73931794]\n",
      " [ 0.65765747  2.58369756]\n",
      " [ 2.21028372  2.2019076 ]\n",
      " [-1.45366115 -0.45471285]\n",
      " [-2.64196378 -2.16860579]\n",
      " [ 0.93714252 -0.68179979]\n",
      " [ 0.7299134   1.01545982]\n",
      " [ 1.85010677 -0.95321831]\n",
      " [ 2.78987827 -0.33337214]\n",
      " [ 0.80444051  0.05184769]\n",
      " [ 2.24946628  1.12793825]\n",
      " [-0.85580502 -1.42688218]\n",
      " [ 1.04274908  1.023486  ]\n",
      " [-1.18272498 -0.76239132]\n",
      " [-2.8056697  -1.68233296]\n",
      " [-0.7220026  -2.29769763]\n",
      " [ 0.24120084  1.22667884]\n",
      " [-2.51976181 -1.75380251]\n",
      " [ 0.98696319 -2.85922563]\n",
      " [-1.55689353  0.91209781]\n",
      " [-0.17663983  0.17046727]\n",
      " [ 2.38271193  1.65445255]\n",
      " [-0.63865733  2.0075596 ]\n",
      " [ 1.52702992  1.77637231]\n",
      " [ 1.36403938 -2.11935143]\n",
      " [-1.88622215 -2.5665637 ]\n",
      " [-1.27335824  2.24629458]\n",
      " [-2.85086582  0.37382001]\n",
      " [ 2.47770771 -0.54683427]\n",
      " [ 0.03839651  0.31063456]\n",
      " [-0.35878356 -1.52898921]\n",
      " [-1.03874986 -2.9386706 ]\n",
      " [ 1.98753916 -1.16334985]\n",
      " [-0.37179151  1.33248773]\n",
      " [ 1.57332775  0.59252293]\n",
      " [-1.77374654 -1.56277966]\n",
      " [-0.21031238 -1.95039113]\n",
      " [-1.96382779 -2.25968936]\n",
      " [ 2.62094956  0.69618848]\n",
      " [ 0.51237343  2.09102818]\n",
      " [ 2.10000069 -0.50405205]\n",
      " [-2.53735289 -2.4386152 ]\n",
      " [ 0.43759897 -2.50034326]\n",
      " [ 2.87632361 -1.1124838 ]\n",
      " [-1.40194233  0.23005873]\n",
      " [ 0.39778312  2.94621967]\n",
      " [ 2.74574622 -1.37929341]\n",
      " [-1.10442375  2.52169404]\n",
      " [ 1.78743705  1.95480432]\n",
      " [-2.18385885 -0.385284  ]\n",
      " [-0.09476515 -2.73650594]\n",
      " [-2.35450775  1.61440365]\n",
      " [ 1.43234066 -1.30165181]\n",
      " [ 0.14612612  2.86474953]\n",
      " [ 1.68743039  2.48532881]\n",
      " [ 2.04963945 -1.46163034]\n",
      " [-2.58766001 -0.26446751]\n",
      " [ 0.89119666  2.65621977]\n",
      " [-0.97570564 -2.07679698]]\n",
      "[[0.]\n",
      " [0.]\n",
      " [0.]\n",
      " [0.]\n",
      " [0.]\n",
      " [0.]\n",
      " [0.]\n",
      " [0.]\n",
      " [0.]\n",
      " [0.]\n",
      " [0.]\n",
      " [0.]\n",
      " [0.]\n",
      " [0.]\n",
      " [0.]\n",
      " [0.]\n",
      " [0.]\n",
      " [0.]\n",
      " [0.]\n",
      " [0.]\n",
      " [0.]\n",
      " [0.]\n",
      " [0.]\n",
      " [0.]\n",
      " [0.]\n",
      " [0.]\n",
      " [0.]\n",
      " [0.]\n",
      " [0.]\n",
      " [0.]\n",
      " [0.]\n",
      " [0.]\n",
      " [0.]\n",
      " [0.]\n",
      " [0.]\n",
      " [0.]\n",
      " [0.]\n",
      " [0.]\n",
      " [0.]\n",
      " [0.]\n",
      " [0.]\n",
      " [0.]\n",
      " [0.]\n",
      " [0.]\n",
      " [0.]\n",
      " [0.]\n",
      " [0.]\n",
      " [0.]\n",
      " [0.]\n",
      " [0.]\n",
      " [0.]\n",
      " [0.]\n",
      " [0.]\n",
      " [0.]\n",
      " [0.]\n",
      " [0.]\n",
      " [0.]\n",
      " [0.]\n",
      " [0.]\n",
      " [0.]\n",
      " [0.]\n",
      " [0.]\n",
      " [0.]\n",
      " [0.]\n",
      " [0.]\n",
      " [0.]\n",
      " [0.]\n",
      " [0.]\n",
      " [0.]\n",
      " [0.]\n",
      " [0.]\n",
      " [0.]\n",
      " [0.]\n",
      " [0.]\n",
      " [0.]\n",
      " [0.]\n",
      " [0.]\n",
      " [0.]\n",
      " [0.]\n",
      " [0.]\n",
      " [0.]\n",
      " [0.]\n",
      " [0.]\n",
      " [0.]\n",
      " [0.]\n",
      " [0.]\n",
      " [0.]\n",
      " [0.]\n",
      " [0.]\n",
      " [0.]\n",
      " [0.]\n",
      " [0.]\n",
      " [0.]\n",
      " [0.]\n",
      " [0.]\n",
      " [0.]\n",
      " [0.]\n",
      " [0.]\n",
      " [0.]\n",
      " [0.]]\n",
      "[[1.]\n",
      " [1.]\n",
      " [1.]\n",
      " [1.]\n",
      " [1.]\n",
      " [1.]\n",
      " [1.]\n",
      " [1.]\n",
      " [1.]\n",
      " [1.]\n",
      " [1.]\n",
      " [1.]\n",
      " [1.]\n",
      " [1.]\n",
      " [1.]\n",
      " [1.]\n",
      " [1.]\n",
      " [1.]\n",
      " [1.]\n",
      " [1.]\n",
      " [1.]\n",
      " [1.]\n",
      " [1.]\n",
      " [1.]\n",
      " [1.]\n",
      " [1.]\n",
      " [1.]\n",
      " [1.]\n",
      " [1.]\n",
      " [1.]\n",
      " [1.]\n",
      " [1.]\n",
      " [1.]\n",
      " [1.]\n",
      " [1.]\n",
      " [1.]\n",
      " [1.]\n",
      " [1.]\n",
      " [1.]\n",
      " [1.]\n",
      " [1.]\n",
      " [1.]\n",
      " [1.]\n",
      " [1.]\n",
      " [1.]\n",
      " [1.]\n",
      " [1.]\n",
      " [1.]\n",
      " [1.]\n",
      " [1.]\n",
      " [1.]\n",
      " [1.]\n",
      " [1.]\n",
      " [1.]\n",
      " [1.]\n",
      " [1.]\n",
      " [1.]\n",
      " [1.]\n",
      " [1.]\n",
      " [1.]\n",
      " [1.]\n",
      " [1.]\n",
      " [1.]\n",
      " [1.]\n",
      " [1.]\n",
      " [1.]\n",
      " [1.]\n",
      " [1.]\n",
      " [1.]\n",
      " [1.]\n",
      " [1.]\n",
      " [1.]\n",
      " [1.]\n",
      " [1.]\n",
      " [1.]\n",
      " [1.]\n",
      " [1.]\n",
      " [1.]\n",
      " [1.]\n",
      " [1.]\n",
      " [1.]\n",
      " [1.]\n",
      " [1.]\n",
      " [1.]\n",
      " [1.]\n",
      " [1.]\n",
      " [1.]\n",
      " [1.]\n",
      " [1.]\n",
      " [1.]\n",
      " [1.]\n",
      " [1.]\n",
      " [1.]\n",
      " [1.]\n",
      " [1.]\n",
      " [1.]\n",
      " [1.]\n",
      " [1.]\n",
      " [1.]\n",
      " [1.]]\n"
     ]
    }
   ],
   "source": [
    "api.initialise(n_samples=100, input_space=[(-3.0, 3.0), (-3.0, 3.0)], n_outputs=1, method='lhs')\n",
    "\n",
    "print(api.x)\n",
    "print(api.y)\n",
    "print(api.t)"
   ]
  },
  {
   "cell_type": "markdown",
   "metadata": {},
   "source": [
    "## Sampling\n",
    "\n",
    "The API provides the initialised output and target arrays, but it is necessary to script the population of these empty arrays with the sampled black box data manually. This is due to different black box models and simulations having different Python interfacing capabilities. Typically, one input sample is sent to the black box to be evaluated, so this is simulated here using a `for` loop to iterate over the input samples one-by-one. For each input sample `x[i]`, a corresponding output `y[i]` is evaluated along with a binary target `t[i]` representing a converged sample (1) or non-converged sample (0). The peaks function is used as the black box to generate input-output data. Feasible designs (i.e. converged or `t=1`) are constrained to within a circle with radius 2 (or infeasible designs are defined as those outside this circles boundary since `t` is 1 by default) for demonstrative purposes. When sampling from black box simulations in practice, there is typically a black box variable which defines the convergence enabling the user to explicitly sample target data."
   ]
  },
  {
   "cell_type": "code",
   "execution_count": 4,
   "metadata": {},
   "outputs": [
    {
     "name": "stdout",
     "output_type": "stream",
     "text": [
      "[[-8.72477457e-01]\n",
      " [-1.06662099e+00]\n",
      " [ 7.79961944e-04]\n",
      " [ 1.85096986e-04]\n",
      " [ 5.83689678e-01]\n",
      " [-4.07337702e-02]\n",
      " [ 4.13250670e-02]\n",
      " [-1.24785538e-01]\n",
      " [-3.09904911e+00]\n",
      " [ 1.71247717e+00]\n",
      " [ 4.10986052e+00]\n",
      " [ 1.29899588e-01]\n",
      " [ 1.17828363e+00]\n",
      " [-2.38679995e+00]\n",
      " [ 2.02686529e+00]\n",
      " [ 2.80347802e+00]\n",
      " [ 1.73539491e-01]\n",
      " [ 5.65074253e-02]\n",
      " [ 4.86794682e+00]\n",
      " [ 1.21342417e+00]\n",
      " [-9.18340459e-02]\n",
      " [ 2.06834566e-01]\n",
      " [-6.99305836e-03]\n",
      " [ 4.38725200e-02]\n",
      " [-4.30801065e-01]\n",
      " [ 2.40467978e-02]\n",
      " [ 2.48143835e+00]\n",
      " [ 5.73882940e-03]\n",
      " [-3.56934241e-03]\n",
      " [ 2.08306826e+00]\n",
      " [-2.89732637e-02]\n",
      " [-4.95765317e-04]\n",
      " [ 3.35770869e+00]\n",
      " [ 6.79523958e-02]\n",
      " [ 2.53855222e+00]\n",
      " [ 2.40904799e-01]\n",
      " [-4.80481512e+00]\n",
      " [-2.19598705e-01]\n",
      " [ 1.95532925e-01]\n",
      " [ 8.94045216e-01]\n",
      " [ 9.64133714e-02]\n",
      " [ 1.23316251e+00]\n",
      " [ 9.43636424e-01]\n",
      " [ 3.68046386e-02]\n",
      " [-1.35164824e+00]\n",
      " [ 3.68579497e-03]\n",
      " [ 1.27412782e+00]\n",
      " [ 2.76464838e+00]\n",
      " [ 7.51003115e-01]\n",
      " [ 8.14173504e-02]\n",
      " [ 1.88512896e+00]\n",
      " [ 2.27143910e-01]\n",
      " [ 9.88027088e-02]\n",
      " [ 2.42063949e+00]\n",
      " [ 8.41575017e-01]\n",
      " [ 1.77245277e-03]\n",
      " [-9.65659321e-01]\n",
      " [ 5.74343986e+00]\n",
      " [ 9.39379220e-03]\n",
      " [-2.02309724e-01]\n",
      " [-1.15287281e+00]\n",
      " [ 1.14070974e+00]\n",
      " [ 5.64125331e-02]\n",
      " [ 3.83333597e+00]\n",
      " [ 8.66827536e-01]\n",
      " [-6.88056018e-01]\n",
      " [ 1.47806188e-02]\n",
      " [ 7.02464871e-01]\n",
      " [-6.54583703e-02]\n",
      " [ 2.46093293e-01]\n",
      " [ 3.51263025e-01]\n",
      " [-3.41127335e+00]\n",
      " [-3.40967372e-02]\n",
      " [ 3.19546671e-01]\n",
      " [ 6.21418792e+00]\n",
      " [ 2.16962954e+00]\n",
      " [ 1.63215992e-01]\n",
      " [-4.30947297e+00]\n",
      " [ 2.85053890e-02]\n",
      " [ 1.13378626e-01]\n",
      " [ 3.88312522e+00]\n",
      " [ 8.64947496e-01]\n",
      " [ 3.22942722e-03]\n",
      " [-1.47270616e+00]\n",
      " [ 1.85941716e-02]\n",
      " [-3.02275306e+00]\n",
      " [ 3.21955622e-01]\n",
      " [ 1.62408670e-02]\n",
      " [ 5.14975453e-01]\n",
      " [ 3.04148670e-01]\n",
      " [-6.24536986e-01]\n",
      " [-6.76200213e-01]\n",
      " [-8.45052420e-03]\n",
      " [-1.90448741e-01]\n",
      " [ 5.15130816e-01]\n",
      " [ 1.19596039e-01]\n",
      " [ 6.70659086e-02]\n",
      " [-1.90932626e-01]\n",
      " [ 5.17550375e-01]\n",
      " [-6.21752196e-01]]\n",
      "[[0.]\n",
      " [0.]\n",
      " [0.]\n",
      " [0.]\n",
      " [0.]\n",
      " [0.]\n",
      " [0.]\n",
      " [0.]\n",
      " [1.]\n",
      " [1.]\n",
      " [1.]\n",
      " [1.]\n",
      " [0.]\n",
      " [1.]\n",
      " [1.]\n",
      " [0.]\n",
      " [0.]\n",
      " [0.]\n",
      " [1.]\n",
      " [1.]\n",
      " [0.]\n",
      " [0.]\n",
      " [0.]\n",
      " [0.]\n",
      " [1.]\n",
      " [0.]\n",
      " [1.]\n",
      " [0.]\n",
      " [0.]\n",
      " [1.]\n",
      " [0.]\n",
      " [0.]\n",
      " [1.]\n",
      " [0.]\n",
      " [1.]\n",
      " [0.]\n",
      " [1.]\n",
      " [0.]\n",
      " [0.]\n",
      " [1.]\n",
      " [0.]\n",
      " [1.]\n",
      " [0.]\n",
      " [0.]\n",
      " [1.]\n",
      " [0.]\n",
      " [1.]\n",
      " [1.]\n",
      " [0.]\n",
      " [0.]\n",
      " [1.]\n",
      " [0.]\n",
      " [1.]\n",
      " [1.]\n",
      " [1.]\n",
      " [0.]\n",
      " [0.]\n",
      " [1.]\n",
      " [0.]\n",
      " [0.]\n",
      " [1.]\n",
      " [1.]\n",
      " [0.]\n",
      " [0.]\n",
      " [0.]\n",
      " [0.]\n",
      " [0.]\n",
      " [0.]\n",
      " [0.]\n",
      " [0.]\n",
      " [1.]\n",
      " [1.]\n",
      " [0.]\n",
      " [0.]\n",
      " [1.]\n",
      " [1.]\n",
      " [0.]\n",
      " [1.]\n",
      " [0.]\n",
      " [0.]\n",
      " [0.]\n",
      " [0.]\n",
      " [0.]\n",
      " [0.]\n",
      " [0.]\n",
      " [1.]\n",
      " [0.]\n",
      " [0.]\n",
      " [0.]\n",
      " [0.]\n",
      " [0.]\n",
      " [0.]\n",
      " [0.]\n",
      " [1.]\n",
      " [0.]\n",
      " [0.]\n",
      " [0.]\n",
      " [0.]\n",
      " [0.]\n",
      " [0.]]\n"
     ]
    }
   ],
   "source": [
    "for i in range(api.x.shape[0]):\n",
    "    api.y[i] = peaks(api.x[i])\n",
    "    if ( api.x[i, 0] ** 2 + api.x[i, 1] ** 2 > 4 ):\n",
    "        api.t[i] = 0\n",
    "\n",
    "print(api.y)\n",
    "print(api.t)"
   ]
  },
  {
   "cell_type": "markdown",
   "metadata": {},
   "source": [
    "## Data processing\n",
    "\n",
    "Before using data `x, y, t` to train surrogate models, any train-test-splits and appropriate scaling must be used (in this order - split then scale).\n",
    "\n",
    "### Train-test-split\n",
    "\n",
    "The `split` method can be used to partition the `x, y, t` data into training and testing sets, `x_train, y_train, t_train` and `x_test, y_test, t_test`. This enables users to train the surrogate models using most of the sampled data whilst witholding some data from the model to be used to test the trained model performance without necessitating further sampling from the expensive black box. The `split` method takes the parameter `test-size` enabling the user to decide what fraction of the data to withold for testing purposes (default is 0.3)."
   ]
  },
  {
   "cell_type": "code",
   "execution_count": 5,
   "metadata": {},
   "outputs": [
    {
     "name": "stdout",
     "output_type": "stream",
     "text": [
      "(70, 2)\n"
     ]
    }
   ],
   "source": [
    "api.split(test_size=0.3)\n",
    "\n",
    "print(api.x_train.shape)"
   ]
  },
  {
   "cell_type": "markdown",
   "metadata": {},
   "source": [
    "### Standardisation\n",
    "\n",
    "It is important that prior to training surrogate models, the input-output data is scaled appropriately. Specifically, scaling over the samples, for each dimension, ensures that variables with large magnitudes do not have a greater influence on measures of surrogate model fit which would result in overfitting to specific dimensions at the cost of overall model accuracy.\n",
    "\n",
    "The scaling method uses standarisation to subtract the mean and divide the result by the standard deviation so that each dimension follows a normal distribution with mean 0 and a standard deviation of 1. When the data is not split beforehand, `x` is simply standardised over the entire dataset to generate `x_` and the `api` object also saves the `x_mean` and `x_std` values for future scaling and descaling purposes. Here, `x_mean` and `x_std` are used to scale the `space` paramter to provide bounds of the scaled search space as `space_`. In this case, `y` is standardised using the `y_mean` and `y_std` of only the converged output data to produce `y_`.\n",
    "\n",
    "It is important to split and then scale the data so that training data is scaled using only the training data and not the full data set. For the input data, this case produces `x_train_`, whilst `x_train_mean` and `x_train_std` values are used to standarise `x_test_` into the same scaled space as the training data which was used to train the surrogate model. In this case, `space_` is also generated using `x_train_mean` and `x_train_std`. Similarly, `y_train_` and `y_test_` are both standarised using `y_train_mean` and `y_train_std` of converged training outputs only."
   ]
  },
  {
   "cell_type": "code",
   "execution_count": 6,
   "metadata": {},
   "outputs": [
    {
     "name": "stdout",
     "output_type": "stream",
     "text": [
      "[0.74606931] [2.67707982]\n"
     ]
    }
   ],
   "source": [
    "api.scale()\n",
    "\n",
    "print(api.y_train_mean, api.y_train_std)"
   ]
  },
  {
   "cell_type": "markdown",
   "metadata": {},
   "source": [
    "## Regressor model training\n",
    "\n",
    "The `init_regressor` method can be used to fit a regression surrogate model to the scaled input-output data. This methods recieves a parameter `type` as a string to define whether to use a Gaussian Process Regressor `gp` or a Neural Network `nn`. In addition, the user can pass keyword arguments to define the setup of the particular model. For example, for a NN, the user must specify parameters `hidden_layers` as a list of number of nodes in each hidden layer (e.g. `hidden_layers=[10, 10]`) and `activation` as a string to define the activation function applied to each hidden layer. Activation functions available are `tanh`, `sigmoid`, `softplus`, and `relu`. For a GP model users can specify a level of `noise`.\n",
    "\n",
    "To train the surrogate model the user uses the relevant methods provided by the model object interfaced through `api.regressor`. It should be noted that the regressor models are typically fitted to standardised input-output data or standardised training data using `api.regressor.fit(api.x_, api.y_)` or `api.regressor.fit(api.x_train_, api.y_train_)` respectively."
   ]
  },
  {
   "cell_type": "code",
   "execution_count": 7,
   "metadata": {},
   "outputs": [
    {
     "name": "stdout",
     "output_type": "stream",
     "text": [
      "NN(\n",
      "  (network): Sequential(\n",
      "    (0): Linear(in_features=2, out_features=15, bias=True)\n",
      "    (1): Tanh()\n",
      "    (2): Linear(in_features=15, out_features=5, bias=True)\n",
      "    (3): Tanh()\n",
      "    (4): Linear(in_features=5, out_features=1, bias=True)\n",
      "  )\n",
      "  (loss_func): MSELoss()\n",
      ")\n"
     ]
    }
   ],
   "source": [
    "api.init_regressor('nn', hidden_layers=[15, 5], activation='tanh')\n",
    "api.regressor.fit(api.x_train_, api.y_train_)\n",
    "\n",
    "print(api.regressor)"
   ]
  },
  {
   "cell_type": "markdown",
   "metadata": {},
   "source": [
    "## Classifier model training\n",
    "\n",
    "The `init_classifier` method can be used to fit a classification surrogate model to the scaled input data and binary target data. This methods also recieves a parameter `type` as a string to define whether to use a Gaussian Process Classifier `gp` or a Neural Network `nn`. The user passes keyword arguments to define the setup of the model in the same way as for regression models. NNs recieve the same parameters `hidden_layers` and `activation` whereas GPs do not have any customisable parameters. Activation functions available for classification are `sigmoid`or `hardsigmoid` where these function are applied to hidden layers and the output layer in the classification case.\n",
    "\n",
    "To train the surrogate model the user uses the relevant methods provided by the model object interfaced through `api.classifier`. The classifier is typically trained using scaled input data and target data or the training equivalents using `api.classifier.fit(api.x_, api.t)` or `api.classifier.fit(api.x_train_, api.t_train)`, respectively."
   ]
  },
  {
   "cell_type": "code",
   "execution_count": 8,
   "metadata": {},
   "outputs": [
    {
     "name": "stdout",
     "output_type": "stream",
     "text": [
      "NNClassifier(\n",
      "  (network): Sequential(\n",
      "    (0): Linear(in_features=2, out_features=10, bias=True)\n",
      "    (1): Sigmoid()\n",
      "    (2): Linear(in_features=10, out_features=1, bias=True)\n",
      "    (3): Sigmoid()\n",
      "  )\n",
      "  (loss_func): MSELoss()\n",
      ")\n"
     ]
    }
   ],
   "source": [
    "api.init_classifier('nn', hidden_layers=[10], activation='sigmoid')\n",
    "api.classifier.fit(api.x_train_, api.t_train)\n",
    "\n",
    "print(api.classifier)"
   ]
  },
  {
   "cell_type": "markdown",
   "metadata": {},
   "source": [
    "## Pyomo formulations\n",
    "\n",
    "### Foundations\n",
    "\n",
    "The `api` provided by `sumomo` enables the optimisation formualations of trained surrogate models to be plugged into larger optimisation formulations where required. To show this, begin initialising an optimisation problem saved as `opt`. This optimisation problem has variables `inputs` with the same dimensions as our surrogate model inputs, a scalar `output` variable, and a scalar variable `feasibility`. Here, also define a constraint for this larger optimisation formulation that the feasibility probability must be greater than 0.5. Finally, define the objective function as maximise `output`."
   ]
  },
  {
   "cell_type": "code",
   "execution_count": 9,
   "metadata": {},
   "outputs": [
    {
     "name": "stdout",
     "output_type": "stream",
     "text": [
      "1 Set Declarations\n",
      "    inputs_index : Size=1, Index=None, Ordered=False\n",
      "        Key  : Dimen : Domain : Size : Members\n",
      "        None :     1 :    Any :    2 : {0, 1}\n",
      "\n",
      "3 Var Declarations\n",
      "    feasibility : Size=1, Index=None\n",
      "        Key  : Lower : Value : Upper : Fixed : Stale : Domain\n",
      "        None :  None :  None :  None : False :  True :  Reals\n",
      "    inputs : Size=2, Index=inputs_index\n",
      "        Key : Lower : Value : Upper : Fixed : Stale : Domain\n",
      "          0 :  None :  None :  None : False :  True :  Reals\n",
      "          1 :  None :  None :  None : False :  True :  Reals\n",
      "    output : Size=1, Index=None\n",
      "        Key  : Lower : Value : Upper : Fixed : Stale : Domain\n",
      "        None :  None :  None :  None : False :  True :  Reals\n",
      "\n",
      "1 Objective Declarations\n",
      "    obj : Size=1, Index=None, Active=True\n",
      "        Key  : Active : Sense    : Expression\n",
      "        None :   True : maximize :     output\n",
      "\n",
      "1 Constraint Declarations\n",
      "    feasibility_con : Size=1, Index=None, Active=True\n",
      "        Key  : Lower : Body        : Upper : Active\n",
      "        None :   0.5 : feasibility :  +Inf :   True\n",
      "\n",
      "6 Declarations: inputs_index inputs output feasibility feasibility_con obj\n"
     ]
    }
   ],
   "source": [
    "opt = pyo.ConcreteModel()\n",
    "\n",
    "opt.n_inputs = set(range(api.x.shape[1]))\n",
    "\n",
    "opt.inputs = pyo.Var(opt.n_inputs)\n",
    "opt.output = pyo.Var()\n",
    "opt.feasibility = pyo.Var()\n",
    "\n",
    "opt.feasibility_con = pyo.Constraint(expr=opt.feasibility >= 0.5 )\n",
    "\n",
    "opt.obj = pyo.Objective(expr=opt.output, sense=pyo.maximize)\n",
    "\n",
    "opt.pprint()"
   ]
  },
  {
   "cell_type": "markdown",
   "metadata": {},
   "source": [
    "### Formulating surrogate model constraints\n",
    "\n",
    "The constraints defining the relationship between `output` and `inputs` will be enforced by the regression surrogate model, whilst the constraints defining the relationship between `feasibility` and `inputs` will be enforced by the classifier surrogate model. To achieve this, simply use the `formulate` method provided by the `api` and pass in the trained surrogate model instance for which to formulate constraints. Assign the output of this method call to an attribute of the larger optimisation problem where the surrogate model formulation will be contained as a Pyomo *Block*. Finally, connect the optimisation problem variables `inputs` and `output` to the surrogate model input and output variables."
   ]
  },
  {
   "cell_type": "code",
   "execution_count": 10,
   "metadata": {},
   "outputs": [],
   "source": [
    "opt.mdl = api.formulate(api.regressor)\n",
    "opt.feas = api.formulate(api.classifier)\n",
    "\n",
    "# connect pyomo model input and output to the surrogate models\n",
    "@opt.Constraint(opt.n_inputs)\n",
    "def connect_regressor_inputs(m, i):\n",
    "    return m.inputs[i] == m.mdl.inputs[i]\n",
    "\n",
    "@opt.Constraint(opt.n_inputs)\n",
    "def connect_classifier_inputs(m, i):\n",
    "    return m.inputs[i] == m.feas.inputs[i]\n",
    "\n",
    "@opt.Constraint()\n",
    "def connect_regressor_output(m):\n",
    "    return m.output == m.mdl.outputs[0]\n",
    "\n",
    "@opt.Constraint()\n",
    "def connect_classifier_output(m):\n",
    "    return m.feasibility == m.feas.outputs[0]"
   ]
  },
  {
   "cell_type": "markdown",
   "metadata": {},
   "source": [
    "### Solving the optimisation problem\n",
    "\n",
    "The user must then define the solver and desired solver settings before writing the solve statement."
   ]
  },
  {
   "cell_type": "code",
   "execution_count": 11,
   "metadata": {},
   "outputs": [
    {
     "name": "stdout",
     "output_type": "stream",
     "text": [
      "===========================================================================\n",
      " BARON version 22.4.20. Built: WIN-64 Wed Apr 20 10:52:13 EDT 2022\n",
      "\n",
      " BARON is a product of The Optimization Firm.\n",
      " For information on BARON, see https://minlp.com/about-baron\n",
      " Licensee: \n",
      " Benoit Chachuat at Imperial College London, b.chachuat@imperial.ac.uk.\n",
      "\n",
      " If you use this software, please cite publications from\n",
      " https://minlp.com/baron-publications, such as: \n",
      "\n",
      " Khajavirad, A. and N. V. Sahinidis,\n",
      " A hybrid LP/NLP paradigm for global optimization relaxations,\n",
      " Mathematical Programming Computation, 10, 383-421, 2018.\n",
      "===========================================================================\n",
      " This BARON run may utilize the following subsolver(s)\n",
      " For LP/MIP/QP: CLP/CBC, ILOG CPLEX                             \n",
      " For NLP: IPOPT, FILTERSQP\n",
      "===========================================================================\n",
      " Doing local search\n",
      " Preprocessing found feasible solution with value  2.53987636308     \n",
      " Solving bounding LP\n",
      " Starting multi-start local search\n",
      " Preprocessing found feasible solution with value  2.53987636308     \n",
      " Done with local search\n",
      "===========================================================================\n",
      "  Iteration    Open nodes         Time (s)    Lower bound      Upper bound\n",
      "          1             1             0.16     2.53988          4.43036    \n",
      "*       782            87             9.92     2.53989          2.79425    \n",
      "      15254          1689            39.61     2.53989          2.54030    \n",
      "      29625          2986            69.61     2.53989          2.54022    \n",
      "      39846          4432            99.61     2.53989          2.54017    \n",
      "      49068          4850           129.12     2.53989          2.54012    \n",
      "*     51144           174           138.72     2.53990          2.54011    \n",
      "      62480           114           168.59     2.53990          2.54003    \n",
      "      72642            87           198.45     2.53990          2.53998    \n",
      "      82083            93           228.22     2.53990          2.53991    \n",
      "      90921            84           257.92     2.53990          2.53991    \n",
      "      99194            77           287.78     2.53990          2.53991    \n",
      "     102445            84           300.00     2.53990          2.53991    \n",
      "\n",
      "                    *** Max. allowable time exceeded ***      \n",
      "\n",
      " Wall clock time:                   302.51\n",
      " Total CPU time used:               300.00\n",
      "\n",
      " Total no. of BaR iterations:  102445\n",
      " Best solution found at node:   51144\n",
      " Max. no. of nodes in memory:    4886\n",
      " \n",
      " All done\n",
      "===========================================================================\n"
     ]
    }
   ],
   "source": [
    "# solver setup\n",
    "solver = pyo.SolverFactory('baron')\n",
    "solver.options['MaxTime'] = 300\n",
    "\n",
    "# macOS requires CplexLibName option to be specified, please change accordingly\n",
    "# solver.options['CplexLibName'] = \"/Applications/CPLEX_Studio201/cplex/bin/x86-64_osx/libcplex2010.dylib\"\n",
    "\n",
    "# solve\n",
    "results = solver.solve(opt, tee=True)"
   ]
  },
  {
   "cell_type": "markdown",
   "metadata": {},
   "source": [
    "## Results\n",
    "\n",
    "Denormalise the optimisation solution using the statistical moment data saved in `api`. Also compare the predictions of the regressor and classifier models at the solution with the optimisation variable values to observe any difference between the model formulations and the optimisaiton formulations."
   ]
  },
  {
   "cell_type": "code",
   "execution_count": 12,
   "metadata": {},
   "outputs": [
    {
     "name": "stdout",
     "output_type": "stream",
     "text": [
      "[-0.33092067199223946, 1.6645217507096048]\n",
      "2.53989785964948 2.5398765\n",
      "0.950976220857408 0.9509787\n"
     ]
    }
   ],
   "source": [
    "# denormalise solution\n",
    "solution = [opt.inputs[i].value * api.x_train_std[i] + api.x_train_mean[i] for i in range(api.x.shape[1])]\n",
    "print(solution)\n",
    "\n",
    "# compare optimisation outputs with model prediction\n",
    "x_ = [(solution[i] - api.x_train_mean[i]) / api.x_train_std[i] for i in range(api.x.shape[1])]\n",
    "print(opt.output.value, api.regressor.predict(np.array([x_]))[0][0])\n",
    "print(opt.feasibility.value, api.classifier.predict(np.array([x_]))[0][0])"
   ]
  },
  {
   "cell_type": "markdown",
   "metadata": {},
   "source": [
    "Plot the surrogate model predictions overlayed with the sampled data, the optimisataion solution and the feasibility constraint."
   ]
  },
  {
   "cell_type": "code",
   "execution_count": 13,
   "metadata": {},
   "outputs": [
    {
     "data": {
      "image/png": "[encoded data removed]",
      "text/plain": [
       "<Figure size 288x216 with 1 Axes>"
      ]
     },
     "metadata": {
      "needs_background": "light"
     },
     "output_type": "display_data"
    }
   ],
   "source": [
    "plot_model(api, show_samples=True, show_sol=solution, show_class=True)"
   ]
  },
  {
   "cell_type": "code",
   "execution_count": null,
   "metadata": {},
   "outputs": [],
   "source": []
  }
 ],
 "metadata": {
  "kernelspec": {
   "display_name": "Python 3 (ipykernel)",
   "language": "python",
   "name": "python3"
  },
  "language_info": {
   "codemirror_mode": {
    "name": "ipython",
    "version": 3
   },
   "file_extension": ".py",
   "mimetype": "text/x-python",
   "name": "python",
   "nbconvert_exporter": "python",
   "pygments_lexer": "ipython3",
   "version": "3.9.7"
  },
  "vscode": {
   "interpreter": {
    "hash": "509b8fb1f9bb9a36cf455cc3b6d7786e56047ba93e78ea1e04340272261a598e"
   }
  }
 },
 "nbformat": 4,
 "nbformat_minor": 2
}
