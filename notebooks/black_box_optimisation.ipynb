{
 "cells": [
  {
   "cell_type": "markdown",
   "metadata": {},
   "source": [
    "# Black Box Optimisation\n",
    "## Introduction\n",
    "This notebook showcases the `sumomo` package enabling surrogate modelling and optimisation of black box models. To begin, ensure that this notebook directory is in the system path and then proceed to import the *Application Programming Interface* `api` from `sumomo` which enables the interface between the package frameworks and black box models. Also import the various utility and plotting functions from `utils` such as the `peaks` function used as an example black box function used in this notebook."
   ]
  },
  {
   "cell_type": "code",
   "execution_count": 3,
   "metadata": {},
   "outputs": [
    {
     "data": {
      "image/png": "[encoded data removed]",
      "text/plain": [
       "<Figure size 288x216 with 1 Axes>"
      ]
     },
     "metadata": {
      "needs_background": "light"
     },
     "output_type": "display_data"
    }
   ],
   "source": [
    "import os\n",
    "import sys\n",
    "nb_dir = os.path.split(os.getcwd())[0]\n",
    "if nb_dir not in sys.path:\n",
    "    sys.path.append(nb_dir)\n",
    "\n",
    "import numpy as np\n",
    "import pyomo.environ as pyo\n",
    "\n",
    "from sumomo import API\n",
    "from utils import peaks, plot_peaks, plot_sampling, plot_model\n",
    "\n",
    "\n",
    "plot_peaks()"
   ]
  },
  {
   "cell_type": "markdown",
   "metadata": {},
   "source": [
    "## Initialise\n",
    "\n",
    "Use `api.initialise` to produce an initial set of statis samples and initialised output variable and target arrays. The `initialise` method requires input attributes `n_samples` and `input_space` where the former is the total number of input samples to generate and the latter is the search space defined by lower and upper bounds on each dimension. If the number of outputs to be sampled is greater than 1 (default), `n_outputs` can be specified. Finally, the sampling strategy to be used can be defined with the `method` attribute. The default sampling strategy is Latin Hypercube Sampling `lhs` with a *maximin* criterion to maximise the minimal pairwise distance between samples. Implementations of LHS and Sobol sampling from `skopt` are available in addition to grid sampling and random sampling methods.\n",
    "\n",
    "Here, 100 input samples are generated for 2 input variables each bounded between (-3.0, 3.0) using LHS. A 1 dimensional output vector is initialised as well as the target vector. Output vectors are intialised with zero values as the default to represent an unsampled output whilst also existing at the mean after standardisation of the data. The target data is intialised as ones as the default representing converged simulations, enabling the framework to be used without feasibility constraints in the default case."
   ]
  },
  {
   "cell_type": "code",
   "execution_count": 4,
   "metadata": {
    "scrolled": true
   },
   "outputs": [
    {
     "data": {
      "image/png": "[encoded data removed]",
      "text/plain": [
       "<Figure size 288x216 with 1 Axes>"
      ]
     },
     "metadata": {
      "needs_background": "light"
     },
     "output_type": "display_data"
    },
    {
     "data": {
      "image/png": "[encoded data removed]",
      "text/plain": [
       "<Figure size 288x216 with 1 Axes>"
      ]
     },
     "metadata": {
      "needs_background": "light"
     },
     "output_type": "display_data"
    },
    {
     "data": {
      "image/png": "[encoded data removed]",
      "text/plain": [
       "<Figure size 288x216 with 1 Axes>"
      ]
     },
     "metadata": {
      "needs_background": "light"
     },
     "output_type": "display_data"
    },
    {
     "data": {
      "image/png": "[encoded data removed]",
      "text/plain": [
       "<Figure size 288x216 with 1 Axes>"
      ]
     },
     "metadata": {
      "needs_background": "light"
     },
     "output_type": "display_data"
    }
   ],
   "source": [
    "n = 64\n",
    "for strategy in ['random', 'lhs', 'sobol', 'grid']:\n",
    "    api = API(n, [(-1.0, 1.0), (-1.0, 1.0)], 1, strategy)\n",
    "    plot_sampling(api)"
   ]
  },
  {
   "cell_type": "code",
   "execution_count": 5,
   "metadata": {},
   "outputs": [
    {
     "name": "stdout",
     "output_type": "stream",
     "text": [
      "[[-2.23718873e+00  4.00705244e-01]\n",
      " [ 4.17077240e-01 -1.46486183e+00]\n",
      " [ 2.37790581e+00 -1.95806821e+00]\n",
      " [ 2.76033616e+00  1.89972923e+00]\n",
      " [ 5.86099886e-01 -2.53488873e+00]\n",
      " [ 1.21701396e+00  2.70022408e+00]\n",
      " [-1.36092979e+00 -1.71584110e+00]\n",
      " [ 1.95596873e+00  2.02043808e+00]\n",
      " [-9.49692505e-01 -6.72629568e-01]\n",
      " [ 2.40923362e+00  1.62935474e+00]\n",
      " [-9.05927047e-02 -2.26662018e-01]\n",
      " [ 2.65693056e+00  1.31022232e+00]\n",
      " [ 6.20859642e-01 -4.34888805e-01]\n",
      " [-2.88601394e+00 -3.24803421e-01]\n",
      " [-2.77468657e+00 -9.75887072e-01]\n",
      " [-2.59698815e+00  2.68751919e+00]\n",
      " [-1.01105533e+00 -2.62132803e+00]\n",
      " [ 8.70713063e-01  2.33495208e+00]\n",
      " [ 1.49772216e-02 -2.17749312e+00]\n",
      " [ 1.31784454e+00 -1.30372140e+00]\n",
      " [ 1.16880948e+00 -2.51329661e+00]\n",
      " [ 1.50215188e+00 -2.75832958e+00]\n",
      " [-2.43293843e+00 -2.89792699e-01]\n",
      " [ 2.72552209e+00 -8.14633006e-01]\n",
      " [-1.23023994e+00 -7.58188398e-01]\n",
      " [ 9.23250715e-01 -2.93890776e+00]\n",
      " [-8.86957865e-01  2.18351189e+00]\n",
      " [-2.33226310e+00  2.44472092e+00]\n",
      " [ 1.95582798e-01 -2.69037770e+00]\n",
      " [-2.49202239e+00 -2.87598628e+00]\n",
      " [-1.70148008e+00 -2.34719527e+00]\n",
      " [ 2.90096778e-01  2.73749209e-02]\n",
      " [ 1.35776661e-01 -6.08572060e-01]\n",
      " [ 1.34329359e+00  1.72837950e+00]\n",
      " [ 2.62897386e+00 -1.17256348e+00]\n",
      " [-4.32710437e-01 -9.26464419e-01]\n",
      " [-1.40934541e+00  2.22323073e+00]\n",
      " [ 1.68227457e+00 -1.77082383e+00]\n",
      " [-1.76635116e+00 -1.56417970e+00]\n",
      " [ 2.13717235e+00  8.03715807e-02]\n",
      " [-2.92858499e-01  1.37635874e+00]\n",
      " [-1.27510248e+00 -2.32921087e+00]\n",
      " [-2.19570885e+00 -1.54655665e+00]\n",
      " [ 2.08023789e+00  1.92395218e+00]\n",
      " [ 8.08610556e-01  2.50482199e+00]\n",
      " [-1.67213792e-01  9.14778406e-01]\n",
      " [-1.48274370e+00  8.65636358e-01]\n",
      " [-2.09597582e+00 -1.82371652e+00]\n",
      " [-2.66563296e+00 -2.81435013e+00]\n",
      " [-1.07657111e+00 -1.21155851e+00]\n",
      " [ 4.82933066e-01  9.64112295e-01]\n",
      " [ 2.30821501e+00  1.47666412e+00]\n",
      " [-2.72858312e+00 -5.69665728e-01]\n",
      " [ 1.09146623e-01  7.14702909e-01]\n",
      " [ 1.09972523e+00  1.10603454e+00]\n",
      " [-3.04609743e-01  1.75836460e+00]\n",
      " [-1.90005263e+00  5.62914060e-01]\n",
      " [ 1.89114419e+00  1.32299942e-01]\n",
      " [ 1.78376453e+00  2.04859221e+00]\n",
      " [-6.41105799e-01  6.09023258e-01]\n",
      " [ 1.62948776e+00 -1.41948678e+00]\n",
      " [-1.51389500e+00 -1.88930458e+00]\n",
      " [-5.63953813e-01  2.53580698e+00]\n",
      " [ 1.58721829e+00  1.02643022e+00]\n",
      " [ 1.02141230e+00 -8.27204127e-03]\n",
      " [-7.61300337e-01  2.11068118e+00]\n",
      " [-2.99881092e+00  1.60904269e+00]\n",
      " [-2.87695575e+00  1.85150694e+00]\n",
      " [ 2.54452449e+00 -1.35845773e+00]\n",
      " [-2.02629545e+00  2.63309185e+00]\n",
      " [ 4.66490053e-01  7.38064570e-01]\n",
      " [-8.18455302e-01 -7.44275173e-02]\n",
      " [-2.37940509e+00  2.79907646e+00]\n",
      " [ 2.48581458e+00  4.70517837e-01]\n",
      " [-7.18870217e-01 -1.13434627e+00]\n",
      " [-1.11550767e+00  2.34521826e+00]\n",
      " [-4.86024567e-01 -2.98811744e+00]\n",
      " [ 2.87835650e+00  1.39850781e+00]\n",
      " [-1.62385685e+00  8.30445604e-01]\n",
      " [ 2.20993124e+00 -2.26042548e+00]\n",
      " [-1.61707025e+00 -2.05815767e+00]\n",
      " [-2.56280726e+00  2.31631102e-01]\n",
      " [ 2.02524635e+00  2.97956253e+00]\n",
      " [-1.92597029e-03  1.15123853e+00]\n",
      " [ 2.89816137e+00  1.55328166e+00]\n",
      " [ 6.75724748e-01 -2.00090334e+00]\n",
      " [ 2.94974896e+00  2.87648946e+00]\n",
      " [-1.19912169e+00 -1.06602523e+00]\n",
      " [ 2.25563945e+00  2.92050482e+00]\n",
      " [ 9.92750993e-01 -2.41520344e+00]\n",
      " [-1.92289995e-01 -5.06889042e-01]\n",
      " [ 1.85052181e+00 -2.13353669e+00]\n",
      " [ 7.29762980e-01 -8.68655573e-01]\n",
      " [-3.86624265e-01  1.24589464e+00]\n",
      " [ 1.46567809e+00  3.50794956e-01]\n",
      " [-1.82642545e+00  2.84039050e-01]\n",
      " [-1.95712563e+00 -1.63233129e+00]\n",
      " [-2.10868519e+00  5.29692624e-01]\n",
      " [ 3.42274517e-01 -1.60530430e-01]\n",
      " [ 1.42504669e+00 -3.98475524e-01]]\n",
      "[[0.]\n",
      " [0.]\n",
      " [0.]\n",
      " [0.]\n",
      " [0.]\n",
      " [0.]\n",
      " [0.]\n",
      " [0.]\n",
      " [0.]\n",
      " [0.]\n",
      " [0.]\n",
      " [0.]\n",
      " [0.]\n",
      " [0.]\n",
      " [0.]\n",
      " [0.]\n",
      " [0.]\n",
      " [0.]\n",
      " [0.]\n",
      " [0.]\n",
      " [0.]\n",
      " [0.]\n",
      " [0.]\n",
      " [0.]\n",
      " [0.]\n",
      " [0.]\n",
      " [0.]\n",
      " [0.]\n",
      " [0.]\n",
      " [0.]\n",
      " [0.]\n",
      " [0.]\n",
      " [0.]\n",
      " [0.]\n",
      " [0.]\n",
      " [0.]\n",
      " [0.]\n",
      " [0.]\n",
      " [0.]\n",
      " [0.]\n",
      " [0.]\n",
      " [0.]\n",
      " [0.]\n",
      " [0.]\n",
      " [0.]\n",
      " [0.]\n",
      " [0.]\n",
      " [0.]\n",
      " [0.]\n",
      " [0.]\n",
      " [0.]\n",
      " [0.]\n",
      " [0.]\n",
      " [0.]\n",
      " [0.]\n",
      " [0.]\n",
      " [0.]\n",
      " [0.]\n",
      " [0.]\n",
      " [0.]\n",
      " [0.]\n",
      " [0.]\n",
      " [0.]\n",
      " [0.]\n",
      " [0.]\n",
      " [0.]\n",
      " [0.]\n",
      " [0.]\n",
      " [0.]\n",
      " [0.]\n",
      " [0.]\n",
      " [0.]\n",
      " [0.]\n",
      " [0.]\n",
      " [0.]\n",
      " [0.]\n",
      " [0.]\n",
      " [0.]\n",
      " [0.]\n",
      " [0.]\n",
      " [0.]\n",
      " [0.]\n",
      " [0.]\n",
      " [0.]\n",
      " [0.]\n",
      " [0.]\n",
      " [0.]\n",
      " [0.]\n",
      " [0.]\n",
      " [0.]\n",
      " [0.]\n",
      " [0.]\n",
      " [0.]\n",
      " [0.]\n",
      " [0.]\n",
      " [0.]\n",
      " [0.]\n",
      " [0.]\n",
      " [0.]\n",
      " [0.]]\n",
      "[[1.]\n",
      " [1.]\n",
      " [1.]\n",
      " [1.]\n",
      " [1.]\n",
      " [1.]\n",
      " [1.]\n",
      " [1.]\n",
      " [1.]\n",
      " [1.]\n",
      " [1.]\n",
      " [1.]\n",
      " [1.]\n",
      " [1.]\n",
      " [1.]\n",
      " [1.]\n",
      " [1.]\n",
      " [1.]\n",
      " [1.]\n",
      " [1.]\n",
      " [1.]\n",
      " [1.]\n",
      " [1.]\n",
      " [1.]\n",
      " [1.]\n",
      " [1.]\n",
      " [1.]\n",
      " [1.]\n",
      " [1.]\n",
      " [1.]\n",
      " [1.]\n",
      " [1.]\n",
      " [1.]\n",
      " [1.]\n",
      " [1.]\n",
      " [1.]\n",
      " [1.]\n",
      " [1.]\n",
      " [1.]\n",
      " [1.]\n",
      " [1.]\n",
      " [1.]\n",
      " [1.]\n",
      " [1.]\n",
      " [1.]\n",
      " [1.]\n",
      " [1.]\n",
      " [1.]\n",
      " [1.]\n",
      " [1.]\n",
      " [1.]\n",
      " [1.]\n",
      " [1.]\n",
      " [1.]\n",
      " [1.]\n",
      " [1.]\n",
      " [1.]\n",
      " [1.]\n",
      " [1.]\n",
      " [1.]\n",
      " [1.]\n",
      " [1.]\n",
      " [1.]\n",
      " [1.]\n",
      " [1.]\n",
      " [1.]\n",
      " [1.]\n",
      " [1.]\n",
      " [1.]\n",
      " [1.]\n",
      " [1.]\n",
      " [1.]\n",
      " [1.]\n",
      " [1.]\n",
      " [1.]\n",
      " [1.]\n",
      " [1.]\n",
      " [1.]\n",
      " [1.]\n",
      " [1.]\n",
      " [1.]\n",
      " [1.]\n",
      " [1.]\n",
      " [1.]\n",
      " [1.]\n",
      " [1.]\n",
      " [1.]\n",
      " [1.]\n",
      " [1.]\n",
      " [1.]\n",
      " [1.]\n",
      " [1.]\n",
      " [1.]\n",
      " [1.]\n",
      " [1.]\n",
      " [1.]\n",
      " [1.]\n",
      " [1.]\n",
      " [1.]\n",
      " [1.]]\n"
     ]
    }
   ],
   "source": [
    "api = API(n_samples=100, input_space=[(-3.0, 3.0), (-3.0, 3.0)], n_outputs=1, method='lhs')\n",
    "\n",
    "print(api.x)\n",
    "print(api.y)\n",
    "print(api.t)"
   ]
  },
  {
   "cell_type": "markdown",
   "metadata": {},
   "source": [
    "## Sampling\n",
    "\n",
    "The API provides the initialised output and target arrays, but it is necessary to script the population of these empty arrays with the sampled black box data manually. This is due to different black box models and simulations having different Python interfacing capabilities. Typically, one input sample is sent to the black box to be evaluated, so this is simulated here using a `for` loop to iterate over the input samples one-by-one. For each input sample `x[i]`, a corresponding output `y[i]` is evaluated along with a binary target `t[i]` representing a converged sample (1) or non-converged sample (0). The peaks function is used as the black box to generate input-output data. Feasible designs (i.e. converged or `t=1`) are constrained to within a circle with radius 2 (or infeasible designs are defined as those outside this circles boundary since `t` is 1 by default) for demonstrative purposes. When sampling from black box simulations in practice, there is typically a black box variable which defines the convergence enabling the user to explicitly sample target data."
   ]
  },
  {
   "cell_type": "code",
   "execution_count": 6,
   "metadata": {},
   "outputs": [
    {
     "name": "stdout",
     "output_type": "stream",
     "text": [
      "[[-6.44996217e-01]\n",
      " [-5.95583230e+00]\n",
      " [-4.00787340e-03]\n",
      " [ 6.01165132e-03]\n",
      " [-1.16672501e+00]\n",
      " [ 2.24859724e-01]\n",
      " [ 1.41984782e-01]\n",
      " [ 1.49921917e-01]\n",
      " [ 1.86982664e+00]\n",
      " [ 5.29730285e-02]\n",
      " [ 1.96562038e+00]\n",
      " [ 3.41345565e-02]\n",
      " [ 7.53819248e-01]\n",
      " [-5.25939185e-02]\n",
      " [-2.40892895e-02]\n",
      " [ 1.03983564e-03]\n",
      " [-1.50201240e-01]\n",
      " [ 1.40403004e+00]\n",
      " [-3.54450884e+00]\n",
      " [-5.11945683e-01]\n",
      " [-4.53507159e-01]\n",
      " [-7.77785929e-02]\n",
      " [-3.25812670e-01]\n",
      " [ 6.43053628e-02]\n",
      " [ 6.08034171e-01]\n",
      " [-1.65199754e-01]\n",
      " [ 1.89824310e+00]\n",
      " [ 8.13184334e-03]\n",
      " [-8.67921777e-01]\n",
      " [ 1.07968388e-03]\n",
      " [ 2.65581392e-02]\n",
      " [ 1.11936206e-01]\n",
      " [ 1.09090773e+00]\n",
      " [ 1.45869570e+00]\n",
      " [ 4.65633638e-02]\n",
      " [ 2.59679469e+00]\n",
      " [ 5.05148243e-01]\n",
      " [-2.87656965e-01]\n",
      " [ 1.66179433e-01]\n",
      " [ 9.75518028e-01]\n",
      " [ 6.85066963e+00]\n",
      " [-8.90812729e-02]\n",
      " [ 3.58378120e-02]\n",
      " [ 1.13895292e-01]\n",
      " [ 9.69843960e-01]\n",
      " [ 2.84842574e+00]\n",
      " [-1.36100362e+00]\n",
      " [ 4.80811044e-02]\n",
      " [ 6.41305449e-04]\n",
      " [ 1.17142108e+00]\n",
      " [ 2.65314348e+00]\n",
      " [ 1.03478691e-01]\n",
      " [-7.56403239e-02]\n",
      " [ 1.04982940e+00]\n",
      " [ 2.42675022e+00]\n",
      " [ 6.96435853e+00]\n",
      " [-1.31410618e+00]\n",
      " [ 1.77375377e+00]\n",
      " [ 2.58549913e-01]\n",
      " [-3.55772613e-02]\n",
      " [-9.51185461e-02]\n",
      " [ 8.61504184e-02]\n",
      " [ 1.22851146e+00]\n",
      " [ 1.35465689e+00]\n",
      " [ 3.02883926e+00]\n",
      " [ 2.70454057e+00]\n",
      " [-1.90848830e-03]\n",
      " [-4.37850005e-04]\n",
      " [ 3.73279189e-02]\n",
      " [ 1.89460719e-02]\n",
      " [ 1.07116890e+00]\n",
      " [-1.22479722e-01]\n",
      " [ 2.16567043e-03]\n",
      " [ 2.48760325e-01]\n",
      " [ 1.63821466e+00]\n",
      " [ 8.20321991e-01]\n",
      " [-1.48852734e-01]\n",
      " [ 1.02220568e-02]\n",
      " [-1.34092612e+00]\n",
      " [-1.54538137e-02]\n",
      " [ 5.51803503e-02]\n",
      " [-2.32986408e-01]\n",
      " [ 5.60075779e-03]\n",
      " [ 5.37095207e+00]\n",
      " [ 6.61560334e-03]\n",
      " [-3.61445529e+00]\n",
      " [ 9.42168464e-05]\n",
      " [ 1.14654072e+00]\n",
      " [ 2.72497014e-03]\n",
      " [-8.89778574e-01]\n",
      " [ 3.07270578e+00]\n",
      " [-1.11793046e-01]\n",
      " [-5.76839124e-01]\n",
      " [ 5.49381142e+00]\n",
      " [ 2.96333723e+00]\n",
      " [-1.87083506e+00]\n",
      " [ 8.99038278e-02]\n",
      " [-8.29887361e-01]\n",
      " [ 2.70199444e-01]\n",
      " [ 2.95864616e+00]]\n",
      "[[0.]\n",
      " [1.]\n",
      " [0.]\n",
      " [0.]\n",
      " [0.]\n",
      " [0.]\n",
      " [0.]\n",
      " [0.]\n",
      " [1.]\n",
      " [0.]\n",
      " [1.]\n",
      " [0.]\n",
      " [1.]\n",
      " [0.]\n",
      " [0.]\n",
      " [0.]\n",
      " [0.]\n",
      " [0.]\n",
      " [0.]\n",
      " [1.]\n",
      " [0.]\n",
      " [0.]\n",
      " [0.]\n",
      " [0.]\n",
      " [1.]\n",
      " [0.]\n",
      " [0.]\n",
      " [0.]\n",
      " [0.]\n",
      " [0.]\n",
      " [0.]\n",
      " [1.]\n",
      " [1.]\n",
      " [0.]\n",
      " [0.]\n",
      " [1.]\n",
      " [0.]\n",
      " [0.]\n",
      " [0.]\n",
      " [0.]\n",
      " [1.]\n",
      " [0.]\n",
      " [0.]\n",
      " [0.]\n",
      " [0.]\n",
      " [1.]\n",
      " [1.]\n",
      " [0.]\n",
      " [0.]\n",
      " [1.]\n",
      " [1.]\n",
      " [0.]\n",
      " [0.]\n",
      " [1.]\n",
      " [1.]\n",
      " [1.]\n",
      " [1.]\n",
      " [1.]\n",
      " [0.]\n",
      " [1.]\n",
      " [0.]\n",
      " [0.]\n",
      " [0.]\n",
      " [1.]\n",
      " [1.]\n",
      " [0.]\n",
      " [0.]\n",
      " [0.]\n",
      " [0.]\n",
      " [0.]\n",
      " [1.]\n",
      " [1.]\n",
      " [0.]\n",
      " [0.]\n",
      " [1.]\n",
      " [0.]\n",
      " [0.]\n",
      " [0.]\n",
      " [1.]\n",
      " [0.]\n",
      " [0.]\n",
      " [0.]\n",
      " [0.]\n",
      " [1.]\n",
      " [0.]\n",
      " [0.]\n",
      " [0.]\n",
      " [1.]\n",
      " [0.]\n",
      " [0.]\n",
      " [1.]\n",
      " [0.]\n",
      " [1.]\n",
      " [1.]\n",
      " [1.]\n",
      " [1.]\n",
      " [0.]\n",
      " [0.]\n",
      " [1.]\n",
      " [1.]]\n"
     ]
    }
   ],
   "source": [
    "for i in range(api.x.shape[0]):\n",
    "    api.y[i] = peaks(api.x[i])\n",
    "    if ( api.x[i, 0] ** 2 + api.x[i, 1] ** 2 > 4 ):\n",
    "        api.t[i] = 0\n",
    "\n",
    "print(api.y)\n",
    "print(api.t)"
   ]
  },
  {
   "cell_type": "markdown",
   "metadata": {},
   "source": [
    "## Data processing\n",
    "\n",
    "Before using data `x, y, t` to train surrogate models, any train-test-splits and appropriate scaling must be used (in this order - split then scale).\n",
    "\n",
    "### Train-test-split\n",
    "\n",
    "The `split` method can be used to partition the `x, y, t` data into training and testing sets, `x_train, y_train, t_train` and `x_test, y_test, t_test`. This enables users to train the surrogate models using most of the sampled data whilst witholding some data from the model to be used to test the trained model performance without necessitating further sampling from the expensive black box. The `split` method takes the parameter `test-size` enabling the user to decide what fraction of the data to withold for testing purposes (default is 0.3)."
   ]
  },
  {
   "cell_type": "code",
   "execution_count": 7,
   "metadata": {},
   "outputs": [
    {
     "name": "stdout",
     "output_type": "stream",
     "text": [
      "(70, 2)\n"
     ]
    }
   ],
   "source": [
    "api.split(test_size=0.3)\n",
    "\n",
    "print(api.x_train.shape)"
   ]
  },
  {
   "cell_type": "markdown",
   "metadata": {},
   "source": [
    "### Standardisation\n",
    "\n",
    "It is important that prior to training surrogate models, the input-output data is scaled appropriately. Specifically, scaling over the samples, for each dimension, ensures that variables with large magnitudes do not have a greater influence on measures of surrogate model fit which would result in overfitting to specific dimensions at the cost of overall model accuracy.\n",
    "\n",
    "The scaling method uses standarisation to subtract the mean and divide the result by the standard deviation so that each dimension follows a normal distribution with mean 0 and a standard deviation of 1. When the data is not split beforehand, `x` is simply standardised over the entire dataset to generate `x_` and the `api` object also saves the `x_mean` and `x_std` values for future scaling and descaling purposes. Here, `x_mean` and `x_std` are used to scale the `space` paramter to provide bounds of the scaled search space as `space_`. In this case, `y` is standardised using the `y_mean` and `y_std` of only the converged output data to produce `y_`.\n",
    "\n",
    "It is important to split and then scale the data so that training data is scaled using only the training data and not the full data set. For the input data, this case produces `x_train_`, whilst `x_train_mean` and `x_train_std` values are used to standarise `x_test_` into the same scaled space as the training data which was used to train the surrogate model. In this case, `space_` is also generated using `x_train_mean` and `x_train_std`. Similarly, `y_train_` and `y_test_` are both standarised using `y_train_mean` and `y_train_std` of converged training outputs only."
   ]
  },
  {
   "cell_type": "code",
   "execution_count": 8,
   "metadata": {},
   "outputs": [
    {
     "name": "stdout",
     "output_type": "stream",
     "text": [
      "[1.61242375] [2.10074068]\n"
     ]
    }
   ],
   "source": [
    "api.scale()\n",
    "\n",
    "print(api.y_train_mean, api.y_train_std)"
   ]
  },
  {
   "cell_type": "markdown",
   "metadata": {},
   "source": [
    "## Regressor model training\n",
    "\n",
    "The `init_regressor` method can be used to fit a regression surrogate model to the scaled input-output data. This methods recieves a parameter `type` as a string to define whether to use a Gaussian Process Regressor `gp` or a Neural Network `nn`. In addition, the user can pass keyword arguments to define the setup of the particular model. For example, for a NN, the user must specify parameters `hidden_layers` as a list of number of nodes in each hidden layer (e.g. `hidden_layers=[10, 10]`) and `activation` as a string to define the activation function applied to each hidden layer. Activation functions available are `tanh`, `sigmoid`, `softplus`, and `relu`. For a GP model users can specify a level of `noise`.\n",
    "\n",
    "To train the surrogate model the user uses the relevant methods provided by the model object interfaced through `api.regressor`. It should be noted that the regressor models are typically fitted to standardised input-output data or standardised training data using `api.regressor.fit(api.x_, api.y_)` or `api.regressor.fit(api.x_train_, api.y_train_)` respectively."
   ]
  },
  {
   "cell_type": "code",
   "execution_count": 9,
   "metadata": {},
   "outputs": [
    {
     "name": "stdout",
     "output_type": "stream",
     "text": [
      "NN(\n",
      "  (0): Linear(in_features=2, out_features=15, bias=True)\n",
      "  (1): Tanh()\n",
      "  (2): Linear(in_features=15, out_features=5, bias=True)\n",
      "  (3): Tanh()\n",
      "  (4): Linear(in_features=5, out_features=1, bias=True)\n",
      ")\n"
     ]
    }
   ],
   "source": [
    "api.init_regressor('nn', hidden_layers=[15, 5], activation='tanh')\n",
    "api.regressor.fit(api.x_train_, api.y_train_)\n",
    "\n",
    "print(api.regressor)"
   ]
  },
  {
   "cell_type": "markdown",
   "metadata": {},
   "source": [
    "## Classifier model training\n",
    "\n",
    "The `init_classifier` method can be used to fit a classification surrogate model to the scaled input data and binary target data. This methods also recieves a parameter `type` as a string to define whether to use a Gaussian Process Classifier `gp` or a Neural Network `nn`. The user passes keyword arguments to define the setup of the model in the same way as for regression models. NNs recieve the same parameters `hidden_layers` and `activation` whereas GPs do not have any customisable parameters. Activation functions available for classification are `sigmoid`or `hardsigmoid` where these function are applied to hidden layers and the output layer in the classification case.\n",
    "\n",
    "To train the surrogate model the user uses the relevant methods provided by the model object interfaced through `api.classifier`. The classifier is typically trained using scaled input data and target data or the training equivalents using `api.classifier.fit(api.x_, api.t)` or `api.classifier.fit(api.x_train_, api.t_train)`, respectively."
   ]
  },
  {
   "cell_type": "code",
   "execution_count": 10,
   "metadata": {},
   "outputs": [
    {
     "name": "stdout",
     "output_type": "stream",
     "text": [
      "NNClassifier(\n",
      "  (0): Linear(in_features=2, out_features=10, bias=True)\n",
      "  (1): Sigmoid()\n",
      "  (2): Linear(in_features=10, out_features=1, bias=True)\n",
      "  (3): Sigmoid()\n",
      ")\n"
     ]
    }
   ],
   "source": [
    "api.init_classifier('nn', hidden_layers=[10], activation='sigmoid')\n",
    "api.classifier.fit(api.x_train_, api.t_train)\n",
    "\n",
    "print(api.classifier)"
   ]
  },
  {
   "cell_type": "markdown",
   "metadata": {},
   "source": [
    "## Pyomo formulations\n",
    "\n",
    "### Foundations\n",
    "\n",
    "The `api` provided by `sumomo` enables the optimisation formualations of trained surrogate models to be plugged into larger optimisation formulations where required. To show this, begin initialising an optimisation problem saved as `opt`. This optimisation problem has variables `inputs` with the same dimensions as our surrogate model inputs, a scalar `output` variable, and a scalar variable `feasibility`. Here, also define a constraint for this larger optimisation formulation that the feasibility probability must be greater than 0.5. Finally, define the objective function as maximise `output`."
   ]
  },
  {
   "cell_type": "code",
   "execution_count": 11,
   "metadata": {},
   "outputs": [
    {
     "name": "stdout",
     "output_type": "stream",
     "text": [
      "1 Set Declarations\n",
      "    inputs_index : Size=1, Index=None, Ordered=False\n",
      "        Key  : Dimen : Domain : Size : Members\n",
      "        None :     1 :    Any :    2 : {0, 1}\n",
      "\n",
      "3 Var Declarations\n",
      "    feasibility : Size=1, Index=None\n",
      "        Key  : Lower : Value : Upper : Fixed : Stale : Domain\n",
      "        None :  None :  None :  None : False :  True :  Reals\n",
      "    inputs : Size=2, Index=inputs_index\n",
      "        Key : Lower : Value : Upper : Fixed : Stale : Domain\n",
      "          0 :  None :  None :  None : False :  True :  Reals\n",
      "          1 :  None :  None :  None : False :  True :  Reals\n",
      "    output : Size=1, Index=None\n",
      "        Key  : Lower : Value : Upper : Fixed : Stale : Domain\n",
      "        None :  None :  None :  None : False :  True :  Reals\n",
      "\n",
      "1 Objective Declarations\n",
      "    obj : Size=1, Index=None, Active=True\n",
      "        Key  : Active : Sense    : Expression\n",
      "        None :   True : maximize :     output\n",
      "\n",
      "1 Constraint Declarations\n",
      "    feasibility_con : Size=1, Index=None, Active=True\n",
      "        Key  : Lower : Body        : Upper : Active\n",
      "        None :   0.5 : feasibility :  +Inf :   True\n",
      "\n",
      "6 Declarations: inputs_index inputs output feasibility feasibility_con obj\n"
     ]
    }
   ],
   "source": [
    "opt = pyo.ConcreteModel()\n",
    "\n",
    "opt.n_inputs = set(range(api.x.shape[1]))\n",
    "\n",
    "opt.inputs = pyo.Var(opt.n_inputs)\n",
    "opt.output = pyo.Var()\n",
    "opt.feasibility = pyo.Var()\n",
    "\n",
    "opt.feasibility_con = pyo.Constraint(expr=opt.feasibility >= 0.5 )\n",
    "\n",
    "opt.obj = pyo.Objective(expr=opt.output, sense=pyo.maximize)\n",
    "\n",
    "opt.pprint()"
   ]
  },
  {
   "cell_type": "markdown",
   "metadata": {},
   "source": [
    "### Formulating surrogate model constraints\n",
    "\n",
    "The constraints defining the relationship between `output` and `inputs` will be enforced by the regression surrogate model, whilst the constraints defining the relationship between `feasibility` and `inputs` will be enforced by the classifier surrogate model. To achieve this, simply use the `formulate` method provided by the `api` and pass in the trained surrogate model instance for which to formulate constraints. Assign the output of this method call to an attribute of the larger optimisation problem where the surrogate model formulation will be contained as a Pyomo *Block*. Finally, connect the optimisation problem variables `inputs` and `output` to the surrogate model input and output variables."
   ]
  },
  {
   "cell_type": "code",
   "execution_count": 12,
   "metadata": {},
   "outputs": [],
   "source": [
    "opt.mdl = api.formulate(api.regressor)\n",
    "opt.feas = api.formulate(api.classifier)\n",
    "\n",
    "# connect pyomo model input and output to the surrogate models\n",
    "@opt.Constraint(opt.n_inputs)\n",
    "def connect_regressor_inputs(m, i):\n",
    "    return m.inputs[i] == m.mdl.inputs[i]\n",
    "\n",
    "@opt.Constraint(opt.n_inputs)\n",
    "def connect_classifier_inputs(m, i):\n",
    "    return m.inputs[i] == m.feas.inputs[i]\n",
    "\n",
    "@opt.Constraint()\n",
    "def connect_regressor_output(m):\n",
    "    return m.output == m.mdl.outputs[0]\n",
    "\n",
    "@opt.Constraint()\n",
    "def connect_classifier_output(m):\n",
    "    return m.feasibility == m.feas.outputs[0]"
   ]
  },
  {
   "cell_type": "markdown",
   "metadata": {},
   "source": [
    "### Solving the optimisation problem\n",
    "\n",
    "The user must then define the solver and desired solver settings before writing the solve statement."
   ]
  },
  {
   "cell_type": "code",
   "execution_count": 13,
   "metadata": {},
   "outputs": [
    {
     "name": "stdout",
     "output_type": "stream",
     "text": [
      "===========================================================================\n",
      " BARON version 22.4.20. Built: OSX-64 Wed Apr 20 10:52:09 EDT 2022\n",
      "\n",
      " BARON is a product of The Optimization Firm.\n",
      " For information on BARON, see https://minlp.com/about-baron\n",
      " Licensee: Benoit Chachuat at Imperial College London, b.chachuat@imperial.ac.uk.\n",
      "\n",
      " If you use this software, please cite publications from\n",
      " https://minlp.com/baron-publications, such as: \n",
      "\n",
      " Khajavirad, A. and N. V. Sahinidis,\n",
      " A hybrid LP/NLP paradigm for global optimization relaxations,\n",
      " Mathematical Programming Computation, 10, 383-421, 2018.\n",
      "===========================================================================\n",
      " This BARON run may utilize the following subsolver(s)\n",
      " For LP/MIP/QP: CLP/CBC, ILOG CPLEX                             \n",
      " For NLP: IPOPT, FILTERSQP\n",
      "===========================================================================\n",
      " Doing local search\n",
      " Preprocessing found feasible solution with value  2.63233677011     \n",
      " Solving bounding LP\n",
      " Starting multi-start local search\n",
      " Preprocessing found feasible solution with value  2.63233677133     \n",
      " Done with local search\n",
      "===========================================================================\n",
      "  Iteration    Open nodes         Time (s)    Lower bound      Upper bound\n",
      "          1             1             0.19     2.63234          4.73279    \n",
      "*       294            57             2.52     2.63236          4.47131    \n",
      "      11453           969            32.32     2.63236          2.63291    \n",
      "      34166          4566            62.07     2.63236          2.63269    \n",
      "*     44768          1592            75.58     2.63237          2.63266    \n",
      "      67073          3828           105.27     2.63237          2.63260    \n",
      "      91465          5761           134.31     2.63237          2.63256    \n",
      "*    101520           899           152.17     2.63239          2.63254    \n",
      "     122597          4832           181.75     2.63239          2.63249    \n",
      "     139802          7923           211.23     2.63239          2.63247    \n",
      "     157339         12335           240.66     2.63239          2.63244    \n",
      "     175216         16382           270.00     2.63239          2.63243    \n",
      "     202052         17671           299.65     2.63239          2.63243    \n",
      "     202339         17679           300.00     2.63239          2.63243    \n",
      "\n",
      "                    *** Max. allowable time exceeded ***      \n",
      "\n",
      " Wall clock time:                   305.21\n",
      " Total CPU time used:               300.00\n",
      "\n",
      " Total no. of BaR iterations:  202339\n",
      " Best solution found at node:  101520\n",
      " Max. no. of nodes in memory:   17679\n",
      " \n",
      " All done\n",
      "===========================================================================\n"
     ]
    }
   ],
   "source": [
    "# solver setup\n",
    "solver = pyo.SolverFactory('baron')\n",
    "solver.options['MaxTime'] = 300\n",
    "\n",
    "# macOS requires CplexLibName option to be specified, please change accordingly\n",
    "solver.options['CplexLibName'] = \"/Applications/CPLEX_Studio201/cplex/bin/x86-64_osx/libcplex2010.dylib\"\n",
    "\n",
    "# solve\n",
    "results = solver.solve(opt, tee=True)"
   ]
  },
  {
   "cell_type": "markdown",
   "metadata": {},
   "source": [
    "## Results\n",
    "\n",
    "Denormalise the optimisation solution using the statistical moment data saved in `api`. Also compare the predictions of the regressor and classifier models at the solution with the optimisation variable values to observe any difference between the model formulations and the optimisaiton formulations."
   ]
  },
  {
   "cell_type": "code",
   "execution_count": 14,
   "metadata": {},
   "outputs": [
    {
     "name": "stdout",
     "output_type": "stream",
     "text": [
      "[-0.16699894787877254, 1.5642965312195392]\n",
      "2.6323861375469857 2.632329\n",
      "0.8099165565681874 0.809918\n"
     ]
    }
   ],
   "source": [
    "# denormalise solution\n",
    "solution = [opt.inputs[i].value * api.x_train_std[i] + api.x_train_mean[i] for i in range(api.x.shape[1])]\n",
    "print(solution)\n",
    "\n",
    "# compare optimisation outputs with model prediction\n",
    "x_ = [(solution[i] - api.x_train_mean[i]) / api.x_train_std[i] for i in range(api.x.shape[1])]\n",
    "print(opt.output.value, api.regressor.predict(np.array([x_]))[0][0])\n",
    "print(opt.feasibility.value, api.classifier.predict(np.array([x_]))[0][0])"
   ]
  },
  {
   "cell_type": "markdown",
   "metadata": {},
   "source": [
    "Plot the surrogate model predictions overlayed with the sampled data, the optimisataion solution and the feasibility constraint."
   ]
  },
  {
   "cell_type": "code",
   "execution_count": 15,
   "metadata": {},
   "outputs": [
    {
     "data": {
      "image/png": "[encoded data removed]",
      "text/plain": [
       "<Figure size 288x216 with 1 Axes>"
      ]
     },
     "metadata": {
      "needs_background": "light"
     },
     "output_type": "display_data"
    }
   ],
   "source": [
    "plot_model(api, show_samples=True, show_sol=solution, show_class=True)"
   ]
  },
  {
   "cell_type": "code",
   "execution_count": null,
   "metadata": {},
   "outputs": [],
   "source": []
  }
 ],
 "metadata": {
  "kernelspec": {
   "display_name": "Python 3 (ipykernel)",
   "language": "python",
   "name": "python3"
  },
  "language_info": {
   "codemirror_mode": {
    "name": "ipython",
    "version": 3
   },
   "file_extension": ".py",
   "mimetype": "text/x-python",
   "name": "python",
   "nbconvert_exporter": "python",
   "pygments_lexer": "ipython3",
   "version": "3.9.7"
  },
  "vscode": {
   "interpreter": {
    "hash": "509b8fb1f9bb9a36cf455cc3b6d7786e56047ba93e78ea1e04340272261a598e"
   }
  }
 },
 "nbformat": 4,
 "nbformat_minor": 2
}
