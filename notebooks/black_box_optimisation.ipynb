{
 "cells": [
  {
   "cell_type": "markdown",
   "metadata": {},
   "source": [
    "# Black Box Optimisation\n",
    "## Introduction\n",
    "This notebook showcases the `sumomo` package enabling surrogate modelling and optimisation of black box models. To begin, ensure that this notebook directory is in the system path and then proceed to import the *Application Programming Interface* `api` from `sumomo` which enables the interface between the package frameworks and black box models. Also import the various utility and plotting functions from `utils` such as the `peaks` function used as an example black box function used in this notebook."
   ]
  },
  {
   "cell_type": "code",
   "execution_count": 1,
   "metadata": {},
   "outputs": [
    {
     "data": {
      "image/png": "[encoded data removed]",
      "text/plain": [
       "<Figure size 288x216 with 1 Axes>"
      ]
     },
     "metadata": {
      "needs_background": "light"
     },
     "output_type": "display_data"
    }
   ],
   "source": [
    "import os\n",
    "import sys\n",
    "nb_dir = os.path.split(os.getcwd())[0]\n",
    "if nb_dir not in sys.path:\n",
    "    sys.path.append(nb_dir)\n",
    "\n",
    "import numpy as np\n",
    "import pyomo.environ as pyo\n",
    "import matplotlib.pyplot as plt\n",
    "\n",
    "import torch\n",
    "from torch import nn\n",
    "\n",
    "from sumomo import API\n",
    "from utils import peaks, plot_peaks, plot_sampling, plot_model\n",
    "\n",
    "\n",
    "plot_peaks()"
   ]
  },
  {
   "cell_type": "markdown",
   "metadata": {},
   "source": [
    "## Initialise\n",
    "\n",
    "Use `api.initialise` to produce an initial set of statis samples and initialised output variable and target arrays. The `initialise` method requires input attributes `n_samples` and `input_space` where the former is the total number of input samples to generate and the latter is the search space defined by lower and upper bounds on each dimension. If the number of outputs to be sampled is greater than 1 (default), `n_outputs` can be specified. Finally, the sampling strategy to be used can be defined with the `method` attribute. The default sampling strategy is Latin Hypercube Sampling `lhs` with a *maximin* criterion to maximise the minimal pairwise distance between samples. Implementations of LHS and Sobol sampling from `skopt` are available in addition to grid sampling and random sampling methods.\n",
    "\n",
    "Here, 100 input samples are generated for 2 input variables each bounded between (-3.0, 3.0) using LHS. A 1 dimensional output vector is initialised as well as the target vector. Output vectors are intialised with zero values as the default to represent an unsampled output whilst also existing at the mean after standardisation of the data. The target data is intialised as ones as the default representing converged simulations, enabling the framework to be used without feasibility constraints in the default case."
   ]
  },
  {
   "cell_type": "code",
   "execution_count": 2,
   "metadata": {
    "scrolled": true
   },
   "outputs": [
    {
     "data": {
      "image/png": "[encoded data removed]",
      "text/plain": [
       "<Figure size 288x216 with 1 Axes>"
      ]
     },
     "metadata": {
      "needs_background": "light"
     },
     "output_type": "display_data"
    },
    {
     "data": {
      "image/png": "[encoded data removed]",
      "text/plain": [
       "<Figure size 288x216 with 1 Axes>"
      ]
     },
     "metadata": {
      "needs_background": "light"
     },
     "output_type": "display_data"
    },
    {
     "data": {
      "image/png": "[encoded data removed]",
      "text/plain": [
       "<Figure size 288x216 with 1 Axes>"
      ]
     },
     "metadata": {
      "needs_background": "light"
     },
     "output_type": "display_data"
    },
    {
     "data": {
      "image/png": "[encoded data removed]",
      "text/plain": [
       "<Figure size 288x216 with 1 Axes>"
      ]
     },
     "metadata": {
      "needs_background": "light"
     },
     "output_type": "display_data"
    }
   ],
   "source": [
    "n = 64\n",
    "for strategy in ['random', 'lhs', 'sobol', 'grid']:\n",
    "    api = API(n, [(-1.0, 1.0), (-1.0, 1.0)], 1, strategy)\n",
    "    plot_sampling(api)"
   ]
  },
  {
   "cell_type": "code",
   "execution_count": 3,
   "metadata": {},
   "outputs": [
    {
     "name": "stdout",
     "output_type": "stream",
     "text": [
      "[[ 0.52175239  0.82541932]\n",
      " [-2.42389222 -2.95794165]\n",
      " [-2.20224429  1.05691103]\n",
      " [ 1.19117089 -0.07854923]\n",
      " [-1.66389535  2.81335968]\n",
      " [-1.9670013  -0.52710669]\n",
      " [ 1.21076645 -1.65281463]\n",
      " [-1.49832583 -2.90842451]\n",
      " [ 0.88209304 -2.17416303]\n",
      " [ 2.97466265 -0.61073164]\n",
      " [ 0.03824568  0.52239427]\n",
      " [-2.7271726  -2.72215264]\n",
      " [ 0.58560154  2.53165633]\n",
      " [-2.90206186 -0.66252509]\n",
      " [ 2.8874047   2.3196057 ]\n",
      " [-2.61108548  0.59824367]\n",
      " [ 0.13346254  2.99814517]\n",
      " [-2.23093228  0.00740339]\n",
      " [-0.98277004 -2.04971961]\n",
      " [ 1.63149468  2.22760546]\n",
      " [-0.03546644  1.01392317]\n",
      " [-0.42317551  2.70252221]\n",
      " [ 1.7926508   0.06618392]\n",
      " [ 0.45532028 -2.49959793]\n",
      " [ 2.57699338  1.39723672]\n",
      " [-1.26823108  1.76378912]\n",
      " [ 0.20345947  2.64783502]\n",
      " [ 2.1379962  -0.76452612]\n",
      " [-1.87948396 -0.24530365]\n",
      " [ 2.46374957 -0.13739546]\n",
      " [-1.8154051   0.2627164 ]\n",
      " [-1.9933691  -1.48533882]\n",
      " [ 0.9947471   2.84114512]\n",
      " [-0.84554365 -0.55206673]\n",
      " [ 1.36560893 -1.86195225]\n",
      " [-0.6435376   0.46779381]\n",
      " [-2.12694013 -0.38481353]\n",
      " [-0.0665934   2.21339516]\n",
      " [-1.35993335 -1.58350797]\n",
      " [ 1.88745094 -2.33858438]\n",
      " [ 0.94951728 -0.98650207]\n",
      " [-0.24981088  0.92885917]\n",
      " [-2.54692649 -2.76976755]\n",
      " [ 0.61661704  1.21124613]\n",
      " [-1.43636807  2.14790009]\n",
      " [ 0.35177379 -0.8469394 ]\n",
      " [-0.38876901  1.37546114]\n",
      " [ 2.19153953 -0.93383511]\n",
      " [ 1.03522133  1.28817326]\n",
      " [-0.56660476 -2.86384459]\n",
      " [ 2.24577976  1.18169901]\n",
      " [ 2.87180297 -1.24229297]\n",
      " [-1.16316856 -0.02101739]\n",
      " [-2.07403398  1.87221537]\n",
      " [ 2.28508363  1.95509661]\n",
      " [-0.66798379 -2.521999  ]\n",
      " [ 1.83634852 -1.16640827]\n",
      " [ 0.40958857  1.59744818]\n",
      " [ 0.26626656 -2.69636044]\n",
      " [ 1.2753404   2.48670067]\n",
      " [ 0.08402517  0.89060645]\n",
      " [ 2.70497671  1.98939574]\n",
      " [ 1.59350824  2.44508473]\n",
      " [ 1.10679104  1.62062799]\n",
      " [-0.30969927  2.93006808]\n",
      " [-1.75125775 -2.23830255]\n",
      " [ 1.98838477 -1.3556678 ]\n",
      " [ 0.79382082  1.81997698]\n",
      " [-2.69154355  1.52507597]\n",
      " [-0.53890071 -1.51615696]\n",
      " [ 1.4838291  -1.42306944]\n",
      " [-0.82972884 -1.12727186]\n",
      " [-2.37437129  0.14294151]\n",
      " [ 2.08445177 -0.35836068]\n",
      " [-0.12688133  0.21242598]\n",
      " [-1.04105712  1.12220542]\n",
      " [-0.91376001  0.74580054]\n",
      " [-2.87268128 -1.70527937]\n",
      " [ 2.59703616  0.32295318]\n",
      " [-2.47132394 -0.19993583]\n",
      " [ 1.52354089 -1.94697313]\n",
      " [ 1.94301125 -1.81403948]\n",
      " [-2.81435564  2.37591456]\n",
      " [-0.22376855 -1.78556447]\n",
      " [-0.75589505  2.07165165]\n",
      " [ 2.42128762 -1.28985436]\n",
      " [-2.29985929 -2.40119211]\n",
      " [-1.53322794  2.63407126]\n",
      " [ 2.78501631  1.44508459]\n",
      " [ 0.69526502  0.64033893]\n",
      " [-1.21953499 -2.13615394]\n",
      " [ 1.70643597  0.67824473]\n",
      " [ 1.42373383 -2.63597444]\n",
      " [ 2.35903754 -0.83548873]\n",
      " [-1.59118922 -2.35238837]\n",
      " [-1.70511937 -0.44852877]\n",
      " [ 0.76201924  0.40830983]\n",
      " [-2.99464218 -2.0323588 ]\n",
      " [-1.0887026   1.72617176]\n",
      " [ 2.67580999 -1.02029621]]\n",
      "[[0.]\n",
      " [0.]\n",
      " [0.]\n",
      " [0.]\n",
      " [0.]\n",
      " [0.]\n",
      " [0.]\n",
      " [0.]\n",
      " [0.]\n",
      " [0.]\n",
      " [0.]\n",
      " [0.]\n",
      " [0.]\n",
      " [0.]\n",
      " [0.]\n",
      " [0.]\n",
      " [0.]\n",
      " [0.]\n",
      " [0.]\n",
      " [0.]\n",
      " [0.]\n",
      " [0.]\n",
      " [0.]\n",
      " [0.]\n",
      " [0.]\n",
      " [0.]\n",
      " [0.]\n",
      " [0.]\n",
      " [0.]\n",
      " [0.]\n",
      " [0.]\n",
      " [0.]\n",
      " [0.]\n",
      " [0.]\n",
      " [0.]\n",
      " [0.]\n",
      " [0.]\n",
      " [0.]\n",
      " [0.]\n",
      " [0.]\n",
      " [0.]\n",
      " [0.]\n",
      " [0.]\n",
      " [0.]\n",
      " [0.]\n",
      " [0.]\n",
      " [0.]\n",
      " [0.]\n",
      " [0.]\n",
      " [0.]\n",
      " [0.]\n",
      " [0.]\n",
      " [0.]\n",
      " [0.]\n",
      " [0.]\n",
      " [0.]\n",
      " [0.]\n",
      " [0.]\n",
      " [0.]\n",
      " [0.]\n",
      " [0.]\n",
      " [0.]\n",
      " [0.]\n",
      " [0.]\n",
      " [0.]\n",
      " [0.]\n",
      " [0.]\n",
      " [0.]\n",
      " [0.]\n",
      " [0.]\n",
      " [0.]\n",
      " [0.]\n",
      " [0.]\n",
      " [0.]\n",
      " [0.]\n",
      " [0.]\n",
      " [0.]\n",
      " [0.]\n",
      " [0.]\n",
      " [0.]\n",
      " [0.]\n",
      " [0.]\n",
      " [0.]\n",
      " [0.]\n",
      " [0.]\n",
      " [0.]\n",
      " [0.]\n",
      " [0.]\n",
      " [0.]\n",
      " [0.]\n",
      " [0.]\n",
      " [0.]\n",
      " [0.]\n",
      " [0.]\n",
      " [0.]\n",
      " [0.]\n",
      " [0.]\n",
      " [0.]\n",
      " [0.]\n",
      " [0.]]\n",
      "[[1.]\n",
      " [1.]\n",
      " [1.]\n",
      " [1.]\n",
      " [1.]\n",
      " [1.]\n",
      " [1.]\n",
      " [1.]\n",
      " [1.]\n",
      " [1.]\n",
      " [1.]\n",
      " [1.]\n",
      " [1.]\n",
      " [1.]\n",
      " [1.]\n",
      " [1.]\n",
      " [1.]\n",
      " [1.]\n",
      " [1.]\n",
      " [1.]\n",
      " [1.]\n",
      " [1.]\n",
      " [1.]\n",
      " [1.]\n",
      " [1.]\n",
      " [1.]\n",
      " [1.]\n",
      " [1.]\n",
      " [1.]\n",
      " [1.]\n",
      " [1.]\n",
      " [1.]\n",
      " [1.]\n",
      " [1.]\n",
      " [1.]\n",
      " [1.]\n",
      " [1.]\n",
      " [1.]\n",
      " [1.]\n",
      " [1.]\n",
      " [1.]\n",
      " [1.]\n",
      " [1.]\n",
      " [1.]\n",
      " [1.]\n",
      " [1.]\n",
      " [1.]\n",
      " [1.]\n",
      " [1.]\n",
      " [1.]\n",
      " [1.]\n",
      " [1.]\n",
      " [1.]\n",
      " [1.]\n",
      " [1.]\n",
      " [1.]\n",
      " [1.]\n",
      " [1.]\n",
      " [1.]\n",
      " [1.]\n",
      " [1.]\n",
      " [1.]\n",
      " [1.]\n",
      " [1.]\n",
      " [1.]\n",
      " [1.]\n",
      " [1.]\n",
      " [1.]\n",
      " [1.]\n",
      " [1.]\n",
      " [1.]\n",
      " [1.]\n",
      " [1.]\n",
      " [1.]\n",
      " [1.]\n",
      " [1.]\n",
      " [1.]\n",
      " [1.]\n",
      " [1.]\n",
      " [1.]\n",
      " [1.]\n",
      " [1.]\n",
      " [1.]\n",
      " [1.]\n",
      " [1.]\n",
      " [1.]\n",
      " [1.]\n",
      " [1.]\n",
      " [1.]\n",
      " [1.]\n",
      " [1.]\n",
      " [1.]\n",
      " [1.]\n",
      " [1.]\n",
      " [1.]\n",
      " [1.]\n",
      " [1.]\n",
      " [1.]\n",
      " [1.]\n",
      " [1.]]\n"
     ]
    }
   ],
   "source": [
    "api = API(n_samples=100, space=[(-3.0, 3.0), (-3.0, 3.0)], n_outputs=1, method='lhs')\n",
    "\n",
    "print(api.x)\n",
    "print(api.y)\n",
    "print(api.t)"
   ]
  },
  {
   "cell_type": "markdown",
   "metadata": {},
   "source": [
    "## Sampling\n",
    "\n",
    "The API provides the initialised output and target arrays, but it is necessary to script the population of these empty arrays with the sampled black box data manually. This is due to different black box models and simulations having different Python interfacing capabilities. Typically, one input sample is sent to the black box to be evaluated, so this is simulated here using a `for` loop to iterate over the input samples one-by-one. For each input sample `x[i]`, a corresponding output `y[i]` is evaluated along with a binary target `t[i]` representing a converged sample (1) or non-converged sample (0). The peaks function is used as the black box to generate input-output data. Feasible designs (i.e. converged or `t=1`) are constrained to within a circle with radius 2 (or infeasible designs are defined as those outside this circles boundary since `t` is 1 by default) for demonstrative purposes. When sampling from black box simulations in practice, there is typically a black box variable which defines the convergence enabling the user to explicitly sample target data."
   ]
  },
  {
   "cell_type": "code",
   "execution_count": 4,
   "metadata": {},
   "outputs": [
    {
     "name": "stdout",
     "output_type": "stream",
     "text": [
      "[[ 1.62381809e+00]\n",
      " [ 1.06005124e-03]\n",
      " [-2.50773736e-01]\n",
      " [ 3.50036921e+00]\n",
      " [ 3.93374155e-02]\n",
      " [-8.05900373e-01]\n",
      " [-1.60349668e+00]\n",
      " [ 4.48586421e-03]\n",
      " [-1.94984697e+00]\n",
      " [ 2.67977639e-02]\n",
      " [ 4.24572713e-01]\n",
      " [ 6.51079181e-04]\n",
      " [ 1.21593109e+00]\n",
      " [-3.08233309e-02]\n",
      " [ 9.99699847e-04]\n",
      " [-1.45656902e-01]\n",
      " [ 2.96926449e-01]\n",
      " [-7.29701571e-01]\n",
      " [-6.18775913e-01]\n",
      " [ 2.87620454e-01]\n",
      " [ 3.86210079e+00]\n",
      " [ 8.11134674e-01]\n",
      " [ 2.18705735e+00]\n",
      " [-1.45776526e+00]\n",
      " [ 4.06702495e-02]\n",
      " [ 1.35111387e+00]\n",
      " [ 1.12587748e+00]\n",
      " [ 5.61938741e-01]\n",
      " [-1.45768436e+00]\n",
      " [ 3.35034605e-01]\n",
      " [-1.92366597e+00]\n",
      " [ 8.02668392e-02]\n",
      " [ 2.15718274e-01]\n",
      " [ 2.09467726e+00]\n",
      " [-9.42705756e-01]\n",
      " [-2.27571297e-01]\n",
      " [-7.23839440e-01]\n",
      " [ 3.94196766e+00]\n",
      " [ 2.82507128e-01]\n",
      " [-6.48883385e-02]\n",
      " [-4.11017981e-01]\n",
      " [ 2.90402530e+00]\n",
      " [ 1.22365066e-03]\n",
      " [ 4.28214700e+00]\n",
      " [ 5.39692975e-01]\n",
      " [-9.33084778e-01]\n",
      " [ 6.38974482e+00]\n",
      " [ 3.56529206e-01]\n",
      " [ 2.89779714e+00]\n",
      " [-2.17854339e-01]\n",
      " [ 2.10702551e-01]\n",
      " [ 1.38769832e-02]\n",
      " [-2.39774838e+00]\n",
      " [ 5.59323977e-02]\n",
      " [ 4.72902217e-02]\n",
      " [-6.04294672e-01]\n",
      " [ 3.92743881e-01]\n",
      " [ 6.84405360e+00]\n",
      " [-8.39506065e-01]\n",
      " [ 3.93033087e-01]\n",
      " [ 2.46770552e+00]\n",
      " [ 6.39864549e-03]\n",
      " [ 1.82144244e-01]\n",
      " [ 2.61634747e+00]\n",
      " [ 3.66611363e-01]\n",
      " [ 3.68135583e-02]\n",
      " [ 1.37618732e-01]\n",
      " [ 3.93958519e+00]\n",
      " [-9.28576946e-03]\n",
      " [-2.00798460e+00]\n",
      " [-3.53513797e-01]\n",
      " [ 1.73611323e+00]\n",
      " [-4.66941354e-01]\n",
      " [ 1.01534662e+00]\n",
      " [ 9.36836832e-01]\n",
      " [ 7.77844373e-01]\n",
      " [-8.32842666e-01]\n",
      " [ 1.24297650e-03]\n",
      " [ 1.81871453e-01]\n",
      " [-3.06610955e-01]\n",
      " [-5.15537854e-01]\n",
      " [-7.68545123e-02]\n",
      " [ 6.49458587e-04]\n",
      " [-4.80912954e+00]\n",
      " [ 2.92264093e+00]\n",
      " [ 7.04712700e-02]\n",
      " [ 8.47655218e-03]\n",
      " [ 1.13911373e-01]\n",
      " [ 1.45130529e-02]\n",
      " [ 1.24611617e+00]\n",
      " [-1.70044242e-01]\n",
      " [ 1.64236668e+00]\n",
      " [-1.52799597e-01]\n",
      " [ 2.54038810e-01]\n",
      " [ 1.82869298e-02]\n",
      " [-1.35119574e+00]\n",
      " [ 1.42800251e+00]\n",
      " [ 7.52978323e-04]\n",
      " [ 2.19914560e+00]\n",
      " [ 5.46111580e-02]]\n",
      "[[1.]\n",
      " [0.]\n",
      " [0.]\n",
      " [1.]\n",
      " [0.]\n",
      " [0.]\n",
      " [0.]\n",
      " [0.]\n",
      " [0.]\n",
      " [0.]\n",
      " [1.]\n",
      " [0.]\n",
      " [0.]\n",
      " [0.]\n",
      " [0.]\n",
      " [0.]\n",
      " [0.]\n",
      " [0.]\n",
      " [0.]\n",
      " [0.]\n",
      " [1.]\n",
      " [0.]\n",
      " [1.]\n",
      " [0.]\n",
      " [0.]\n",
      " [0.]\n",
      " [0.]\n",
      " [0.]\n",
      " [1.]\n",
      " [0.]\n",
      " [1.]\n",
      " [0.]\n",
      " [0.]\n",
      " [1.]\n",
      " [0.]\n",
      " [1.]\n",
      " [0.]\n",
      " [0.]\n",
      " [0.]\n",
      " [0.]\n",
      " [1.]\n",
      " [1.]\n",
      " [0.]\n",
      " [1.]\n",
      " [0.]\n",
      " [1.]\n",
      " [1.]\n",
      " [0.]\n",
      " [1.]\n",
      " [0.]\n",
      " [0.]\n",
      " [0.]\n",
      " [1.]\n",
      " [0.]\n",
      " [0.]\n",
      " [0.]\n",
      " [0.]\n",
      " [1.]\n",
      " [0.]\n",
      " [0.]\n",
      " [1.]\n",
      " [0.]\n",
      " [0.]\n",
      " [1.]\n",
      " [0.]\n",
      " [0.]\n",
      " [0.]\n",
      " [1.]\n",
      " [0.]\n",
      " [1.]\n",
      " [0.]\n",
      " [1.]\n",
      " [0.]\n",
      " [0.]\n",
      " [1.]\n",
      " [1.]\n",
      " [1.]\n",
      " [0.]\n",
      " [0.]\n",
      " [0.]\n",
      " [0.]\n",
      " [0.]\n",
      " [0.]\n",
      " [1.]\n",
      " [0.]\n",
      " [0.]\n",
      " [0.]\n",
      " [0.]\n",
      " [0.]\n",
      " [1.]\n",
      " [0.]\n",
      " [1.]\n",
      " [0.]\n",
      " [0.]\n",
      " [0.]\n",
      " [1.]\n",
      " [1.]\n",
      " [0.]\n",
      " [0.]\n",
      " [0.]]\n"
     ]
    }
   ],
   "source": [
    "for i in range(api.x.shape[0]):\n",
    "    if ( api.x[i, 0] ** 2 + api.x[i, 1] ** 2 > 4 ):\n",
    "        api.t[i] = 0\n",
    "\n",
    "api.y = peaks(api.x)\n",
    "\n",
    "print(api.y)\n",
    "print(api.t)"
   ]
  },
  {
   "cell_type": "markdown",
   "metadata": {},
   "source": [
    "## Data processing\n",
    "\n",
    "Before using data `x, y, t` to train surrogate models, any train-test-splits and appropriate scaling must be used (in this order - split then scale).\n",
    "\n",
    "### Train-test-split\n",
    "\n",
    "The `split` method can be used to partition the `x, y, t` data into training and testing sets, `x_train, y_train, t_train` and `x_test, y_test, t_test`. This enables users to train the surrogate models using most of the sampled data whilst witholding some data from the model to be used to test the trained model performance without necessitating further sampling from the expensive black box. The `split` method takes the parameter `test-size` enabling the user to decide what fraction of the data to withold for testing purposes (default is 0.3)."
   ]
  },
  {
   "cell_type": "code",
   "execution_count": 5,
   "metadata": {},
   "outputs": [
    {
     "name": "stdout",
     "output_type": "stream",
     "text": [
      "(70, 2)\n"
     ]
    }
   ],
   "source": [
    "api.split(test_size=0.3)\n",
    "\n",
    "print(api.x_train.shape)"
   ]
  },
  {
   "cell_type": "markdown",
   "metadata": {},
   "source": [
    "### Standardisation\n",
    "\n",
    "It is important that prior to training surrogate models, the input-output data is scaled appropriately. Specifically, scaling over the samples, for each dimension, ensures that variables with large magnitudes do not have a greater influence on measures of surrogate model fit which would result in overfitting to specific dimensions at the cost of overall model accuracy.\n",
    "\n",
    "The scaling method uses standarisation to subtract the mean and divide the result by the standard deviation so that each dimension follows a normal distribution with mean 0 and a standard deviation of 1. When the data is not split beforehand, `x` is simply standardised over the entire dataset to generate `x_` and the `api` object also saves the `x_mean` and `x_std` values for future scaling and descaling purposes. Here, `x_mean` and `x_std` are used to scale the `space` paramter to provide bounds of the scaled search space as `space_`. In this case, `y` is standardised using the `y_mean` and `y_std` of only the converged output data to produce `y_`.\n",
    "\n",
    "It is important to split and then scale the data so that training data is scaled using only the training data and not the full data set. For the input data, this case produces `x_train_`, whilst `x_train_mean` and `x_train_std` values are used to standarise `x_test_` into the same scaled space as the training data which was used to train the surrogate model. In this case, `space_` is also generated using `x_train_mean` and `x_train_std`. Similarly, `y_train_` and `y_test_` are both standarised using `y_train_mean` and `y_train_std` of converged training outputs only."
   ]
  },
  {
   "cell_type": "code",
   "execution_count": 6,
   "metadata": {},
   "outputs": [
    {
     "name": "stdout",
     "output_type": "stream",
     "text": [
      "[0.60491525] [2.46456778]\n"
     ]
    }
   ],
   "source": [
    "api.scale()\n",
    "\n",
    "print(api.y_train_mean, api.y_train_std)"
   ]
  },
  {
   "cell_type": "markdown",
   "metadata": {},
   "source": [
    "## Regressor model training\n",
    "\n",
    "The `init_regressor` method can be used to fit a regression surrogate model to the scaled input-output data. This methods recieves a parameter `type` as a string to define whether to use a Gaussian Process Regressor `gp` or a Neural Network `nn`. In addition, the user can pass keyword arguments to define the setup of the particular model. For example, for a NN, the user must specify parameters `hidden_layers` as a list of number of nodes in each hidden layer (e.g. `hidden_layers=[10, 10]`) and `activation` as a string to define the activation function applied to each hidden layer. Activation functions available are `tanh`, `sigmoid`, `softplus`, and `relu`. For a GP model users can specify a level of `noise`.\n",
    "\n",
    "To train the surrogate model the user uses the relevant methods provided by the model object interfaced through `api.regressor`. It should be noted that the regressor models are typically fitted to standardised input-output data or standardised training data using `api.regressor.fit(api.x_, api.y_)` or `api.regressor.fit(api.x_train_, api.y_train_)` respectively."
   ]
  },
  {
   "cell_type": "code",
   "execution_count": 7,
   "metadata": {},
   "outputs": [
    {
     "name": "stdout",
     "output_type": "stream",
     "text": [
      "NN(\n",
      "  (0): Linear(in_features=2, out_features=15, bias=True)\n",
      "  (1): Tanh()\n",
      "  (2): Linear(in_features=15, out_features=5, bias=True)\n",
      "  (3): Tanh()\n",
      "  (4): Linear(in_features=5, out_features=1, bias=True)\n",
      ")\n"
     ]
    }
   ],
   "source": [
    "api.init_regressor('nn', hidden_layers=[15, 5], activation='tanh')\n",
    "api.regressor.fit(api.x_train_, api.y_train_)\n",
    "\n",
    "print(api.regressor)"
   ]
  },
  {
   "cell_type": "markdown",
   "metadata": {},
   "source": [
    "## Classifier model training\n",
    "\n",
    "The `init_classifier` method can be used to fit a classification surrogate model to the scaled input data and binary target data. This methods also recieves a parameter `type` as a string to define whether to use a Gaussian Process Classifier `gp` or a Neural Network `nn`. The user passes keyword arguments to define the setup of the model in the same way as for regression models. NNs recieve the same parameters `hidden_layers` and `activation` whereas GPs do not have any customisable parameters. Activation functions available for classification are `sigmoid`or `hardsigmoid` where these function are applied to hidden layers and the output layer in the classification case.\n",
    "\n",
    "To train the surrogate model the user uses the relevant methods provided by the model object interfaced through `api.classifier`. The classifier is typically trained using scaled input data and target data or the training equivalents using `api.classifier.fit(api.x_, api.t)` or `api.classifier.fit(api.x_train_, api.t_train)`, respectively."
   ]
  },
  {
   "cell_type": "code",
   "execution_count": 8,
   "metadata": {},
   "outputs": [
    {
     "name": "stdout",
     "output_type": "stream",
     "text": [
      "NN(\n",
      "  (0): Linear(in_features=2, out_features=10, bias=True)\n",
      "  (1): Sigmoid()\n",
      "  (2): Linear(in_features=10, out_features=1, bias=True)\n",
      ")\n"
     ]
    }
   ],
   "source": [
    "api.init_classifier('nn', hidden_layers=[10], activation='sigmoid')\n",
    "api.classifier.fit(api.x_train_, api.t_train, loss_func=nn.BCEWithLogitsLoss())\n",
    "\n",
    "print(api.classifier)"
   ]
  },
  {
   "cell_type": "markdown",
   "metadata": {},
   "source": [
    "## Pyomo formulations\n",
    "\n",
    "### Foundations\n",
    "\n",
    "The `api` provided by `sumomo` enables the optimisation formualations of trained surrogate models to be plugged into larger optimisation formulations where required. To show this, begin initialising an optimisation problem saved as `opt`. This optimisation problem has variables `inputs` with the same dimensions as our surrogate model inputs, a scalar `output` variable, and a scalar variable `feasibility`. Here, also define a constraint for this larger optimisation formulation that the feasibility probability must be greater than 0.5. Finally, define the objective function as maximise `output`."
   ]
  },
  {
   "cell_type": "code",
   "execution_count": 9,
   "metadata": {},
   "outputs": [
    {
     "name": "stdout",
     "output_type": "stream",
     "text": [
      "1 Set Declarations\n",
      "    inputs_index : Size=1, Index=None, Ordered=False\n",
      "        Key  : Dimen : Domain : Size : Members\n",
      "        None :     1 :    Any :    2 : {0, 1}\n",
      "\n",
      "3 Var Declarations\n",
      "    inputs : Size=2, Index=inputs_index\n",
      "        Key : Lower               : Value : Upper              : Fixed : Stale : Domain\n",
      "          0 :  -1.738045076306188 :  None :  1.696354638499446 : False :  True :  Reals\n",
      "          1 : -1.6940050482051585 :  None : 1.7420191229516715 : False :  True :  Reals\n",
      "    logits : Size=1, Index=None\n",
      "        Key  : Lower : Value : Upper : Fixed : Stale : Domain\n",
      "        None :  None :  None :  None : False :  True :  Reals\n",
      "    output : Size=1, Index=None\n",
      "        Key  : Lower : Value : Upper : Fixed : Stale : Domain\n",
      "        None :  None :  None :  None : False :  True :  Reals\n",
      "\n",
      "1 Objective Declarations\n",
      "    obj : Size=1, Index=None, Active=True\n",
      "        Key  : Active : Sense    : Expression\n",
      "        None :   True : maximize :     output\n",
      "\n",
      "1 Constraint Declarations\n",
      "    feasibility_con : Size=1, Index=None, Active=True\n",
      "        Key  : Lower : Body                  : Upper : Active\n",
      "        None :   0.5 : 1/(1 + exp(- logits)) :  +Inf :   True\n",
      "\n",
      "6 Declarations: inputs_index inputs output logits feasibility_con obj\n"
     ]
    }
   ],
   "source": [
    "opt = pyo.ConcreteModel()\n",
    "\n",
    "opt.n_inputs = set(range(api.x.shape[1]))\n",
    "\n",
    "opt.inputs = pyo.Var(opt.n_inputs, bounds=api.space_)\n",
    "opt.output = pyo.Var()\n",
    "opt.logits = pyo.Var()\n",
    "\n",
    "opt.feasibility_con = pyo.Constraint(expr= 1 / (1 + pyo.exp(-opt.logits)) >= 0.5 )\n",
    "\n",
    "opt.obj = pyo.Objective(expr=opt.output, sense=pyo.maximize)\n",
    "\n",
    "opt.pprint()"
   ]
  },
  {
   "cell_type": "markdown",
   "metadata": {},
   "source": [
    "### Formulating surrogate model constraints\n",
    "\n",
    "The constraints defining the relationship between `output` and `inputs` will be enforced by the regression surrogate model, whilst the constraints defining the relationship between `feasibility` and `inputs` will be enforced by the classifier surrogate model. To achieve this, simply use the `formulate` method provided by the `api` and pass in the trained surrogate model instance for which to formulate constraints. Assign the output of this method call to an attribute of the larger optimisation problem where the surrogate model formulation will be contained as a Pyomo *Block*. Finally, connect the optimisation problem variables `inputs` and `output` to the surrogate model input and output variables."
   ]
  },
  {
   "cell_type": "code",
   "execution_count": 10,
   "metadata": {},
   "outputs": [],
   "source": [
    "opt.mdl = api.formulate(api.regressor)\n",
    "opt.feas = api.formulate(api.classifier)\n",
    "\n",
    "# connect pyomo model input and output to the surrogate models\n",
    "@opt.Constraint(opt.n_inputs)\n",
    "def connect_regressor_inputs(m, i):\n",
    "    return m.inputs[i] == m.mdl.inputs[i]\n",
    "\n",
    "@opt.Constraint(opt.n_inputs)\n",
    "def connect_classifier_inputs(m, i):\n",
    "    return m.inputs[i] == m.feas.inputs[i]\n",
    "\n",
    "@opt.Constraint()\n",
    "def connect_regressor_output(m):\n",
    "    return m.output == m.mdl.outputs[0]\n",
    "\n",
    "@opt.Constraint()\n",
    "def connect_classifier_output(m):\n",
    "    return m.logits == m.feas.outputs[0]"
   ]
  },
  {
   "cell_type": "markdown",
   "metadata": {},
   "source": [
    "### Solving the optimisation problem\n",
    "\n",
    "The user must then define the solver and desired solver settings before writing the solve statement."
   ]
  },
  {
   "cell_type": "code",
   "execution_count": 11,
   "metadata": {},
   "outputs": [
    {
     "name": "stdout",
     "output_type": "stream",
     "text": [
      "===========================================================================\n",
      " BARON version 22.4.20. Built: OSX-64 Wed Apr 20 10:52:09 EDT 2022\n",
      "\n",
      " BARON is a product of The Optimization Firm.\n",
      " For information on BARON, see https://minlp.com/about-baron\n",
      " Licensee: Benoit Chachuat at Imperial College London, b.chachuat@imperial.ac.uk.\n",
      "\n",
      " If you use this software, please cite publications from\n",
      " https://minlp.com/baron-publications, such as: \n",
      "\n",
      " Khajavirad, A. and N. V. Sahinidis,\n",
      " A hybrid LP/NLP paradigm for global optimization relaxations,\n",
      " Mathematical Programming Computation, 10, 383-421, 2018.\n",
      "===========================================================================\n",
      " This BARON run may utilize the following subsolver(s)\n",
      " For LP/MIP/QP: CLP/CBC, ILOG CPLEX                             \n",
      " For NLP: IPOPT, FILTERSQP\n",
      "===========================================================================\n",
      " Doing local search\n",
      " Preprocessing found feasible solution with value  2.97062712678     \n",
      " Solving bounding LP\n",
      " Starting multi-start local search\n",
      " Preprocessing found feasible solution with value  2.97062712701     \n",
      " Done with local search\n",
      "===========================================================================\n",
      "  Iteration    Open nodes         Time (s)    Lower bound      Upper bound\n",
      "          1             1             0.33     2.97063          4.96178    \n",
      "*       144            31             1.89     2.97066          4.96172    \n",
      "       6099           393            30.00     2.97066          3.78259    \n",
      "\n",
      "                    *** Max. allowable time exceeded ***      \n",
      "\n",
      " Wall clock time:                    30.66\n",
      " Total CPU time used:                30.00\n",
      "\n",
      " Total no. of BaR iterations:    6099\n",
      " Best solution found at node:     144\n",
      " Max. no. of nodes in memory:     423\n",
      " \n",
      " All done\n",
      "===========================================================================\n"
     ]
    }
   ],
   "source": [
    "# solver setup\n",
    "solver = pyo.SolverFactory('baron')\n",
    "solver.options['MaxTime'] = 30\n",
    "\n",
    "# macOS requires CplexLibName option to be specified, please change accordingly\n",
    "solver.options['CplexLibName'] = \"/Applications/CPLEX_Studio201/cplex/bin/x86-64_osx/libcplex2010.dylib\"\n",
    "\n",
    "# solve\n",
    "results = solver.solve(opt, tee=True)"
   ]
  },
  {
   "cell_type": "markdown",
   "metadata": {},
   "source": [
    "## Results\n",
    "\n",
    "Denormalise the optimisation solution using the statistical moment data saved in `api`. Also compare the predictions of the regressor and classifier models at the solution with the optimisation variable values to observe any difference between the model formulations and the optimisaiton formulations."
   ]
  },
  {
   "cell_type": "code",
   "execution_count": 12,
   "metadata": {},
   "outputs": [
    {
     "name": "stdout",
     "output_type": "stream",
     "text": [
      "[0.1035880799208446, 1.5399722879887523]\n",
      "2.970658480993457 2.9706273\n",
      "5.402395087752077 5.4023523\n"
     ]
    }
   ],
   "source": [
    "# denormalise solution\n",
    "solution = [opt.inputs[i].value * api.x_train_std[i] + api.x_train_mean[i] for i in range(api.x.shape[1])]\n",
    "print(solution)\n",
    "\n",
    "# compare optimisation outputs with model prediction\n",
    "x_ = [(solution[i] - api.x_train_mean[i]) / api.x_train_std[i] for i in range(api.x.shape[1])]\n",
    "model_logit = api.classifier.predict(np.array([x_]), return_proba=True)[0].ravel()[0]\n",
    "opt_logit = opt.logits.value\n",
    "# opt_proba = 1 / (1 + np.exp(-opt.logits.value))\n",
    "\n",
    "print(opt.output.value, api.regressor.predict(np.array([x_])).ravel()[0])\n",
    "print(opt_logit, model_logit)"
   ]
  },
  {
   "cell_type": "markdown",
   "metadata": {},
   "source": [
    "Plot the surrogate model predictions overlayed with the sampled data, the optimisataion solution and the feasibility constraint."
   ]
  },
  {
   "cell_type": "code",
   "execution_count": 13,
   "metadata": {},
   "outputs": [
    {
     "data": {
      "image/png": "[encoded data removed]",
      "text/plain": [
       "<Figure size 288x216 with 1 Axes>"
      ]
     },
     "metadata": {
      "needs_background": "light"
     },
     "output_type": "display_data"
    }
   ],
   "source": [
    "plot_model(api, show_samples=True, show_sol=solution, show_class=True)"
   ]
  },
  {
   "cell_type": "code",
   "execution_count": 14,
   "metadata": {},
   "outputs": [
    {
     "data": {
      "image/png": "[encoded data removed]",
      "text/plain": [
       "<Figure size 720x288 with 4 Axes>"
      ]
     },
     "metadata": {
      "needs_background": "light"
     },
     "output_type": "display_data"
    }
   ],
   "source": [
    "x1, x2 = np.linspace(*api.space_[0], 50), np.linspace(*api.space_[1], 50)\n",
    "x1grid, x2grid = np.meshgrid(x1, x2)\n",
    "x_new = np.c_[x1grid.ravel(), x2grid.ravel()]\n",
    "\n",
    "x_plot = np.c_[x1, x2] * api.x_train_std + api.x_train_mean\n",
    "\n",
    "logits, probs = api.classifier.predict(x_new, return_proba=True)\n",
    "logits = logits.reshape(x1grid.shape)\n",
    "probs = probs.reshape(x1grid.shape)\n",
    "\n",
    "fig, (ax1, ax2) = plt.subplots(1, 2, figsize=(10, 4))\n",
    "\n",
    "c1 = ax1.contourf(x_plot[:, 0], x_plot[:, 1], logits, levels=12, alpha=0.8)\n",
    "ax1.scatter(api.x[:, 0], api.x[:, 1], s=10, c=api.t, cmap='bwr_r')\n",
    "ax1.contour(x_plot[:, 0], x_plot[:, 1], logits, levels=[0.0], linestyles='dashed', colors='k', linewidths=1)\n",
    "ax1.set_xlabel('$x_1$')\n",
    "ax1.set_ylabel('$x_2$')\n",
    "ax1.title.set_text('logits')\n",
    "fig.colorbar(c1, ax=ax1)\n",
    "\n",
    "c2 = ax2.contourf(x_plot[:, 0], x_plot[:, 1], probs, levels=12, alpha=0.8)\n",
    "ax2.scatter(api.x[:, 0], api.x[:, 1], s=10, c=api.t, cmap='bwr_r')\n",
    "ax2.contour(x_plot[:, 0], x_plot[:, 1], probs, levels=[0.5], linestyles='dashed', colors='k', linewidths=1)\n",
    "ax2.set_xlabel('$x_1$')\n",
    "ax2.set_ylabel('$x_2$')\n",
    "ax2.title.set_text('probabilities')\n",
    "fig.colorbar(c2, ax=ax2)\n",
    "\n",
    "plt.tight_layout()"
   ]
  },
  {
   "cell_type": "code",
   "execution_count": null,
   "metadata": {},
   "outputs": [],
   "source": []
  }
 ],
 "metadata": {
  "kernelspec": {
   "display_name": "Python 3 (ipykernel)",
   "language": "python",
   "name": "python3"
  },
  "language_info": {
   "codemirror_mode": {
    "name": "ipython",
    "version": 3
   },
   "file_extension": ".py",
   "mimetype": "text/x-python",
   "name": "python",
   "nbconvert_exporter": "python",
   "pygments_lexer": "ipython3",
   "version": "3.9.7"
  },
  "vscode": {
   "interpreter": {
    "hash": "509b8fb1f9bb9a36cf455cc3b6d7786e56047ba93e78ea1e04340272261a598e"
   }
  }
 },
 "nbformat": 4,
 "nbformat_minor": 2
}
