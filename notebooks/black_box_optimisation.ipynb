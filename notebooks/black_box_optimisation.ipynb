{
 "cells": [
  {
   "cell_type": "markdown",
   "metadata": {},
   "source": [
    "# Black Box Optimisation\n",
    "## Introduction\n",
    "This notebook showcases the `sumomo` package enabling surrogate modelling and optimisation of black box models. To begin, ensure that this notebook directory is in the system path and then proceed to import the *Application Programming Interface* `api` from `sumomo` which enables the interface between the package frameworks and black box models. Also import the various utility and plotting functions from `utils` such as the `peaks` function used as an example black box function used in this notebook."
   ]
  },
  {
   "cell_type": "code",
   "execution_count": 1,
   "metadata": {},
   "outputs": [
    {
     "data": {
      "image/png": "[encoded data removed]",
      "text/plain": [
       "<Figure size 288x216 with 1 Axes>"
      ]
     },
     "metadata": {
      "needs_background": "light"
     },
     "output_type": "display_data"
    }
   ],
   "source": [
    "import os\n",
    "import sys\n",
    "nb_dir = os.path.split(os.getcwd())[0]\n",
    "if nb_dir not in sys.path:\n",
    "    sys.path.append(nb_dir)\n",
    "\n",
    "import numpy as np\n",
    "import pyomo.environ as pyo\n",
    "import matplotlib.pyplot as plt\n",
    "\n",
    "import torch\n",
    "from torch import nn\n",
    "\n",
    "from sumomo import API\n",
    "from utils import peaks, plot_peaks, plot_sampling, plot_model\n",
    "\n",
    "\n",
    "plot_peaks()"
   ]
  },
  {
   "cell_type": "markdown",
   "metadata": {},
   "source": [
    "## Initialise\n",
    "\n",
    "Use `api.initialise` to produce an initial set of statis samples and initialised output variable and target arrays. The `initialise` method requires input attributes `n_samples` and `input_space` where the former is the total number of input samples to generate and the latter is the search space defined by lower and upper bounds on each dimension. If the number of outputs to be sampled is greater than 1 (default), `n_outputs` can be specified. Finally, the sampling strategy to be used can be defined with the `method` attribute. The default sampling strategy is Latin Hypercube Sampling `lhs` with a *maximin* criterion to maximise the minimal pairwise distance between samples. Implementations of LHS and Sobol sampling from `skopt` are available in addition to grid sampling and random sampling methods.\n",
    "\n",
    "Here, 100 input samples are generated for 2 input variables each bounded between (-3.0, 3.0) using LHS. A 1 dimensional output vector is initialised as well as the target vector. Output vectors are intialised with zero values as the default to represent an unsampled output whilst also existing at the mean after standardisation of the data. The target data is intialised as ones as the default representing converged simulations, enabling the framework to be used without feasibility constraints in the default case."
   ]
  },
  {
   "cell_type": "code",
   "execution_count": 2,
   "metadata": {
    "scrolled": true
   },
   "outputs": [
    {
     "data": {
      "image/png": "[encoded data removed]",
      "text/plain": [
       "<Figure size 288x216 with 1 Axes>"
      ]
     },
     "metadata": {
      "needs_background": "light"
     },
     "output_type": "display_data"
    },
    {
     "data": {
      "image/png": "[encoded data removed]",
      "text/plain": [
       "<Figure size 288x216 with 1 Axes>"
      ]
     },
     "metadata": {
      "needs_background": "light"
     },
     "output_type": "display_data"
    },
    {
     "data": {
      "image/png": "[encoded data removed]",
      "text/plain": [
       "<Figure size 288x216 with 1 Axes>"
      ]
     },
     "metadata": {
      "needs_background": "light"
     },
     "output_type": "display_data"
    },
    {
     "data": {
      "image/png": "[encoded data removed]",
      "text/plain": [
       "<Figure size 288x216 with 1 Axes>"
      ]
     },
     "metadata": {
      "needs_background": "light"
     },
     "output_type": "display_data"
    }
   ],
   "source": [
    "n = 64\n",
    "for strategy in ['random', 'lhs', 'sobol', 'grid']:\n",
    "    api = API(n, [(-1.0, 1.0), (-1.0, 1.0)], 1, strategy)\n",
    "    plot_sampling(api)"
   ]
  },
  {
   "cell_type": "code",
   "execution_count": 3,
   "metadata": {},
   "outputs": [
    {
     "name": "stdout",
     "output_type": "stream",
     "text": [
      "[[-2.3091887   0.4695641 ]\n",
      " [ 2.31607288  0.584288  ]\n",
      " [ 2.85577325 -0.53570619]\n",
      " [ 0.16015571  1.442863  ]\n",
      " [ 2.08588195 -2.04960355]\n",
      " [-0.95706856  0.51815526]\n",
      " [-1.08364501  2.43809159]\n",
      " [ 2.78809136 -2.56359334]\n",
      " [ 2.5039099   1.96930149]\n",
      " [ 1.54803481 -0.02909937]\n",
      " [-0.12584123  0.21056319]\n",
      " [ 2.27844344 -0.12298459]\n",
      " [ 2.13917975  1.1073146 ]\n",
      " [ 1.35026774 -2.93551105]\n",
      " [-0.52755206  0.62219777]\n",
      " [ 1.43342086  2.17292125]\n",
      " [-0.21116071 -1.75757784]\n",
      " [-1.95524702 -2.74493705]\n",
      " [-0.46854536 -1.35723952]\n",
      " [ 0.92218431 -0.75016774]\n",
      " [ 0.84456204 -1.91922524]\n",
      " [ 1.62910754 -1.53431573]\n",
      " [-0.83046606  0.72132191]\n",
      " [-1.41652145 -0.57180913]\n",
      " [-0.07943604  2.38892957]\n",
      " [-1.35151357  2.82221977]\n",
      " [ 1.3177167  -1.97924095]\n",
      " [ 2.92683857  2.72986845]\n",
      " [-1.70487113 -2.68936667]\n",
      " [ 1.56115884 -0.2785152 ]\n",
      " [-2.00416013 -1.21433931]\n",
      " [ 2.21140132  2.46581694]\n",
      " [-1.14620513  0.40128525]\n",
      " [-2.96590427 -2.14117572]\n",
      " [-1.00558621  2.69607518]\n",
      " [-0.66824767  2.62456822]\n",
      " [-2.87245138 -0.8778018 ]\n",
      " [ 0.69018795 -0.61873782]\n",
      " [-2.2643863   1.74410982]\n",
      " [-1.61773    -0.35519604]\n",
      " [-1.87876019  2.15825295]\n",
      " [ 1.84304214 -1.83124967]\n",
      " [-1.7534696   0.70227787]\n",
      " [-2.62806539  1.70696744]\n",
      " [ 1.90741853 -1.61007072]\n",
      " [-2.04778903 -0.47279921]\n",
      " [-1.29008202  0.81908188]\n",
      " [-1.82224787  2.55219307]\n",
      " [-0.41267148 -2.48207544]\n",
      " [ 2.41081092 -0.79000993]\n",
      " [ 2.64145956  2.07904152]\n",
      " [-0.0072417   0.88182038]\n",
      " [-0.35969957  1.43363823]\n",
      " [ 0.74485455 -0.95354029]\n",
      " [-2.35202425 -2.99869769]\n",
      " [ 1.13556707 -2.86935098]\n",
      " [-0.58926548 -2.60393182]\n",
      " [-2.44940894  1.84709239]\n",
      " [-1.53993971  2.30142415]\n",
      " [-1.25641098 -1.49401228]\n",
      " [ 2.39298047 -1.73096149]\n",
      " [ 0.07625017  2.90950394]\n",
      " [ 2.03261628  0.0267587 ]\n",
      " [ 1.96402435  0.32987813]\n",
      " [ 2.94209493  2.23635925]\n",
      " [ 2.73967633  0.96195476]\n",
      " [-0.85128312  1.90554686]\n",
      " [-0.63636732 -2.02500011]\n",
      " [-2.71013924 -0.37185449]\n",
      " [-2.46341394  0.07280198]\n",
      " [-2.93930063 -0.09921518]\n",
      " [ 0.34552078 -2.33321191]\n",
      " [ 0.60347425 -0.21593714]\n",
      " [-2.17691746 -2.42861944]\n",
      " [ 0.28884287 -1.09252068]\n",
      " [-2.56515446  1.24960939]\n",
      " [ 0.52024107 -0.96269868]\n",
      " [ 0.46915707 -1.63903359]\n",
      " [ 2.62532916  1.143151  ]\n",
      " [-0.26975636  1.64982867]\n",
      " [ 0.59864766  1.02241913]\n",
      " [ 1.25584974 -1.40784512]\n",
      " [-1.62783311 -1.03350507]\n",
      " [-0.7413167  -2.23645275]\n",
      " [ 0.04747707  1.30890579]\n",
      " [ 1.05227641 -1.17831587]\n",
      " [ 1.00847285 -2.19146062]\n",
      " [ 1.77030167  2.0044293 ]\n",
      " [-1.47355512 -2.79577595]\n",
      " [ 1.47479322  1.60588544]\n",
      " [ 2.53212531 -1.28601905]\n",
      " [-2.15604759  2.95970526]\n",
      " [ 0.37317968  0.16632246]\n",
      " [ 1.69530989 -0.71989245]\n",
      " [-2.69171803  0.94925969]\n",
      " [-1.07921278  1.37718969]\n",
      " [-2.81532938  0.24655955]\n",
      " [ 0.82399058 -2.36315168]\n",
      " [ 0.23858777  2.79883337]\n",
      " [ 1.19563655  1.50635828]]\n",
      "[[0.]\n",
      " [0.]\n",
      " [0.]\n",
      " [0.]\n",
      " [0.]\n",
      " [0.]\n",
      " [0.]\n",
      " [0.]\n",
      " [0.]\n",
      " [0.]\n",
      " [0.]\n",
      " [0.]\n",
      " [0.]\n",
      " [0.]\n",
      " [0.]\n",
      " [0.]\n",
      " [0.]\n",
      " [0.]\n",
      " [0.]\n",
      " [0.]\n",
      " [0.]\n",
      " [0.]\n",
      " [0.]\n",
      " [0.]\n",
      " [0.]\n",
      " [0.]\n",
      " [0.]\n",
      " [0.]\n",
      " [0.]\n",
      " [0.]\n",
      " [0.]\n",
      " [0.]\n",
      " [0.]\n",
      " [0.]\n",
      " [0.]\n",
      " [0.]\n",
      " [0.]\n",
      " [0.]\n",
      " [0.]\n",
      " [0.]\n",
      " [0.]\n",
      " [0.]\n",
      " [0.]\n",
      " [0.]\n",
      " [0.]\n",
      " [0.]\n",
      " [0.]\n",
      " [0.]\n",
      " [0.]\n",
      " [0.]\n",
      " [0.]\n",
      " [0.]\n",
      " [0.]\n",
      " [0.]\n",
      " [0.]\n",
      " [0.]\n",
      " [0.]\n",
      " [0.]\n",
      " [0.]\n",
      " [0.]\n",
      " [0.]\n",
      " [0.]\n",
      " [0.]\n",
      " [0.]\n",
      " [0.]\n",
      " [0.]\n",
      " [0.]\n",
      " [0.]\n",
      " [0.]\n",
      " [0.]\n",
      " [0.]\n",
      " [0.]\n",
      " [0.]\n",
      " [0.]\n",
      " [0.]\n",
      " [0.]\n",
      " [0.]\n",
      " [0.]\n",
      " [0.]\n",
      " [0.]\n",
      " [0.]\n",
      " [0.]\n",
      " [0.]\n",
      " [0.]\n",
      " [0.]\n",
      " [0.]\n",
      " [0.]\n",
      " [0.]\n",
      " [0.]\n",
      " [0.]\n",
      " [0.]\n",
      " [0.]\n",
      " [0.]\n",
      " [0.]\n",
      " [0.]\n",
      " [0.]\n",
      " [0.]\n",
      " [0.]\n",
      " [0.]\n",
      " [0.]]\n",
      "[[1.]\n",
      " [1.]\n",
      " [1.]\n",
      " [1.]\n",
      " [1.]\n",
      " [1.]\n",
      " [1.]\n",
      " [1.]\n",
      " [1.]\n",
      " [1.]\n",
      " [1.]\n",
      " [1.]\n",
      " [1.]\n",
      " [1.]\n",
      " [1.]\n",
      " [1.]\n",
      " [1.]\n",
      " [1.]\n",
      " [1.]\n",
      " [1.]\n",
      " [1.]\n",
      " [1.]\n",
      " [1.]\n",
      " [1.]\n",
      " [1.]\n",
      " [1.]\n",
      " [1.]\n",
      " [1.]\n",
      " [1.]\n",
      " [1.]\n",
      " [1.]\n",
      " [1.]\n",
      " [1.]\n",
      " [1.]\n",
      " [1.]\n",
      " [1.]\n",
      " [1.]\n",
      " [1.]\n",
      " [1.]\n",
      " [1.]\n",
      " [1.]\n",
      " [1.]\n",
      " [1.]\n",
      " [1.]\n",
      " [1.]\n",
      " [1.]\n",
      " [1.]\n",
      " [1.]\n",
      " [1.]\n",
      " [1.]\n",
      " [1.]\n",
      " [1.]\n",
      " [1.]\n",
      " [1.]\n",
      " [1.]\n",
      " [1.]\n",
      " [1.]\n",
      " [1.]\n",
      " [1.]\n",
      " [1.]\n",
      " [1.]\n",
      " [1.]\n",
      " [1.]\n",
      " [1.]\n",
      " [1.]\n",
      " [1.]\n",
      " [1.]\n",
      " [1.]\n",
      " [1.]\n",
      " [1.]\n",
      " [1.]\n",
      " [1.]\n",
      " [1.]\n",
      " [1.]\n",
      " [1.]\n",
      " [1.]\n",
      " [1.]\n",
      " [1.]\n",
      " [1.]\n",
      " [1.]\n",
      " [1.]\n",
      " [1.]\n",
      " [1.]\n",
      " [1.]\n",
      " [1.]\n",
      " [1.]\n",
      " [1.]\n",
      " [1.]\n",
      " [1.]\n",
      " [1.]\n",
      " [1.]\n",
      " [1.]\n",
      " [1.]\n",
      " [1.]\n",
      " [1.]\n",
      " [1.]\n",
      " [1.]\n",
      " [1.]\n",
      " [1.]\n",
      " [1.]]\n"
     ]
    }
   ],
   "source": [
    "api = API(n_samples=100, space=[(-3.0, 3.0), (-3.0, 3.0)], n_outputs=1, method='lhs')\n",
    "\n",
    "print(api.x)\n",
    "print(api.y)\n",
    "print(api.t)"
   ]
  },
  {
   "cell_type": "markdown",
   "metadata": {},
   "source": [
    "## Sampling\n",
    "\n",
    "The API provides the initialised output and target arrays, but it is necessary to script the population of these empty arrays with the sampled black box data manually. This is due to different black box models and simulations having different Python interfacing capabilities. Typically, one input sample is sent to the black box to be evaluated, so this is simulated here using a `for` loop to iterate over the input samples one-by-one. For each input sample `x[i]`, a corresponding output `y[i]` is evaluated along with a binary target `t[i]` representing a converged sample (1) or non-converged sample (0). The peaks function is used as the black box to generate input-output data. Feasible designs (i.e. converged or `t=1`) are constrained to within a circle with radius 2 (or infeasible designs are defined as those outside this circles boundary since `t` is 1 by default) for demonstrative purposes. When sampling from black box simulations in practice, there is typically a black box variable which defines the convergence enabling the user to explicitly sample target data."
   ]
  },
  {
   "cell_type": "code",
   "execution_count": 4,
   "metadata": {},
   "outputs": [
    {
     "name": "stdout",
     "output_type": "stream",
     "text": [
      "[[-4.88382522e-01]\n",
      " [ 4.02208600e-01]\n",
      " [ 5.12619751e-02]\n",
      " [ 7.56113156e+00]\n",
      " [-3.79946490e-02]\n",
      " [-1.77759771e+00]\n",
      " [ 6.88347443e-01]\n",
      " [-1.77397369e-04]\n",
      " [ 1.75543047e-02]\n",
      " [ 3.12444382e+00]\n",
      " [ 9.38088591e-01]\n",
      " [ 6.35980752e-01]\n",
      " [ 3.33540516e-01]\n",
      " [-6.16637246e-02]\n",
      " [ 4.67321847e-01]\n",
      " [ 5.82798009e-01]\n",
      " [-4.92827847e+00]\n",
      " [ 8.16902316e-03]\n",
      " [-1.33962739e+00]\n",
      " [ 8.84154466e-01]\n",
      " [-3.13909334e+00]\n",
      " [-2.38335309e-01]\n",
      " [-5.62277724e-01]\n",
      " [-7.81575911e-01]\n",
      " [ 2.56907104e+00]\n",
      " [ 9.87970676e-02]\n",
      " [-9.73005252e-01]\n",
      " [ 1.94520338e-04]\n",
      " [ 1.15898392e-02]\n",
      " [ 2.87212986e+00]\n",
      " [ 1.37681487e-02]\n",
      " [ 1.74646074e-02]\n",
      " [-2.65380350e+00]\n",
      " [ 7.80744278e-04]\n",
      " [ 3.58857341e-01]\n",
      " [ 8.11044443e-01]\n",
      " [-2.16238648e-02]\n",
      " [ 5.65311962e-01]\n",
      " [ 1.09907625e-02]\n",
      " [-1.73048793e+00]\n",
      " [ 1.11376481e-01]\n",
      " [-1.36328340e-01]\n",
      " [-1.43150882e+00]\n",
      " [-2.95393641e-03]\n",
      " [-3.91163953e-02]\n",
      " [-7.60312991e-01]\n",
      " [-1.51940658e+00]\n",
      " [ 5.47268201e-02]\n",
      " [-1.11594686e+00]\n",
      " [ 2.28982791e-01]\n",
      " [ 7.02356604e-03]\n",
      " [ 2.48768440e+00]\n",
      " [ 6.82717011e+00]\n",
      " [-1.10656276e+00]\n",
      " [ 1.19431026e-03]\n",
      " [-1.40955124e-01]\n",
      " [-5.53068047e-01]\n",
      " [ 4.64770500e-03]\n",
      " [ 2.85026410e-01]\n",
      " [ 4.03959114e-01]\n",
      " [ 7.34779393e-03]\n",
      " [ 4.36638633e-01]\n",
      " [ 1.30021354e+00]\n",
      " [ 1.37160370e+00]\n",
      " [ 9.46817854e-04]\n",
      " [ 4.55282713e-02]\n",
      " [ 3.15917264e+00]\n",
      " [-1.90702455e+00]\n",
      " [-1.06566636e-01]\n",
      " [-3.45470627e-01]\n",
      " [-4.74897308e-02]\n",
      " [-2.46112607e+00]\n",
      " [ 8.06792940e-01]\n",
      " [ 1.15229464e-02]\n",
      " [-3.06970303e+00]\n",
      " [-4.44840520e-02]\n",
      " [-1.87300383e+00]\n",
      " [-6.01267534e+00]\n",
      " [ 5.37443407e-02]\n",
      " [ 7.48470898e+00]\n",
      " [ 2.97433153e+00]\n",
      " [-1.04780981e+00]\n",
      " [ 1.30279200e-01]\n",
      " [-1.04612651e+00]\n",
      " [ 6.88677925e+00]\n",
      " [-1.08411554e+00]\n",
      " [-1.47623297e+00]\n",
      " [ 2.94220396e-01]\n",
      " [ 3.27401912e-03]\n",
      " [ 1.17147898e+00]\n",
      " [ 4.90233602e-02]\n",
      " [ 3.25451388e-03]\n",
      " [ 2.31857661e-02]\n",
      " [ 1.53515928e+00]\n",
      " [-5.98029945e-02]\n",
      " [ 1.79675999e+00]\n",
      " [-8.22167160e-02]\n",
      " [-1.38888869e+00]\n",
      " [ 6.42726751e-01]\n",
      " [ 2.28385854e+00]]\n",
      "[[0.]\n",
      " [0.]\n",
      " [0.]\n",
      " [1.]\n",
      " [0.]\n",
      " [1.]\n",
      " [0.]\n",
      " [0.]\n",
      " [0.]\n",
      " [1.]\n",
      " [1.]\n",
      " [0.]\n",
      " [0.]\n",
      " [0.]\n",
      " [1.]\n",
      " [0.]\n",
      " [1.]\n",
      " [0.]\n",
      " [1.]\n",
      " [1.]\n",
      " [0.]\n",
      " [0.]\n",
      " [1.]\n",
      " [1.]\n",
      " [0.]\n",
      " [0.]\n",
      " [0.]\n",
      " [0.]\n",
      " [0.]\n",
      " [1.]\n",
      " [0.]\n",
      " [0.]\n",
      " [1.]\n",
      " [0.]\n",
      " [0.]\n",
      " [0.]\n",
      " [0.]\n",
      " [1.]\n",
      " [0.]\n",
      " [1.]\n",
      " [0.]\n",
      " [0.]\n",
      " [1.]\n",
      " [0.]\n",
      " [0.]\n",
      " [0.]\n",
      " [1.]\n",
      " [0.]\n",
      " [0.]\n",
      " [0.]\n",
      " [0.]\n",
      " [1.]\n",
      " [1.]\n",
      " [1.]\n",
      " [0.]\n",
      " [0.]\n",
      " [0.]\n",
      " [0.]\n",
      " [0.]\n",
      " [1.]\n",
      " [0.]\n",
      " [0.]\n",
      " [0.]\n",
      " [1.]\n",
      " [0.]\n",
      " [0.]\n",
      " [0.]\n",
      " [0.]\n",
      " [0.]\n",
      " [0.]\n",
      " [0.]\n",
      " [0.]\n",
      " [1.]\n",
      " [0.]\n",
      " [1.]\n",
      " [0.]\n",
      " [1.]\n",
      " [1.]\n",
      " [0.]\n",
      " [1.]\n",
      " [1.]\n",
      " [1.]\n",
      " [1.]\n",
      " [0.]\n",
      " [1.]\n",
      " [1.]\n",
      " [0.]\n",
      " [0.]\n",
      " [0.]\n",
      " [0.]\n",
      " [0.]\n",
      " [0.]\n",
      " [1.]\n",
      " [1.]\n",
      " [0.]\n",
      " [1.]\n",
      " [0.]\n",
      " [0.]\n",
      " [0.]\n",
      " [1.]]\n"
     ]
    }
   ],
   "source": [
    "for i in range(api.x.shape[0]):\n",
    "    if ( api.x[i, 0] ** 2 + api.x[i, 1] ** 2 > 4 ):\n",
    "        api.t[i] = 0\n",
    "\n",
    "api.y = peaks(api.x)\n",
    "\n",
    "print(api.y)\n",
    "print(api.t)"
   ]
  },
  {
   "cell_type": "markdown",
   "metadata": {},
   "source": [
    "## Data processing\n",
    "\n",
    "Before using data `x, y, t` to train surrogate models, any train-test-splits and appropriate scaling must be used (in this order - split then scale).\n",
    "\n",
    "### Train-test-split\n",
    "\n",
    "The `split` method can be used to partition the `x, y, t` data into training and testing sets, `x_train, y_train, t_train` and `x_test, y_test, t_test`. This enables users to train the surrogate models using most of the sampled data whilst witholding some data from the model to be used to test the trained model performance without necessitating further sampling from the expensive black box. The `split` method takes the parameter `test-size` enabling the user to decide what fraction of the data to withold for testing purposes (default is 0.3)."
   ]
  },
  {
   "cell_type": "code",
   "execution_count": 5,
   "metadata": {},
   "outputs": [
    {
     "name": "stdout",
     "output_type": "stream",
     "text": [
      "(70, 2)\n"
     ]
    }
   ],
   "source": [
    "api.split(test_size=0.3)\n",
    "\n",
    "print(api.x_train.shape)"
   ]
  },
  {
   "cell_type": "markdown",
   "metadata": {},
   "source": [
    "### Standardisation\n",
    "\n",
    "It is important that prior to training surrogate models, the input-output data is scaled appropriately. Specifically, scaling over the samples, for each dimension, ensures that variables with large magnitudes do not have a greater influence on measures of surrogate model fit which would result in overfitting to specific dimensions at the cost of overall model accuracy.\n",
    "\n",
    "The scaling method uses standarisation to subtract the mean and divide the result by the standard deviation so that each dimension follows a normal distribution with mean 0 and a standard deviation of 1. When the data is not split beforehand, `x` is simply standardised over the entire dataset to generate `x_` and the `api` object also saves the `x_mean` and `x_std` values for future scaling and descaling purposes. Here, `x_mean` and `x_std` are used to scale the `space` paramter to provide bounds of the scaled search space as `space_`. In this case, `y` is standardised using the `y_mean` and `y_std` of only the converged output data to produce `y_`.\n",
    "\n",
    "It is important to split and then scale the data so that training data is scaled using only the training data and not the full data set. For the input data, this case produces `x_train_`, whilst `x_train_mean` and `x_train_std` values are used to standarise `x_test_` into the same scaled space as the training data which was used to train the surrogate model. In this case, `space_` is also generated using `x_train_mean` and `x_train_std`. Similarly, `y_train_` and `y_test_` are both standarised using `y_train_mean` and `y_train_std` of converged training outputs only."
   ]
  },
  {
   "cell_type": "code",
   "execution_count": 6,
   "metadata": {},
   "outputs": [
    {
     "name": "stdout",
     "output_type": "stream",
     "text": [
      "[1.15490119] [3.39962547]\n"
     ]
    }
   ],
   "source": [
    "api.scale()\n",
    "\n",
    "print(api.y_train_mean, api.y_train_std)"
   ]
  },
  {
   "cell_type": "markdown",
   "metadata": {},
   "source": [
    "## Regressor model training\n",
    "\n",
    "The `init_regressor` method can be used to fit a regression surrogate model to the scaled input-output data. This methods recieves a parameter `type` as a string to define whether to use a Gaussian Process Regressor `gp` or a Neural Network `nn`. In addition, the user can pass keyword arguments to define the setup of the particular model. For example, for a NN, the user must specify parameters `hidden_layers` as a list of number of nodes in each hidden layer (e.g. `hidden_layers=[10, 10]`) and `activation` as a string to define the activation function applied to each hidden layer. Activation functions available are `tanh`, `sigmoid`, `softplus`, and `relu`. For a GP model users can specify a level of `noise`.\n",
    "\n",
    "To train the surrogate model the user uses the relevant methods provided by the model object interfaced through `api.regressor`. It should be noted that the regressor models are typically fitted to standardised input-output data or standardised training data using `api.regressor.fit(api.x_, api.y_)` or `api.regressor.fit(api.x_train_, api.y_train_)` respectively."
   ]
  },
  {
   "cell_type": "code",
   "execution_count": 7,
   "metadata": {},
   "outputs": [
    {
     "name": "stdout",
     "output_type": "stream",
     "text": [
      "NN(\n",
      "  (0): Linear(in_features=2, out_features=15, bias=True)\n",
      "  (1): Tanh()\n",
      "  (2): Linear(in_features=15, out_features=5, bias=True)\n",
      "  (3): Tanh()\n",
      "  (4): Linear(in_features=5, out_features=1, bias=True)\n",
      ")\n"
     ]
    }
   ],
   "source": [
    "api.init_regressor('nn', hidden_layers=[15, 5], activation='tanh')\n",
    "api.regressor.fit(api.x_train_, api.y_train_)\n",
    "\n",
    "print(api.regressor)"
   ]
  },
  {
   "cell_type": "markdown",
   "metadata": {},
   "source": [
    "## Classifier model training\n",
    "\n",
    "The `init_classifier` method can be used to fit a classification surrogate model to the scaled input data and binary target data. This methods also recieves a parameter `type` as a string to define whether to use a Gaussian Process Classifier `gp` or a Neural Network `nn`. The user passes keyword arguments to define the setup of the model in the same way as for regression models. NNs recieve the same parameters `hidden_layers` and `activation` whereas GPs do not have any customisable parameters. Activation functions available for classification are `sigmoid`or `hardsigmoid` where these function are applied to hidden layers and the output layer in the classification case.\n",
    "\n",
    "To train the surrogate model the user uses the relevant methods provided by the model object interfaced through `api.classifier`. The classifier is typically trained using scaled input data and target data or the training equivalents using `api.classifier.fit(api.x_, api.t)` or `api.classifier.fit(api.x_train_, api.t_train)`, respectively."
   ]
  },
  {
   "cell_type": "code",
   "execution_count": 8,
   "metadata": {},
   "outputs": [
    {
     "name": "stdout",
     "output_type": "stream",
     "text": [
      "NN(\n",
      "  (0): Linear(in_features=2, out_features=10, bias=True)\n",
      "  (1): Sigmoid()\n",
      "  (2): Linear(in_features=10, out_features=1, bias=True)\n",
      ")\n"
     ]
    }
   ],
   "source": [
    "api.init_classifier('nn', hidden_layers=[10], activation='sigmoid')\n",
    "api.classifier.fit(api.x_train_, api.t_train, loss_func=nn.BCEWithLogitsLoss())\n",
    "\n",
    "print(api.classifier)"
   ]
  },
  {
   "cell_type": "markdown",
   "metadata": {},
   "source": [
    "## Pyomo formulations\n",
    "\n",
    "### Foundations\n",
    "\n",
    "The `api` provided by `sumomo` enables the optimisation formualations of trained surrogate models to be plugged into larger optimisation formulations where required. To show this, begin initialising an optimisation problem saved as `opt`. This optimisation problem has variables `inputs` with the same dimensions as our surrogate model inputs, a scalar `output` variable, and a scalar variable `feasibility`. Here, also define a constraint for this larger optimisation formulation that the feasibility probability must be greater than 0.5. Finally, define the objective function as maximise `output`."
   ]
  },
  {
   "cell_type": "code",
   "execution_count": 9,
   "metadata": {},
   "outputs": [
    {
     "name": "stdout",
     "output_type": "stream",
     "text": [
      "1 Set Declarations\n",
      "    inputs_index : Size=1, Index=None, Ordered=False\n",
      "        Key  : Dimen : Domain : Size : Members\n",
      "        None :     1 :    Any :    2 : {0, 1}\n",
      "\n",
      "3 Var Declarations\n",
      "    inputs : Size=2, Index=inputs_index\n",
      "        Key : Lower : Value : Upper : Fixed : Stale : Domain\n",
      "          0 :  None :  None :  None : False :  True :  Reals\n",
      "          1 :  None :  None :  None : False :  True :  Reals\n",
      "    logits : Size=1, Index=None\n",
      "        Key  : Lower : Value : Upper : Fixed : Stale : Domain\n",
      "        None :  None :  None :  None : False :  True :  Reals\n",
      "    output : Size=1, Index=None\n",
      "        Key  : Lower : Value : Upper : Fixed : Stale : Domain\n",
      "        None :  None :  None :  None : False :  True :  Reals\n",
      "\n",
      "1 Objective Declarations\n",
      "    obj : Size=1, Index=None, Active=True\n",
      "        Key  : Active : Sense    : Expression\n",
      "        None :   True : maximize :     output\n",
      "\n",
      "1 Constraint Declarations\n",
      "    feasibility_con : Size=1, Index=None, Active=True\n",
      "        Key  : Lower : Body                  : Upper : Active\n",
      "        None :   0.5 : 1/(1 + exp(- logits)) :  +Inf :   True\n",
      "\n",
      "6 Declarations: inputs_index inputs output logits feasibility_con obj\n"
     ]
    }
   ],
   "source": [
    "opt = pyo.ConcreteModel()\n",
    "\n",
    "opt.n_inputs = set(range(api.x.shape[1]))\n",
    "\n",
    "opt.inputs = pyo.Var(opt.n_inputs)\n",
    "opt.output = pyo.Var()\n",
    "opt.logits = pyo.Var()\n",
    "\n",
    "opt.feasibility_con = pyo.Constraint(expr= 1 / (1 + pyo.exp(-opt.logits)) >= 0.5 )\n",
    "\n",
    "opt.obj = pyo.Objective(expr=opt.output, sense=pyo.maximize)\n",
    "\n",
    "opt.pprint()"
   ]
  },
  {
   "cell_type": "markdown",
   "metadata": {},
   "source": [
    "### Formulating surrogate model constraints\n",
    "\n",
    "The constraints defining the relationship between `output` and `inputs` will be enforced by the regression surrogate model, whilst the constraints defining the relationship between `feasibility` and `inputs` will be enforced by the classifier surrogate model. To achieve this, simply use the `formulate` method provided by the `api` and pass in the trained surrogate model instance for which to formulate constraints. Assign the output of this method call to an attribute of the larger optimisation problem where the surrogate model formulation will be contained as a Pyomo *Block*. Finally, connect the optimisation problem variables `inputs` and `output` to the surrogate model input and output variables."
   ]
  },
  {
   "cell_type": "code",
   "execution_count": 10,
   "metadata": {},
   "outputs": [],
   "source": [
    "opt.mdl = api.formulate(api.regressor)\n",
    "opt.feas = api.formulate(api.classifier)\n",
    "\n",
    "# connect pyomo model input and output to the surrogate models\n",
    "@opt.Constraint(opt.n_inputs)\n",
    "def connect_regressor_inputs(m, i):\n",
    "    return m.inputs[i] == m.mdl.inputs[i]\n",
    "\n",
    "@opt.Constraint(opt.n_inputs)\n",
    "def connect_classifier_inputs(m, i):\n",
    "    return m.inputs[i] == m.feas.inputs[i]\n",
    "\n",
    "@opt.Constraint()\n",
    "def connect_regressor_output(m):\n",
    "    return m.output == m.mdl.outputs[0]\n",
    "\n",
    "@opt.Constraint()\n",
    "def connect_classifier_output(m):\n",
    "    return m.logits == m.feas.outputs[0]"
   ]
  },
  {
   "cell_type": "markdown",
   "metadata": {},
   "source": [
    "### Solving the optimisation problem\n",
    "\n",
    "The user must then define the solver and desired solver settings before writing the solve statement."
   ]
  },
  {
   "cell_type": "code",
   "execution_count": 11,
   "metadata": {},
   "outputs": [
    {
     "name": "stdout",
     "output_type": "stream",
     "text": [
      "===========================================================================\n",
      " BARON version 22.4.20. Built: OSX-64 Wed Apr 20 10:52:09 EDT 2022\n",
      "\n",
      " BARON is a product of The Optimization Firm.\n",
      " For information on BARON, see https://minlp.com/about-baron\n",
      " Licensee: Benoit Chachuat at Imperial College London, b.chachuat@imperial.ac.uk.\n",
      "\n",
      " If you use this software, please cite publications from\n",
      " https://minlp.com/baron-publications, such as: \n",
      "\n",
      " Khajavirad, A. and N. V. Sahinidis,\n",
      " A hybrid LP/NLP paradigm for global optimization relaxations,\n",
      " Mathematical Programming Computation, 10, 383-421, 2018.\n",
      "===========================================================================\n",
      " This BARON run may utilize the following subsolver(s)\n",
      " For LP/MIP/QP: CLP/CBC, ILOG CPLEX                             \n",
      " For NLP: IPOPT, FILTERSQP\n",
      "===========================================================================\n",
      " Doing local search\n",
      " Preprocessing found feasible solution with value  1.85737077153     \n",
      " Solving bounding LP\n",
      " Starting multi-start local search\n",
      " Done with local search\n",
      "===========================================================================\n",
      "  Iteration    Open nodes         Time (s)    Lower bound      Upper bound\n",
      "          1             1             0.35     1.85737          3.05110    \n",
      "*        30            19             1.54     1.85738          3.05109    \n",
      "      12135          1177            30.00     1.85738          2.77881    \n",
      "\n",
      "                    *** Max. allowable time exceeded ***      \n",
      "\n",
      " Wall clock time:                    30.44\n",
      " Total CPU time used:                30.00\n",
      "\n",
      " Total no. of BaR iterations:   12135\n",
      " Best solution found at node:      32\n",
      " Max. no. of nodes in memory:    1185\n",
      " \n",
      " All done\n",
      "===========================================================================\n"
     ]
    }
   ],
   "source": [
    "# solver setup\n",
    "solver = pyo.SolverFactory('baron')\n",
    "solver.options['MaxTime'] = 30\n",
    "\n",
    "# macOS requires CplexLibName option to be specified, please change accordingly\n",
    "solver.options['CplexLibName'] = \"/Applications/CPLEX_Studio201/cplex/bin/x86-64_osx/libcplex2010.dylib\"\n",
    "\n",
    "# solve\n",
    "results = solver.solve(opt, tee=True)"
   ]
  },
  {
   "cell_type": "markdown",
   "metadata": {},
   "source": [
    "## Results\n",
    "\n",
    "Denormalise the optimisation solution using the statistical moment data saved in `api`. Also compare the predictions of the regressor and classifier models at the solution with the optimisation variable values to observe any difference between the model formulations and the optimisaiton formulations."
   ]
  },
  {
   "cell_type": "code",
   "execution_count": 12,
   "metadata": {},
   "outputs": [
    {
     "name": "stdout",
     "output_type": "stream",
     "text": [
      "[0.19643187232513248, 1.5010308511807402]\n",
      "1.8573822939192763 1.857371\n",
      "4.146639926889833 4.14658\n"
     ]
    }
   ],
   "source": [
    "# denormalise solution\n",
    "solution = [opt.inputs[i].value * api.x_train_std[i] + api.x_train_mean[i] for i in range(api.x.shape[1])]\n",
    "print(solution)\n",
    "\n",
    "# compare optimisation outputs with model prediction\n",
    "x_ = [(solution[i] - api.x_train_mean[i]) / api.x_train_std[i] for i in range(api.x.shape[1])]\n",
    "model_logit = api.classifier.predict(np.array([x_]), return_proba=True)[0].ravel()[0]\n",
    "opt_logit = opt.logits.value\n",
    "# opt_proba = 1 / (1 + np.exp(-opt.logits.value))\n",
    "\n",
    "print(opt.output.value, api.regressor.predict(np.array([x_])).ravel()[0])\n",
    "print(opt_logit, model_logit)"
   ]
  },
  {
   "cell_type": "markdown",
   "metadata": {},
   "source": [
    "Plot the surrogate model predictions overlayed with the sampled data, the optimisataion solution and the feasibility constraint."
   ]
  },
  {
   "cell_type": "code",
   "execution_count": 13,
   "metadata": {},
   "outputs": [
    {
     "data": {
      "image/png": "[encoded data removed]",
      "text/plain": [
       "<Figure size 288x216 with 1 Axes>"
      ]
     },
     "metadata": {
      "needs_background": "light"
     },
     "output_type": "display_data"
    }
   ],
   "source": [
    "plot_model(api, show_samples=True, show_sol=solution, show_class=True)"
   ]
  },
  {
   "cell_type": "code",
   "execution_count": 14,
   "metadata": {},
   "outputs": [
    {
     "data": {
      "image/png": "[encoded data removed]",
      "text/plain": [
       "<Figure size 720x288 with 4 Axes>"
      ]
     },
     "metadata": {
      "needs_background": "light"
     },
     "output_type": "display_data"
    }
   ],
   "source": [
    "x1, x2 = np.linspace(*api.space_[0], 50), np.linspace(*api.space_[1], 50)\n",
    "x1grid, x2grid = np.meshgrid(x1, x2)\n",
    "x_new = np.c_[x1grid.ravel(), x2grid.ravel()]\n",
    "\n",
    "x_plot = np.c_[x1, x2] * api.x_train_std + api.x_train_mean\n",
    "\n",
    "logits, probs = api.classifier.predict(x_new, return_proba=True)\n",
    "logits = logits.reshape(x1grid.shape)\n",
    "probs = probs.reshape(x1grid.shape)\n",
    "\n",
    "fig, (ax1, ax2) = plt.subplots(1, 2, figsize=(10, 4))\n",
    "\n",
    "c1 = ax1.contourf(x_plot[:, 0], x_plot[:, 1], logits, levels=12, alpha=0.8)\n",
    "ax1.scatter(api.x[:, 0], api.x[:, 1], s=10, c=api.t, cmap='bwr_r')\n",
    "ax1.contour(x_plot[:, 0], x_plot[:, 1], logits, levels=[0.0], linestyles='dashed', colors='k', linewidths=1)\n",
    "ax1.set_xlabel('$x_1$')\n",
    "ax1.set_ylabel('$x_2$')\n",
    "ax1.title.set_text('logits')\n",
    "fig.colorbar(c1, ax=ax1)\n",
    "\n",
    "c2 = ax2.contourf(x_plot[:, 0], x_plot[:, 1], probs, levels=12, alpha=0.8)\n",
    "ax2.scatter(api.x[:, 0], api.x[:, 1], s=10, c=api.t, cmap='bwr_r')\n",
    "ax2.contour(x_plot[:, 0], x_plot[:, 1], probs, levels=[0.5], linestyles='dashed', colors='k', linewidths=1)\n",
    "ax2.set_xlabel('$x_1$')\n",
    "ax2.set_ylabel('$x_2$')\n",
    "ax2.title.set_text('probabilities')\n",
    "fig.colorbar(c2, ax=ax2)\n",
    "\n",
    "plt.tight_layout()"
   ]
  },
  {
   "cell_type": "code",
   "execution_count": null,
   "metadata": {},
   "outputs": [],
   "source": []
  }
 ],
 "metadata": {
  "kernelspec": {
   "display_name": "Python 3 (ipykernel)",
   "language": "python",
   "name": "python3"
  },
  "language_info": {
   "codemirror_mode": {
    "name": "ipython",
    "version": 3
   },
   "file_extension": ".py",
   "mimetype": "text/x-python",
   "name": "python",
   "nbconvert_exporter": "python",
   "pygments_lexer": "ipython3",
   "version": "3.9.12"
  },
  "vscode": {
   "interpreter": {
    "hash": "509b8fb1f9bb9a36cf455cc3b6d7786e56047ba93e78ea1e04340272261a598e"
   }
  }
 },
 "nbformat": 4,
 "nbformat_minor": 2
}
