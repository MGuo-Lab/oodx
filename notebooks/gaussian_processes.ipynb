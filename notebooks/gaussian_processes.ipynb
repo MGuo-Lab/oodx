{
 "cells": [
  {
   "cell_type": "markdown",
   "metadata": {},
   "source": [
    "# Gaussian processes\n",
    "\n",
    "## Introduction\n",
    "\n",
    "This notebook introduces the Gaussian process surrogate modelling implementation in `sumomo`.\n",
    "\n",
    "Begin by ensuring that this notebook directory is on the system path and importing necessary packages including `numpy`. The `sumomo` functionality is made accessible through the `api` instance, whilst utilities such as black box models and plotting functions are imported from the `utils` script. We use the `plot_peaks` function to visualise the underlying black box model used in this notebook for demonstrative purposes, coded in `peaks` and with the functional form shown below.\n",
    "\n",
    "$$ f(x) = 3(1-x_0)^2 \\exp\\left(-x_0^2 - (x_1 + 1)^2\\right) - 10 \\left(\\frac{x_0}{5} - x_0^3 - x_1^5\\right)\\exp\\left(-x_0^2 - x_1^2\\right) - \\frac{1}{3}\\exp\\left(-(x_0+1)^2 - x_1^2\\right) $$"
   ]
  },
  {
   "cell_type": "code",
   "execution_count": 1,
   "metadata": {},
   "outputs": [
    {
     "data": {
      "image/png": "[encoded data removed]",
      "text/plain": [
       "<Figure size 288x216 with 1 Axes>"
      ]
     },
     "metadata": {
      "needs_background": "light"
     },
     "output_type": "display_data"
    }
   ],
   "source": [
    "import os\n",
    "import sys\n",
    "nb_dir = os.path.split(os.getcwd())[0]\n",
    "if nb_dir not in sys.path:\n",
    "    sys.path.append(nb_dir)\n",
    "\n",
    "import numpy as np\n",
    "\n",
    "from sumomo import API\n",
    "from utils import peaks, plot_peaks, plot_gp, func_1d, plot_1d\n",
    "\n",
    "\n",
    "plot_peaks()"
   ]
  },
  {
   "cell_type": "markdown",
   "metadata": {},
   "source": [
    "## Sampling\n",
    "\n",
    "Initialise the sampling strategy with 100 samples bounded in two dimensions between (-3.0, 3.0) with 1 output variable using Latin hypercube sampling. Sample the output data from the peaks function. Split the data into training (70 samples) and testing sets (30 samples). Standardise the data accordingly."
   ]
  },
  {
   "cell_type": "code",
   "execution_count": 2,
   "metadata": {},
   "outputs": [
    {
     "name": "stdout",
     "output_type": "stream",
     "text": [
      "[[-0.27407202]\n",
      " [-0.39803534]\n",
      " [-1.34125936]\n",
      " [-0.27473004]\n",
      " [-0.13071783]\n",
      " [-0.27844386]\n",
      " [ 1.94406757]\n",
      " [-0.32233033]\n",
      " [ 2.43904223]\n",
      " [-0.22841099]\n",
      " [ 0.22527201]\n",
      " [-0.28687547]\n",
      " [-1.45156212]\n",
      " [-0.27482411]\n",
      " [ 0.59690628]\n",
      " [-0.50909184]\n",
      " [ 0.55930623]\n",
      " [ 1.35899949]\n",
      " [ 0.20418759]\n",
      " [-0.26794151]\n",
      " [-0.15200935]\n",
      " [ 0.72969249]\n",
      " [-0.26906668]\n",
      " [-1.17076913]\n",
      " [-0.27434173]\n",
      " [-0.27338842]\n",
      " [ 0.63785416]\n",
      " [-0.29378957]\n",
      " [-0.24559238]\n",
      " [-0.28136971]]\n"
     ]
    }
   ],
   "source": [
    "api = API(100, [(-3.0, 3.0), (-3.0, 3.0)], 1, 'lhs')\n",
    "\n",
    "for i in range(api.x.shape[0]):\n",
    "    api.y[i] = peaks(api.x[i])\n",
    "\n",
    "api.split(test_size=0.3)\n",
    "api.scale()\n",
    "\n",
    "print(api.y_test_)"
   ]
  },
  {
   "cell_type": "markdown",
   "metadata": {},
   "source": [
    "## Gaussian process regression\n",
    "\n",
    "A Gaussian process describes a Gaussian (or Normal) distribution over functions. Similar to how a normal distribution of random variables can be fully defined by a mean and variance, a Gaussian process is specified completely by a mean function, $\\mu(x)$, and a covariance function, $k(x, x')$. Specifically, a real process $f(\\textbf{x})$ can be represented by a Gaussian process over functions with a joint distribution shown below. Notice here that the mean and covariance of *functions* are written as functions of *inputs*. We write that the real process is asymptotic to the Gaussian process because, as more observations are made, the distribution over functions becomes tighter around the real function.\n",
    "\n",
    "$$ f(\\textbf{x}) \\sim \\mathcal{N} \\left(\\mu(\\textbf{x}), k(\\textbf{x}, \\textbf{x}') \\right) $$\n",
    "\n",
    "The covariance function enables users to incorporate expert knowledge into the model, for example favouring smooth, periodic, or noisy functions. In this case, the squared exponential covariance function is used, where $\\sigma^2_f$ and $l$ are the postive function variance parameter and characteristic length scale, respectively. The length scale represents the sensitivty of the function, where higher values ensure that even two points far away are correlated resluting in an overall smoothing effect, whilst lower values result in higher frequency function changes. Note that the length scale appears as $l^2$ is the equation as it has been taken outside the squared distance term although it could be written as $ \\left|\\frac{x_j - x'_j}{l}\\right|^2 $. This covariance function can be evaluated between two points $\\textbf{x}, \\textbf{x}'$ in $m$-dimensional space, such that $x_j, x'_j$ represent coordinates for $j=1, ... m$.\n",
    "\n",
    "$$ k(\\textbf{x}, \\textbf{x}') = \\sigma^2_f\\exp\\left( - \\sum_{j=1}^m \\frac{1}{2l^2} \\left|x_j - x'_j\\right|^2 \\right) $$\n",
    "\n",
    "The mean function is typically assumed to a constant or equal to zero since modelling the covariances in this way is sufficient to capture the overall model behaviour. Modelling the mean as a constant removes the dependence on the inputs and in the case of mean equal to zero, the Gaussian process prior distrubtion can be written as below. This 0 assumption has the extra validation that since the data is standardised prior to modelling the mean of the data is actually 0.\n",
    "\n",
    "$$ f(\\textbf{x}) \\sim \\mathcal{N} \\left(0, k(\\textbf{x}, \\textbf{x}') \\right) $$\n",
    "\n",
    "Given a set of training observations $\\textbf{f}$ made over training inputs $\\textbf{x}$, and a single testing input $\\textbf{x}_*$, the joint distribution with the unknown testing output $f_*$ according to the prior is given by below. It is possible to simplify the notation, such that $K$ represents the $n\\times n$ covariance matrix between $n$ training samples, $k(\\textbf{x}_*$ is the $n$-vector of covariances between the new input and $n$ training samples, and the covariance between the new input and itself $k(\\textbf{x}_*, \\textbf{x}_*)$ is equal to the process variance $\\sigma^2_f$.\n",
    "\n",
    "$$ \\begin{align}\n",
    "\\begin{bmatrix}\n",
    "\\textbf{f}\\\\\n",
    "f_*\n",
    "\\end{bmatrix} &  \\sim \\mathcal{N} \\left( \\begin{bmatrix} \\textbf{0}\\\\ 0 \\end{bmatrix}, \\begin{bmatrix}\n",
    "K(\\textbf{x}, \\textbf{x}) & \\textbf{k}(\\textbf{x}, \\textbf{x}_*)\\\\\n",
    "\\textbf{k}(\\textbf{x}_*, \\textbf{x}) & k(\\textbf{x}_*, \\textbf{x}_*)\n",
    "\\end{bmatrix} \\right) \\\\\n",
    "& \\sim \\mathcal{N} \\left( \\begin{bmatrix} \\textbf{0}\\\\ 0 \\end{bmatrix}, \\begin{bmatrix}\n",
    "K & \\textbf{k}_*\\\\\n",
    "\\textbf{k}^T_* & \\sigma^2_f\n",
    "\\end{bmatrix} \\right) \\end{align}$$\n",
    "\n",
    "By conditioning this joint distribution prior on the observations,\n",
    "\n",
    "$$ \\begin{bmatrix}\n",
    "\\textbf{x}\\\\\n",
    "\\textbf{y}\n",
    "\\end{bmatrix} \\sim \\mathcal{N} \\left( \\begin{bmatrix} \\boldsymbol{\\mu}_x\\\\ \\boldsymbol{\\mu}_y \\end{bmatrix}, \\begin{bmatrix}\n",
    "A & C\\\\\n",
    "C^T & B\n",
    "\\end{bmatrix} \\right)$$\n",
    "\n",
    "$$ \\textbf{x} | \\textbf{y} \\sim \\mathcal{N} \\left( \\boldsymbol{\\mu}_x + C B^{-1}(\\textbf{y} - \\boldsymbol{\\mu}_y) , A - C B ^{-1} C^T \\right) $$\n",
    "\n",
    "### Predictive function and uncertainty\n",
    "\n",
    "The testing output can be written as a Gaussian posterior distribution with mean function and variance.\n",
    "\n",
    "$$ \\bar{f_*} = \\textbf{k}_*^T K^{-1}\\textbf{f} $$\n",
    "\n",
    "$$ \\mathbb{V}\\left[{f_*}\\right] = \\sigma^2_f - \\textbf{k}_*^T K^{-1}\\textbf{k}_* $$\n",
    "\n",
    "### Predictions with noisy observations\n",
    "\n",
    "In the case of noisy observations where $\\textbf{y} = \\textbf{f} + \\epsilon$, this noise can be incorporated into the covariance function by adding an additional variance term to the diagonal.\n",
    "\n",
    "$$ \\text{cov}(\\textbf{y}) = K(\\textbf{x}, \\textbf{x}) + \\sigma^2_n I $$\n",
    " \n",
    "The corresponding joint distrubtion between noisy observations and a noisy prediction can be written as.\n",
    " \n",
    "$$ \\begin{align}\n",
    "\\begin{bmatrix}\n",
    "\\textbf{y}\\\\\n",
    "y_*\n",
    "\\end{bmatrix} \\sim \\mathcal{N} \\left( \\begin{bmatrix} \\textbf{0}\\\\ 0 \\end{bmatrix}, \\begin{bmatrix}\n",
    "K + \\sigma^2_n I & \\textbf{k}_*\\\\\n",
    "\\textbf{k}^T_* & \\sigma^2_f + \\sigma^2_n\n",
    "\\end{bmatrix} \\right) \\end{align}$$\n",
    "\n",
    "The resulting predictive mean function and variance function provide a more generalised version with optional noise.\n",
    "\n",
    "$$ \\bar{y_*} = \\textbf{k}_*^T (K + \\sigma^2_n I)^{-1}\\textbf{y} $$\n",
    "\n",
    "$$ \\mathbb{V}\\left[{y_*}\\right] = \\sigma^2_f + \\sigma^2_n - \\textbf{k}_*^T (K + \\sigma^2_n I)^{-1}\\textbf{k}_* $$\n",
    "\n",
    "### Linear predictor\n",
    "\n",
    "Since $(K + \\sigma^2_n I)^{-1}\\textbf{y}$ is only a function of the training data, only $\\textbf{k}_*^T$ depends on the new input, so the predictive mean function can be written as the linear predictor.\n",
    "\n",
    "$$ \\bar{y}(\\textbf{x}_*) = \\sum_i^n \\alpha_i k(\\textbf{x}_i, \\textbf{x}_* ) $$\n",
    " \n",
    " ### GPR\n",
    " \n",
    "The Sumomo `GPR` class inherits from the `GaussianProcessRegressor` from *scikit-learn*. Specifically, `GPR` is initialised with the an optional `noise` attribute with default value equal to 0. Additionally, `GPR` is initialised with the squared exponential kernel also known as the radial basis function `RBF` kernel from *scikit-learn*, with an initial `length_scale` equal to 1 and `length_scale_bounds` at (0, 100). The `1.0` pre-factor to `RBF` provides a kernel scaling paramter equivalent to $\\sigma_f^2$.\n",
    "\n",
    "`GPR` has a method `fit(x, y)` which calls the method of the same name from `GaussianProcessRegressor` whilst simultaneously saving `x` and `y`, and the optimisation parameters to the class for further use. The fitting is performed by maximum likelihood estimation to minimise the negative log marginal likelihood using *scipy.optimize.minimize*.\n",
    "\n",
    "Specifically, the `GPR` class method `save_params()` obtains the optimised kernel parameters after fitting, the pre-exponential `constant_value` equivalent to $\\sigma_f^2$ and the `length_scale`. In addition, `invK` equivalent to $K^{-1}$ and `alpha` from the linear predictor are saved. Finally, further consolidation is done to save $\\alpha_i \\sigma_f^2$ as an $n$-vector `beta` where $n$ is the number of training samples and size of $\\alpha$.\n",
    "\n",
    "Predictions are made using `GPR.predict(x)` with optional parameter `return_std` equal to `False` in which case only the predictive mean function is evaluated at the inputs. For `return_std` equal to `True`, the predictive mean is returned along with the standard deviation of the predictions, equivalent to $\\sqrt{\\mathbb{V}\\left[{y_*}\\right]}$ Again, the `GaussianProcessRegressor` predict method is called.\n",
    "\n",
    "Finally, `GPR` contained the `formulation(x, return_std=False)` method with the same function as `predict()` but with *NumPy* formulations equivalent to the *Pyomo* fomrulations implemented later.\n",
    "\n",
    "```python\n",
    "class GPR(GaussianProcessRegressor):\n",
    "    def __init__(self, noise=0.0):\n",
    "        super().__init__(kernel=self.kernel(), alpha=noise)\n",
    "        self.name = 'GPR'\n",
    "        self.x_train = None\n",
    "        self.length_scale = None\n",
    "        self.constant_value = None\n",
    "        self.inv_K = None\n",
    "        self.noise = noise\n",
    "    \n",
    "    def kernel(self):\n",
    "        kernel = 1.0 * RBF(length_scale=1.0, length_scale_bounds=(0, 1e2))\n",
    "        return kernel\n",
    "\n",
    "    def fit(self, x, y):\n",
    "        self.x_train = x\n",
    "        super().fit(x, y)\n",
    "        self.save_params()\n",
    "    \n",
    "    def save_params(self):\n",
    "        params = self.kernel_.get_params()\n",
    "        self.constant_value = params['k1__constant_value']\n",
    "        self.length_scale = params['k2__length_scale']\n",
    "        self.alpha = self.alpha_.ravel()\n",
    "        K = self.kernel_(self.x_train, self.x_train) + np.eye(self.x_train.shape[0]) * self.noise\n",
    "        self.inv_K = inv(K)\n",
    "    \n",
    "    def predict(self, x, return_std=False):\n",
    "        if return_std:\n",
    "            return super().predict(x, return_std=True)\n",
    "        else:\n",
    "            return super().predict(x, return_std=False)\n",
    "\n",
    "    def formulation(self, x, return_std=False):\n",
    "        n = self.x_train.shape[0]\n",
    "        m = self.x_train.shape[1]\n",
    "        sq_exp = np.exp(\n",
    "            -sum(0.5 / self.length_scale ** 2 * (x[:, j] - self.x_train[:, j]) ** 2 for j in range(m))\n",
    "            )\n",
    "        k_s = self.constant_value * sq_exp\n",
    "        pred = sum(k_s[i] * self.alpha[i] for i in range(n))\n",
    "        if return_std:\n",
    "            k_K_k = sum(k_s[i] * sum(self.inv_K[i, j] * k_s[j] for j in range(n)) for i in range(n))\n",
    "            var = self.constant_value + self.noise - k_K_k\n",
    "            std = np.sqrt(var)\n",
    "            return pred, std\n",
    "        else:\n",
    "            return pred\n",
    "```\n",
    "\n",
    "\n",
    "* varying $l$\n",
    "* varying $\\sigma^2_f$\n",
    "* varying $\\sigma^2_n$\n",
    "* different kernel functions\n",
    "* fitting or parameter optimisation\n",
    "* *NumPy* formulation"
   ]
  },
  {
   "cell_type": "code",
   "execution_count": null,
   "metadata": {},
   "outputs": [],
   "source": [
    "api.initialise(3, [(-8.0, 8.0)], 1, 'lhs')\n",
    "\n",
    "for i in range(api.x.shape[0]):\n",
    "    api.y[i] = func_1d(api.x[i])\n",
    "\n",
    "# api.split(test_size=0.3)\n",
    "api.scale()\n",
    "\n",
    "print()\n"
   ]
  },
  {
   "cell_type": "code",
   "execution_count": null,
   "metadata": {},
   "outputs": [],
   "source": [
    "api.init_regressor('gp', noise=0.0)\n",
    "\n",
    "with np.errstate(divide='ignore'):\n",
    "    api.regressor.fit(api.x_train_, api.y_train_)\n",
    "\n",
    "plot_gp(api, show_samples=True)"
   ]
  },
  {
   "cell_type": "code",
   "execution_count": null,
   "metadata": {},
   "outputs": [],
   "source": [
    "api.test('rmse')"
   ]
  },
  {
   "cell_type": "code",
   "execution_count": null,
   "metadata": {},
   "outputs": [],
   "source": [
    "print(api.regressor.length_scale)"
   ]
  },
  {
   "cell_type": "markdown",
   "metadata": {},
   "source": [
    "## Gaussian process classification\n",
    "\n",
    "Implemented in *NumPy*..."
   ]
  },
  {
   "cell_type": "code",
   "execution_count": null,
   "metadata": {},
   "outputs": [],
   "source": [
    "from sklearn.datasets import make_moons\n",
    "from sumomo.gp import GPC\n",
    "\n",
    "\n",
    "X_train, t = make_moons(50, noise=0.3)\n",
    "t = t.reshape(-1, 1)\n",
    "\n",
    "gpc = GPC()\n",
    "gpc.fit(X_train, t)\n",
    "print(gpc.l, gpc.kappa)"
   ]
  },
  {
   "cell_type": "code",
   "execution_count": null,
   "metadata": {},
   "outputs": [],
   "source": [
    "x1, x2 = np.linspace(-3, 3, 50), np.linspace(-3, 3, 50)\n",
    "x1grid, x2grid = np.meshgrid(x1, x2)\n",
    "X = np.c_[x1grid.ravel(), x2grid.ravel()]\n",
    "\n",
    "prediction, std = gpc.predict(X, return_std=True)\n",
    "print(prediction)\n",
    "formulation_pred = np.zeros_like(prediction)\n",
    "for i in range(len(formulation_pred)):\n",
    "    formulation_pred[i] = gpc.formulation(X[i])\n",
    "print(formulation_pred)\n",
    "prediction = prediction.reshape(x1grid.shape)\n",
    "std = std.reshape(x1grid.shape)\n",
    "\n",
    "import matplotlib.pyplot as plt\n",
    "fig = plt.figure(figsize=(4, 3))\n",
    "ax1 = fig.add_subplot(111)\n",
    "c1 = ax1.contourf(x1, x2, prediction, levels=12, alpha=0.8)\n",
    "ax1.scatter(X_train[:, 0], X_train[:, 1], s=10, c=t, cmap='bwr_r')\n",
    "ax1.contour(x1, x2, prediction, levels=[0.2, 0.5, 0.8], linestyles='dashed', colors='k', linewidths=1)\n",
    "ax1.set_xlabel('$x_1$')\n",
    "ax1.set_ylabel('$x_2$')\n",
    "fig.colorbar(c1, ax=ax1)\n",
    "plt.tight_layout()"
   ]
  },
  {
   "cell_type": "code",
   "execution_count": null,
   "metadata": {},
   "outputs": [],
   "source": [
    "fig = plt.figure(figsize=(4, 3))\n",
    "ax1 = fig.add_subplot(111)\n",
    "c1 = ax1.contourf(x1, x2, std, levels=12, alpha=0.8)\n",
    "ax1.scatter(X_train[:, 0], X_train[:, 1], s=10, c=t, cmap='bwr_r')\n",
    "ax1.contour(x1, x2, prediction, levels=[0.2, 0.5, 0.8], linestyles='dashed', colors='k', linewidths=1)\n",
    "ax1.set_xlabel('$x_1$')\n",
    "ax1.set_ylabel('$x_2$')\n",
    "fig.colorbar(c1, ax=ax1)\n",
    "plt.tight_layout()"
   ]
  },
  {
   "cell_type": "code",
   "execution_count": null,
   "metadata": {},
   "outputs": [],
   "source": [
    "space = [(-6.0, 6.0)]\n",
    "n_samples = 11\n",
    "\n",
    "from sumomo.gp import GPR\n",
    "\n",
    "x_train = api.initialise(n_samples, space)\n",
    "\n",
    "y_train = func_1d(x_train)\n",
    "\n",
    "t = np.ones_like(x_train)\n",
    "t[x_train < -4] = 0\n",
    "t[x_train > 2] = 0\n",
    "t = t.reshape(-1, 1)\n",
    "\n",
    "gpr = GPR()\n",
    "gpr.fit(x_train[t.ravel()==1, :], y_train[t.ravel()==1])\n",
    "\n",
    "gpc = GPC()\n",
    "gpc.fit(x_train, t)"
   ]
  },
  {
   "cell_type": "code",
   "execution_count": null,
   "metadata": {},
   "outputs": [],
   "source": [
    "x_new = np.arange(-8, 8, 0.01).reshape(-1, 1)\n",
    "pred, std = gpr.predict(x_new, return_std=True)\n",
    "un = 1.96 * std\n",
    "f, s = gpc.predict(x_new, return_std=True)"
   ]
  },
  {
   "cell_type": "code",
   "execution_count": null,
   "metadata": {},
   "outputs": [],
   "source": [
    "fig = plt.figure(figsize=(4, 3))\n",
    "ax = fig.add_subplot(111)\n",
    "ax.plot(x_new, pred)\n",
    "\n",
    "ax.plot(x_new, func_1d(x_new), ls='--', alpha=0.5, c='k')\n",
    "ax.title.set_text('gpr predictions')\n",
    "ax.fill_between(x_new.ravel(), pred.ravel() + un.ravel(), pred.ravel() - un.ravel(), alpha=0.2)\n",
    "ax.scatter(x_train[t.ravel()==1, :], y_train[t.ravel()==1], c='b')\n",
    "ax.scatter(x_train[t.ravel()==0, :], y_train[t.ravel()==0], c='r')\n",
    "\n",
    "fig = plt.figure(figsize=(4, 3))\n",
    "ax = fig.add_subplot(111)\n",
    "ax.plot(x_new, f, ls='--')\n",
    "ax.scatter(x_train[t==1], t[t==1], c='b')\n",
    "ax.scatter(x_train[t==0], t[t==0], c='r')\n",
    "ax.title.set_text('gpc predictions')\n",
    "plt.show()"
   ]
  },
  {
   "cell_type": "code",
   "execution_count": null,
   "metadata": {},
   "outputs": [],
   "source": [
    "fig = plt.figure(figsize=(4, 3))\n",
    "ax = fig.add_subplot(111)\n",
    "ax.plot(x_new, s, ls='--')\n",
    "ax.title.set_text('gpc uncertainty')\n",
    "plt.show()"
   ]
  },
  {
   "cell_type": "code",
   "execution_count": null,
   "metadata": {},
   "outputs": [],
   "source": []
  }
 ],
 "metadata": {
  "kernelspec": {
   "display_name": "Python 3 (ipykernel)",
   "language": "python",
   "name": "python3"
  },
  "language_info": {
   "codemirror_mode": {
    "name": "ipython",
    "version": 3
   },
   "file_extension": ".py",
   "mimetype": "text/x-python",
   "name": "python",
   "nbconvert_exporter": "python",
   "pygments_lexer": "ipython3",
   "version": "3.9.12"
  },
  "vscode": {
   "interpreter": {
    "hash": "509b8fb1f9bb9a36cf455cc3b6d7786e56047ba93e78ea1e04340272261a598e"
   }
  }
 },
 "nbformat": 4,
 "nbformat_minor": 2
}
