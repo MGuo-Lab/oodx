{
 "cells": [
  {
   "cell_type": "markdown",
   "metadata": {},
   "source": [
    "# Sumomo: Surrogate Modelling - Neural Networks\n",
    "\n",
    "This notebook showcases the neural network surrogate modelling capabilities within `sumomo`.\n",
    "\n",
    "### Imports"
   ]
  },
  {
   "cell_type": "code",
   "execution_count": 1,
   "metadata": {},
   "outputs": [],
   "source": [
    "import os\n",
    "import sys\n",
    "nb_dir = os.path.split(os.getcwd())[0]\n",
    "if nb_dir not in sys.path:\n",
    "    sys.path.append(nb_dir)\n",
    "\n",
    "import numpy as np\n",
    "\n",
    "from sumomo import API\n",
    "from utils import peaks, plot_peaks, plot_model, plot_activation"
   ]
  },
  {
   "cell_type": "code",
   "execution_count": 2,
   "metadata": {},
   "outputs": [
    {
     "data": {
      "image/png": "[encoded data removed]",
      "text/plain": [
       "<Figure size 288x216 with 1 Axes>"
      ]
     },
     "metadata": {
      "needs_background": "light"
     },
     "output_type": "display_data"
    }
   ],
   "source": [
    "api = API(100, [(-3.0, 3.0), (-3.0, 3.0)], 1, 'lhs')\n",
    "\n",
    "api.y = peaks(api.x)\n",
    "    \n",
    "plot_peaks()\n",
    "\n",
    "api.split()\n",
    "api.scale()"
   ]
  },
  {
   "cell_type": "code",
   "execution_count": null,
   "metadata": {},
   "outputs": [
    {
     "data": {
      "image/png": "[encoded data removed]",
      "text/plain": [
       "<Figure size 288x216 with 1 Axes>"
      ]
     },
     "metadata": {
      "needs_background": "light"
     },
     "output_type": "display_data"
    }
   ],
   "source": [
    "api.init_regressor('nn', hidden_layers=[10, 10], activation='tanh')\n",
    "api.regressor.fit(api.x_train_, api.y_train_)\n",
    "\n",
    "plot_activation('tanh')\n",
    "plot_model(api)"
   ]
  },
  {
   "cell_type": "code",
   "execution_count": null,
   "metadata": {},
   "outputs": [],
   "source": [
    "api.init_regressor('nn', hidden_layers=[10, 10], activation='sigmoid')\n",
    "api.regressor.fit(api.x_train_, api.y_train_)\n",
    "\n",
    "plot_activation('sigmoid')\n",
    "plot_model(api)"
   ]
  },
  {
   "cell_type": "code",
   "execution_count": null,
   "metadata": {},
   "outputs": [],
   "source": [
    "api.init_regressor('nn', hidden_layers=[10, 10], activation='softplus')\n",
    "api.regressor.fit(api.x_train_, api.y_train_)\n",
    "\n",
    "plot_activation('softplus')\n",
    "plot_model(api)"
   ]
  },
  {
   "cell_type": "code",
   "execution_count": null,
   "metadata": {},
   "outputs": [],
   "source": [
    "api.init_regressor('nn', hidden_layers=[10, 10], activation='relu')\n",
    "api.regressor.fit(api.x_train_, api.y_train_)\n",
    "\n",
    "plot_activation('relu')\n",
    "plot_model(api)"
   ]
  },
  {
   "cell_type": "code",
   "execution_count": null,
   "metadata": {},
   "outputs": [],
   "source": [
    "mse = api.test('mse')\n",
    "rmse = api.test('rmse')\n",
    "print(mse)\n",
    "print(rmse)"
   ]
  },
  {
   "cell_type": "code",
   "execution_count": null,
   "metadata": {},
   "outputs": [],
   "source": [
    "plot_activation('hardsigmoid')"
   ]
  }
 ],
 "metadata": {
  "kernelspec": {
   "display_name": "Python 3 (ipykernel)",
   "language": "python",
   "name": "python3"
  },
  "language_info": {
   "codemirror_mode": {
    "name": "ipython",
    "version": 3
   },
   "file_extension": ".py",
   "mimetype": "text/x-python",
   "name": "python",
   "nbconvert_exporter": "python",
   "pygments_lexer": "ipython3",
   "version": "3.9.12"
  },
  "vscode": {
   "interpreter": {
    "hash": "509b8fb1f9bb9a36cf455cc3b6d7786e56047ba93e78ea1e04340272261a598e"
   }
  }
 },
 "nbformat": 4,
 "nbformat_minor": 2
}
