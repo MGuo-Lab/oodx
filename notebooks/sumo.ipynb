{
 "cells": [
  {
   "cell_type": "markdown",
   "id": "e907dc09",
   "metadata": {},
   "source": [
    "This notebook showcases a demonstrative example of `sumomo`."
   ]
  },
  {
   "cell_type": "code",
   "execution_count": 1,
   "id": "c2b9923c",
   "metadata": {},
   "outputs": [
    {
     "data": {
      "image/png": "[encoded data removed]",
      "text/plain": [
       "<Figure size 360x288 with 2 Axes>"
      ]
     },
     "metadata": {
      "needs_background": "light"
     },
     "output_type": "display_data"
    }
   ],
   "source": [
    "import os\n",
    "import sys\n",
    "nb_dir = os.path.split(os.getcwd())[0]\n",
    "if nb_dir not in sys.path:\n",
    "    sys.path.append(nb_dir)\n",
    "\n",
    "import numpy as np\n",
    "from utils import peaks, plot_peaks, feas\n",
    "\n",
    "plot_peaks()"
   ]
  },
  {
   "cell_type": "code",
   "execution_count": 2,
   "id": "0f97d269",
   "metadata": {},
   "outputs": [],
   "source": [
    "from sumomo import DataHandler\n",
    "\n",
    "\n",
    "n = 500    # number of samples\n",
    "space = [[-3.0, 3.0],[-3.0, 3.0]]  # input space\n",
    "\n",
    "dh = DataHandler()  # initialise DataHandler\n",
    "dh.init(n, space)   # initialise input samples, x\n",
    "dh.y = peaks(dh.x)  # save output samples, y\n",
    "dh.t = feas(dh.x)   # save class targets, t\n",
    "\n",
    "dh.split(test_size=0.3)  # train-test split\n",
    "dh.scale()    # standardise data"
   ]
  },
  {
   "cell_type": "code",
   "execution_count": 3,
   "id": "9b56718c",
   "metadata": {},
   "outputs": [],
   "source": [
    "from sumomo import NN\n",
    "from torch import nn\n",
    "\n",
    "\n",
    "regressor = NN([2, 10, 10, 1], 'tanh')  # build NN for regression\n",
    "classifier = NN([2, 10, 1], 'tanh')     # build NN for classification\n",
    "\n",
    "# fit regression NN to feasible scaled training data\n",
    "regressor.fit(\n",
    "    dh.x_train_[dh.t_train.ravel()==1, :], \n",
    "    dh.y_train_[dh.t_train.ravel()==1]\n",
    ")\n",
    "\n",
    "# fit classification NN to scaled training data using log loss\n",
    "classifier.fit(\n",
    "    dh.x_train_, \n",
    "    dh.t_train, \n",
    "    loss_func=nn.BCEWithLogitsLoss()\n",
    ")"
   ]
  },
  {
   "cell_type": "code",
   "execution_count": 4,
   "id": "f11f8084",
   "metadata": {},
   "outputs": [
    {
     "name": "stdout",
     "output_type": "stream",
     "text": [
      "metric     value       \n",
      "accuracy   0.980       \n",
      "precision  0.961       \n",
      "recall     0.980       \n",
      "F1         0.970       \n",
      "log loss   0.059       \n"
     ]
    }
   ],
   "source": [
    "from sklearn.metrics import ( \n",
    "    accuracy_score, \n",
    "    precision_score, \n",
    "    recall_score,\n",
    "    f1_score,\n",
    "    log_loss\n",
    ")\n",
    "\n",
    "_, prob_test, class_test = classifier.predict(dh.x_test_, return_proba=True, return_class=True)\n",
    "\n",
    "accuracy = accuracy_score(dh.t_test, class_test)\n",
    "precision = precision_score(dh.t_test, class_test)\n",
    "recall = recall_score(dh.t_test, class_test)\n",
    "f1 = f1_score(dh.t_test, class_test)\n",
    "bce = log_loss(dh.t_test, prob_test, eps=1e-6)\n",
    "\n",
    "print('{:10} {:12}'.format('metric', 'value'))\n",
    "print('{:10} {:<12.3f}'.format('accuracy', accuracy))\n",
    "print('{:10} {:<12.3f}'.format('precision', precision))\n",
    "print('{:10} {:<12.3f}'.format('recall', recall))\n",
    "print('{:10} {:<12.3f}'.format('F1', f1))\n",
    "print('{:10} {:<12.3f}'.format('log loss', bce))"
   ]
  },
  {
   "cell_type": "code",
   "execution_count": 5,
   "id": "e1f42f30",
   "metadata": {},
   "outputs": [
    {
     "name": "stdout",
     "output_type": "stream",
     "text": [
      "metric   all testing  predicted 1  actual 1    \n",
      "MAE      1.255        0.235        0.228       \n",
      "MSE      3.992        0.109        0.099       \n",
      "MAPE     451.285      0.639        0.560       \n",
      "EVS      -0.297       0.982        0.985       \n",
      "R2       -0.315       0.982        0.985       \n",
      "MAXE     7.353        1.021        0.789       \n"
     ]
    }
   ],
   "source": [
    "from sklearn.metrics import ( \n",
    "    mean_absolute_error, \n",
    "    mean_squared_error, \n",
    "    mean_absolute_percentage_error,\n",
    "    median_absolute_error,\n",
    "    explained_variance_score,\n",
    "    r2_score,\n",
    "    max_error\n",
    ")\n",
    "\n",
    "pred_test_ = regressor.predict(dh.x_test_)\n",
    "pred_test = dh.inv_scale_y(pred_test_)\n",
    "\n",
    "mae = mean_absolute_error(dh.y_test, pred_test)\n",
    "mse = mean_squared_error(dh.y_test, pred_test)\n",
    "mape = mean_absolute_percentage_error(dh.y_test, pred_test)\n",
    "evs = explained_variance_score(dh.y_test, pred_test)\n",
    "r2 = r2_score(dh.y_test, pred_test)\n",
    "maxe = max_error(dh.y_test, pred_test)\n",
    "\n",
    "mae_p1 = mean_absolute_error(dh.y_test[class_test == 1], pred_test[class_test == 1])\n",
    "mse_p1 = mean_squared_error(dh.y_test[class_test == 1], pred_test[class_test == 1])\n",
    "mape_p1 = mean_absolute_percentage_error(dh.y_test[class_test == 1], pred_test[class_test == 1])\n",
    "evs_p1 = explained_variance_score(dh.y_test[class_test == 1], pred_test[class_test == 1])\n",
    "r2_p1 = r2_score(dh.y_test[class_test == 1], pred_test[class_test == 1])\n",
    "maxe_p1 = max_error(dh.y_test[class_test == 1], pred_test[class_test == 1])\n",
    "\n",
    "mae_a1 = mean_absolute_error(dh.y_test[dh.t_test == 1], pred_test[dh.t_test == 1])\n",
    "mse_a1 = mean_squared_error(dh.y_test[dh.t_test == 1], pred_test[dh.t_test == 1])\n",
    "mape_a1 = mean_absolute_percentage_error(dh.y_test[dh.t_test == 1], pred_test[dh.t_test == 1])\n",
    "evs_a1 = explained_variance_score(dh.y_test[dh.t_test == 1], pred_test[dh.t_test == 1])\n",
    "r2_a1 = r2_score(dh.y_test[dh.t_test == 1], pred_test[dh.t_test == 1])\n",
    "maxe_a1 = max_error(dh.y_test[dh.t_test == 1], pred_test[dh.t_test == 1])\n",
    "\n",
    "print('{:8} {:12} {:12} {:12}'.format('metric', 'all testing', 'predicted 1', 'actual 1'))\n",
    "print('{:8} {:<12.3f} {:<12.3f} {:<12.3f}'.format('MAE', mae, mae_p1, mae_a1))\n",
    "print('{:8} {:<12.3f} {:<12.3f} {:<12.3f}'.format('MSE', mse, mse_p1, mse_a1))\n",
    "print('{:8} {:<12.3f} {:<12.3f} {:<12.3f}'.format('MAPE', mape, mape_p1, mape_a1))\n",
    "print('{:8} {:<12.3f} {:<12.3f} {:<12.3f}'.format('EVS', evs, evs_p1, evs_a1))\n",
    "print('{:8} {:<12.3f} {:<12.3f} {:<12.3f}'.format('R2', r2, r2_p1, r2_a1))\n",
    "print('{:8} {:<12.3f} {:<12.3f} {:<12.3f}'.format('MAXE', maxe, maxe_p1, maxe_a1))"
   ]
  },
  {
   "cell_type": "code",
   "execution_count": 6,
   "id": "d26d8b5f",
   "metadata": {},
   "outputs": [
    {
     "name": "stdout",
     "output_type": "stream",
     "text": [
      "1 Set Declarations\n",
      "    inputs_index : Size=1, Index=None, Ordered=False\n",
      "        Key  : Dimen : Domain : Size : Members\n",
      "        None :     1 :    Any :    2 : {0, 1}\n",
      "\n",
      "3 Var Declarations\n",
      "    inputs : Size=2, Index=inputs_index\n",
      "        Key : Lower               : Value : Upper              : Fixed : Stale : Domain\n",
      "          0 : -1.6986969747015062 :  None : 1.8006464740895027 : False :  True :  Reals\n",
      "          1 :  -1.769201965484488 :  None : 1.7487013892983287 : False :  True :  Reals\n",
      "    logit : Size=1, Index=None\n",
      "        Key  : Lower : Value : Upper : Fixed : Stale : Domain\n",
      "        None :  None :  None :  None : False :  True :  Reals\n",
      "    output : Size=1, Index=None\n",
      "        Key  : Lower : Value : Upper : Fixed : Stale : Domain\n",
      "        None :  None :  None :  None : False :  True :  Reals\n",
      "\n",
      "1 Objective Declarations\n",
      "    obj : Size=1, Index=None, Active=True\n",
      "        Key  : Active : Sense    : Expression\n",
      "        None :   True : maximize :     output\n",
      "\n",
      "1 Constraint Declarations\n",
      "    feasibility_con : Size=1, Index=None, Active=True\n",
      "        Key  : Lower : Body                 : Upper : Active\n",
      "        None :   0.5 : 1/(1 + exp(- logit)) :  +Inf :   True\n",
      "\n",
      "6 Declarations: inputs_index inputs output logit feasibility_con obj\n"
     ]
    }
   ],
   "source": [
    "import pyomo.environ as pyo\n",
    "\n",
    "\n",
    "omo = pyo.ConcreteModel()    # initialise model\n",
    "omo.n_inputs = set(range(len(dh.space)))  # set over input dimensions\n",
    "omo.inputs = pyo.Var(omo.n_inputs, bounds=dh.space_)  # input var\n",
    "omo.output = pyo.Var()  # performance output var\n",
    "omo.logit = pyo.Var()   # logit output var\n",
    "# feasibility constraint \n",
    "omo.feasibility_con = pyo.Constraint(\n",
    "    expr=\n",
    "    1 / (1 + pyo.exp(-omo.logit)) >= 0.5 \n",
    ")\n",
    "# objective function to maximise performance\n",
    "omo.obj = pyo.Objective(expr=omo.output, sense=pyo.maximize)\n",
    "\n",
    "omo.pprint()"
   ]
  },
  {
   "cell_type": "code",
   "execution_count": 7,
   "id": "7d7d4cf4",
   "metadata": {},
   "outputs": [],
   "source": [
    "from sumomo import BlockFormulation\n",
    "\n",
    "\n",
    "# formulate pyomo blocks for regressor and classifier\n",
    "omo.mdl = pyo.Block(rule=BlockFormulation(regressor).rule())\n",
    "omo.feas = pyo.Block(rule=BlockFormulation(classifier).rule())\n",
    "\n",
    "# connect pyomo model input and output to the surrogate models\n",
    "omo.c = pyo.ConstraintList()\n",
    "omo.c.add( omo.output == omo.mdl.outputs[0] )\n",
    "omo.c.add( omo.logit == omo.feas.outputs[0] )\n",
    "for i in omo.n_inputs:\n",
    "    omo.c.add( omo.inputs[i] == omo.mdl.inputs[i] )\n",
    "    omo.c.add( omo.inputs[i] == omo.feas.inputs[i] )"
   ]
  },
  {
   "cell_type": "code",
   "execution_count": 8,
   "id": "320f3380",
   "metadata": {},
   "outputs": [
    {
     "name": "stdout",
     "output_type": "stream",
     "text": [
      "===========================================================================\n",
      " BARON version 22.4.20. Built: OSX-64 Wed Apr 20 10:52:09 EDT 2022\n",
      "\n",
      " BARON is a product of The Optimization Firm.\n",
      " For information on BARON, see https://minlp.com/about-baron\n",
      " Licensee: Benoit Chachuat at Imperial College London, b.chachuat@imperial.ac.uk.\n",
      "\n",
      " If you use this software, please cite publications from\n",
      " https://minlp.com/baron-publications, such as: \n",
      "\n",
      " Khajavirad, A. and N. V. Sahinidis,\n",
      " A hybrid LP/NLP paradigm for global optimization relaxations,\n",
      " Mathematical Programming Computation, 10, 383-421, 2018.\n",
      "===========================================================================\n",
      " This BARON run may utilize the following subsolver(s)\n",
      " For LP/MIP/QP: CLP/CBC, ILOG CPLEX                             \n",
      " For NLP: IPOPT, FILTERSQP\n",
      "===========================================================================\n",
      " Doing local search\n",
      " Preprocessing found feasible solution with value 0.985158504492     \n",
      " Solving bounding LP\n",
      " Starting multi-start local search\n",
      " Preprocessing found feasible solution with value  2.61905441373     \n",
      " Preprocessing found feasible solution with value  2.61905441375     \n",
      " Done with local search\n",
      "===========================================================================\n",
      "  Iteration    Open nodes         Time (s)    Lower bound      Upper bound\n",
      "          1             1             0.32     2.61905          4.19999    \n",
      "        921             0             7.20     2.61906          2.61906    \n",
      "\n",
      " Calculating duals\n",
      "\n",
      "                         *** Normal completion ***            \n",
      "\n",
      " Wall clock time:                     7.29\n",
      " Total CPU time used:                 7.20\n",
      "\n",
      " Total no. of BaR iterations:     921\n",
      " Best solution found at node:       3\n",
      " Max. no. of nodes in memory:      50\n",
      " \n",
      " All done\n",
      "===========================================================================\n"
     ]
    }
   ],
   "source": [
    "# solver setup\n",
    "solver = pyo.SolverFactory('baron')\n",
    "solver.options['MaxTime'] = 30\n",
    "# macOS requires CplexLibName option to be specified, please change accordingly\n",
    "solver.options['CplexLibName'] = \"/Applications/CPLEX_Studio201/cplex/bin/x86-64_osx/libcplex2010.dylib\"\n",
    "# solve\n",
    "results = solver.solve(omo, tee=True)"
   ]
  },
  {
   "cell_type": "code",
   "execution_count": 9,
   "id": "7657ff3c",
   "metadata": {},
   "outputs": [
    {
     "name": "stdout",
     "output_type": "stream",
     "text": [
      "variable           value       \n",
      "x1*                0.09701514  \n",
      "x2*                1.85300690  \n",
      "omo obj at x*      8.11522718  \n",
      "pred at x*         8.11522007  \n",
      "omo logit          0.00000000  \n",
      "logit pred at x*   -0.00000620 \n",
      "omo proba          0.50000000  \n",
      "proba pred at x*   0.49999845  \n"
     ]
    }
   ],
   "source": [
    "# inverse scale solution\n",
    "x = np.fromiter(omo.inputs.extract_values().values(), dtype=float).reshape(1, -1)\n",
    "solution = dh.inv_scale_x(x).ravel()\n",
    "\n",
    "# inverse scale objective and corresponding predictions\n",
    "obj = dh.inv_scale_y(np.array(omo.output.value).reshape(1, -1))\n",
    "pred = dh.inv_scale_y(regressor.predict(x))\n",
    "\n",
    "# compare optimisation outputs with model prediction\n",
    "model_logit, model_proba = classifier.predict(x, return_proba=True)\n",
    "omo_proba = 1 / (1 + np.exp(-omo.logit.value))\n",
    "\n",
    "print('{:18} {:12}'.format('variable', 'value'))\n",
    "print('{:18} {:<12.8f}'.format('x1*', solution[0]))\n",
    "print('{:18} {:<12.8f}'.format('x2*', solution[1]))\n",
    "print('{:18} {:<12.8f}'.format('omo obj at x*', obj[0][0]))\n",
    "print('{:18} {:<12.8f}'.format('pred at x*', pred[0][0]))\n",
    "print('{:18} {:<12.8f}'.format('omo logit', omo.logit.value))\n",
    "print('{:18} {:<12.8f}'.format('logit pred at x*', model_logit.item()))\n",
    "print('{:18} {:<12.8f}'.format('omo proba', omo_proba))\n",
    "print('{:18} {:<12.8f}'.format('proba pred at x*', model_proba.item()))"
   ]
  },
  {
   "cell_type": "code",
   "execution_count": 10,
   "id": "35b16e19",
   "metadata": {},
   "outputs": [
    {
     "data": {
      "image/png": "[encoded data removed]",
      "text/plain": [
       "<Figure size 360x288 with 2 Axes>"
      ]
     },
     "metadata": {
      "needs_background": "light"
     },
     "output_type": "display_data"
    }
   ],
   "source": [
    "import matplotlib.pyplot as plt\n",
    "\n",
    "\n",
    "x1, x2 = np.linspace(-3, 3, 50), np.linspace(-3, 3, 50)\n",
    "x1grid, x2grid = np.meshgrid(x1, x2)\n",
    "x_new = np.c_[x1grid.ravel(), x2grid.ravel()]\n",
    "x_scaled = dh.scale_x(x_new)\n",
    "\n",
    "pred = regressor.predict(x_scaled)\n",
    "pred = dh.inv_scale_y(pred)\n",
    "pred = pred.reshape(x1grid.shape)\n",
    "\n",
    "prob = classifier.predict(x_scaled, return_proba=True)[1]\n",
    "prob = prob.reshape(x1grid.shape)\n",
    "\n",
    "fig, ax = plt.subplots(1, 1, figsize=(5, 4))\n",
    "c = ax.contourf(x1, x2, pred, levels=12, alpha=0.8)\n",
    "ax.contour(x1, x2, prob, levels=[0.5], linestyles='dashed', colors='k', linewidths=1)\n",
    "ax.plot(solution[0], solution[1], 'k*')\n",
    "fig.colorbar(c)\n",
    "\n",
    "plt.tight_layout()"
   ]
  },
  {
   "cell_type": "code",
   "execution_count": 11,
   "id": "82e87531",
   "metadata": {},
   "outputs": [
    {
     "name": "stderr",
     "output_type": "stream",
     "text": [
      "/Users/alexdurkin/miniconda3/envs/sumomo-env/lib/python3.9/site-packages/sklearn/gaussian_process/kernels.py:335: RuntimeWarning: divide by zero encountered in log\n",
      "  return np.log(np.vstack(bounds))\n"
     ]
    },
    {
     "name": "stdout",
     "output_type": "stream",
     "text": [
      "metric     value       \n",
      "accuracy   0.967       \n",
      "precision  0.909       \n",
      "recall     1.000       \n",
      "F1         0.952       \n",
      "log loss   0.235       \n"
     ]
    }
   ],
   "source": [
    "from sumomo import GPR, GPC\n",
    "\n",
    "\n",
    "n = 100\n",
    "space = [[-3.0, 3.0],[-3.0, 3.0]]\n",
    "\n",
    "dh = DataHandler()\n",
    "dh.init(n, space)\n",
    "dh.y = peaks(dh.x)\n",
    "dh.t = feas(dh.x)\n",
    "\n",
    "dh.split(test_size=0.3)\n",
    "dh.scale()\n",
    "\n",
    "gpr = GPR()\n",
    "gpc = GPC()\n",
    "\n",
    "gpr.fit(\n",
    "    dh.x_train_[dh.t_train.ravel()==1, :], \n",
    "    dh.y_train_[dh.t_train.ravel()==1]\n",
    ")\n",
    "\n",
    "gpc.fit(\n",
    "    dh.x_train_, \n",
    "    dh.t_train\n",
    ")\n",
    "\n",
    "prob_test, class_test = gpc.predict(dh.x_test_, return_class=True)\n",
    "\n",
    "accuracy = accuracy_score(dh.t_test, class_test)\n",
    "precision = precision_score(dh.t_test, class_test)\n",
    "recall = recall_score(dh.t_test, class_test)\n",
    "f1 = f1_score(dh.t_test, class_test)\n",
    "bce = log_loss(dh.t_test, prob_test)\n",
    "\n",
    "print('{:10} {:12}'.format('metric', 'value'))\n",
    "print('{:10} {:<12.3f}'.format('accuracy', accuracy))\n",
    "print('{:10} {:<12.3f}'.format('precision', precision))\n",
    "print('{:10} {:<12.3f}'.format('recall', recall))\n",
    "print('{:10} {:<12.3f}'.format('F1', f1))\n",
    "print('{:10} {:<12.3f}'.format('log loss', bce))"
   ]
  },
  {
   "cell_type": "code",
   "execution_count": 12,
   "id": "9eb0998f",
   "metadata": {},
   "outputs": [
    {
     "name": "stdout",
     "output_type": "stream",
     "text": [
      "metric   all testing  predicted 1  actual 1    \n",
      "MAE      0.947        2.150        2.263       \n",
      "MSE      2.452        6.388        6.921       \n",
      "MAPE     0.929        0.856        0.853       \n",
      "EVS      0.427        0.449        0.449       \n",
      "R2       0.332        0.231        0.241       \n",
      "MAXE     4.798        4.798        4.798       \n"
     ]
    }
   ],
   "source": [
    "pred_test = gpr.predict(dh.x_test_)\n",
    "\n",
    "mae = mean_absolute_error(dh.y_test, pred_test)\n",
    "mse = mean_squared_error(dh.y_test, pred_test)\n",
    "mape = mean_absolute_percentage_error(dh.y_test, pred_test)\n",
    "evs = explained_variance_score(dh.y_test, pred_test)\n",
    "r2 = r2_score(dh.y_test, pred_test)\n",
    "maxe = max_error(dh.y_test, pred_test)\n",
    "\n",
    "mae_p1 = mean_absolute_error(dh.y_test[class_test == 1], pred_test[class_test == 1])\n",
    "mse_p1 = mean_squared_error(dh.y_test[class_test == 1], pred_test[class_test == 1])\n",
    "mape_p1 = mean_absolute_percentage_error(dh.y_test[class_test == 1], pred_test[class_test == 1])\n",
    "evs_p1 = explained_variance_score(dh.y_test[class_test == 1], pred_test[class_test == 1])\n",
    "r2_p1 = r2_score(dh.y_test[class_test == 1], pred_test[class_test == 1])\n",
    "maxe_p1 = max_error(dh.y_test[class_test == 1], pred_test[class_test == 1])\n",
    "\n",
    "mae_a1 = mean_absolute_error(dh.y_test[dh.t_test == 1], pred_test[dh.t_test == 1])\n",
    "mse_a1 = mean_squared_error(dh.y_test[dh.t_test == 1], pred_test[dh.t_test == 1])\n",
    "mape_a1 = mean_absolute_percentage_error(dh.y_test[dh.t_test == 1], pred_test[dh.t_test == 1])\n",
    "evs_a1 = explained_variance_score(dh.y_test[dh.t_test == 1], pred_test[dh.t_test == 1])\n",
    "r2_a1 = r2_score(dh.y_test[dh.t_test == 1], pred_test[dh.t_test == 1])\n",
    "maxe_a1 = max_error(dh.y_test[dh.t_test == 1], pred_test[dh.t_test == 1])\n",
    "\n",
    "print('{:8} {:12} {:12} {:12}'.format('metric', 'all testing', 'predicted 1', 'actual 1'))\n",
    "print('{:8} {:<12.3f} {:<12.3f} {:<12.3f}'.format('MAE', mae, mae_p1, mae_a1))\n",
    "print('{:8} {:<12.3f} {:<12.3f} {:<12.3f}'.format('MSE', mse, mse_p1, mse_a1))\n",
    "print('{:8} {:<12.3f} {:<12.3f} {:<12.3f}'.format('MAPE', mape, mape_p1, mape_a1))\n",
    "print('{:8} {:<12.3f} {:<12.3f} {:<12.3f}'.format('EVS', evs, evs_p1, evs_a1))\n",
    "print('{:8} {:<12.3f} {:<12.3f} {:<12.3f}'.format('R2', r2, r2_p1, r2_a1))\n",
    "print('{:8} {:<12.3f} {:<12.3f} {:<12.3f}'.format('MAXE', maxe, maxe_p1, maxe_a1))"
   ]
  },
  {
   "cell_type": "code",
   "execution_count": 13,
   "id": "92b14d19",
   "metadata": {},
   "outputs": [
    {
     "data": {
      "text/plain": [
       "<pyomo.core.base.constraint._GeneralConstraintData at 0x7fa21c29d0a0>"
      ]
     },
     "execution_count": 13,
     "metadata": {},
     "output_type": "execute_result"
    }
   ],
   "source": [
    "# larger optimisation formulation\n",
    "omo = pyo.ConcreteModel()\n",
    "omo.n_inputs = set(range(len(dh.space)))\n",
    "omo.inputs = pyo.Var(omo.n_inputs, bounds=dh.space_)\n",
    "omo.output = pyo.Var()\n",
    "omo.proba = pyo.Var()\n",
    "omo.feasibility_con = pyo.Constraint(expr= omo.proba >= 0.5 )\n",
    "omo.obj = pyo.Objective(expr=omo.output, sense=pyo.maximize)\n",
    "\n",
    "# formulate pyomo blocks for gpr and gpc\n",
    "omo.mdl = pyo.Block(rule=BlockFormulation(gpr).rule())\n",
    "omo.feas = pyo.Block(rule=BlockFormulation(gpc).rule())\n",
    "\n",
    "# connect pyomo model input and output to the surrogate models\n",
    "omo.c = pyo.ConstraintList()\n",
    "for i in omo.n_inputs:\n",
    "    omo.c.add( omo.inputs[i] == omo.mdl.inputs[i] )\n",
    "    omo.c.add( omo.inputs[i] == omo.feas.inputs[i] )\n",
    "omo.c.add( omo.output == omo.mdl.outputs[0] )\n",
    "omo.c.add( omo.proba == omo.feas.outputs[0] )"
   ]
  },
  {
   "cell_type": "code",
   "execution_count": 14,
   "id": "8fb3c3f4",
   "metadata": {},
   "outputs": [
    {
     "name": "stdout",
     "output_type": "stream",
     "text": [
      "===========================================================================\n",
      " BARON version 22.4.20. Built: OSX-64 Wed Apr 20 10:52:09 EDT 2022\n",
      "\n",
      " BARON is a product of The Optimization Firm.\n",
      " For information on BARON, see https://minlp.com/about-baron\n",
      " Licensee: Benoit Chachuat at Imperial College London, b.chachuat@imperial.ac.uk.\n",
      "\n",
      " If you use this software, please cite publications from\n",
      " https://minlp.com/baron-publications, such as: \n",
      "\n",
      " Khajavirad, A. and N. V. Sahinidis,\n",
      " A hybrid LP/NLP paradigm for global optimization relaxations,\n",
      " Mathematical Programming Computation, 10, 383-421, 2018.\n",
      "===========================================================================\n",
      " This BARON run may utilize the following subsolver(s)\n",
      " For LP/MIP/QP: CLP/CBC, ILOG CPLEX                             \n",
      " For NLP: IPOPT, FILTERSQP\n",
      "===========================================================================\n",
      " Doing local search\n",
      " Preprocessing found feasible solution with value 0.896606057607     \n",
      " Solving bounding LP\n",
      " Starting multi-start local search\n",
      " Done with local search\n",
      "===========================================================================\n",
      "  Iteration    Open nodes         Time (s)    Lower bound      Upper bound\n",
      "          1             1             2.18     0.896606         24.6856    \n",
      "*        13             4             4.61     0.989483         21.1212    \n",
      "*        16             6             5.54     1.85741          18.4432    \n",
      "        562            85            30.01     1.85741          3.02033    \n",
      "\n",
      "                    *** Max. allowable time exceeded ***      \n",
      "\n",
      " Wall clock time:                    30.59\n",
      " Total CPU time used:                30.01\n",
      "\n",
      " Total no. of BaR iterations:     562\n",
      " Best solution found at node:      16\n",
      " Max. no. of nodes in memory:      92\n",
      " \n",
      " All done\n",
      "===========================================================================\n",
      "\n",
      "variable           value       \n",
      "x1*                -0.38956038 \n",
      "x2*                1.42425106  \n",
      "omo obj at x*      4.87363249  \n",
      "pred at x*         4.87363249  \n",
      "omo proba          0.89914298  \n",
      "proba pred at x*   0.89914298  \n"
     ]
    }
   ],
   "source": [
    "# solver setup\n",
    "solver = pyo.SolverFactory('baron')\n",
    "solver.options['MaxTime'] = 30\n",
    "# macOS requires CplexLibName option to be specified, please change accordingly\n",
    "solver.options['CplexLibName'] = \"/Applications/CPLEX_Studio201/cplex/bin/x86-64_osx/libcplex2010.dylib\"\n",
    "# solve\n",
    "results = solver.solve(omo, tee=True)\n",
    "\n",
    "# inverse scale solution\n",
    "x = np.fromiter(omo.inputs.extract_values().values(), dtype=float).reshape(1, -1)\n",
    "solution = dh.inv_scale_x(x).ravel()\n",
    "\n",
    "# inverse scale objective and corresponding predictions\n",
    "obj = dh.inv_scale_y(np.array(omo.output.value).reshape(1, -1))\n",
    "pred = dh.inv_scale_y(gpr.predict(x.reshape(1, -1)))\n",
    "\n",
    "# compare optimisation outputs with model prediction\n",
    "print()\n",
    "print('{:18} {:12}'.format('variable', 'value'))\n",
    "print('{:18} {:<12.8f}'.format('x1*', solution[0]))\n",
    "print('{:18} {:<12.8f}'.format('x2*', solution[1]))\n",
    "print('{:18} {:<12.8f}'.format('omo obj at x*', obj[0][0]))\n",
    "print('{:18} {:<12.8f}'.format('pred at x*', pred[0][0]))\n",
    "print('{:18} {:<12.8f}'.format('omo proba', omo.proba.value))\n",
    "print('{:18} {:<12.8f}'.format('proba pred at x*', gpc.predict(x.reshape(1, -1)).item()))"
   ]
  },
  {
   "cell_type": "code",
   "execution_count": 16,
   "id": "2828ac69",
   "metadata": {},
   "outputs": [
    {
     "data": {
      "image/png": "[encoded data removed]",
      "text/plain": [
       "<Figure size 360x288 with 2 Axes>"
      ]
     },
     "metadata": {
      "needs_background": "light"
     },
     "output_type": "display_data"
    }
   ],
   "source": [
    "import matplotlib.pyplot as plt\n",
    "\n",
    "\n",
    "x1, x2 = np.linspace(-3, 3, 50), np.linspace(-3, 3, 50)\n",
    "x1grid, x2grid = np.meshgrid(x1, x2)\n",
    "x_new = np.c_[x1grid.ravel(), x2grid.ravel()]\n",
    "x_scaled = dh.scale_x(x_new)\n",
    "\n",
    "pred = gpr.predict(x_scaled)\n",
    "pred = dh.inv_scale_y(pred)\n",
    "pred = pred.reshape(x1grid.shape)\n",
    "\n",
    "prob = gpc.predict(x_scaled)\n",
    "prob = prob.reshape(x1grid.shape)\n",
    "\n",
    "fig, ax = plt.subplots(1, 1, figsize=(5, 4))\n",
    "c = ax.contourf(x1, x2, pred, levels=12, alpha=0.8)\n",
    "ax.contour(x1, x2, prob, levels=[0.5], linestyles='dashed', colors='k', linewidths=1)\n",
    "ax.plot(solution[0], solution[1], 'k*')\n",
    "fig.colorbar(c)\n",
    "\n",
    "plt.tight_layout()"
   ]
  },
  {
   "cell_type": "code",
   "execution_count": null,
   "id": "a6792f17",
   "metadata": {},
   "outputs": [],
   "source": []
  }
 ],
 "metadata": {
  "kernelspec": {
   "display_name": "Python 3 (ipykernel)",
   "language": "python",
   "name": "python3"
  },
  "language_info": {
   "codemirror_mode": {
    "name": "ipython",
    "version": 3
   },
   "file_extension": ".py",
   "mimetype": "text/x-python",
   "name": "python",
   "nbconvert_exporter": "python",
   "pygments_lexer": "ipython3",
   "version": "3.9.12"
  }
 },
 "nbformat": 4,
 "nbformat_minor": 5
}
